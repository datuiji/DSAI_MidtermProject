{
 "cells": [
  {
   "cell_type": "markdown",
   "metadata": {
    "_uuid": "55f0ed2ac468f0eb59c24726ca0c9bdc8884c345"
   },
   "source": [
    "#### Pipline\n",
    "* load data\n",
    "* heal data and remove outliers\n",
    "* work with shops/items/cats objects and features\n",
    "* create matrix as product of item/shop pairs within each month in the train set\n",
    "* get monthly sales for each item/shop pair in the train set and merge it to the matrix\n",
    "* clip item_cnt_month by (0,20)\n",
    "* append test to the matrix, fill 34 month nans with zeros\n",
    "* merge shops/items/cats to the matrix\n",
    "* add target lag features\n",
    "* add mean encoded features\n",
    "* add price trend features\n",
    "* add month\n",
    "* add days\n",
    "* add months since last sale/months since first sale features\n",
    "* cut first year and drop columns which can not be calculated for the test set\n",
    "* select best features\n",
    "* set validation strategy 34 test, 33 validation, less than 33 train\n",
    "* fit the model, predict and clip targets for the test set"
   ]
  },
  {
   "cell_type": "markdown",
   "metadata": {
    "_uuid": "f03379ee467570732ebb2b3d20062fea0584d57d"
   },
   "source": [
    "# Part 1, perfect features"
   ]
  },
  {
   "cell_type": "code",
   "execution_count": 2,
   "metadata": {
    "_cell_guid": "b1076dfc-b9ad-4769-8c92-a6c4dae69d19",
    "_uuid": "8f2839f25d086af736a60e9eeb907d3b93b6e0e5"
   },
   "outputs": [
    {
     "data": {
      "text/plain": [
       "sys.version_info(major=3, minor=5, micro=2, releaselevel='final', serial=0)"
      ]
     },
     "execution_count": 2,
     "metadata": {},
     "output_type": "execute_result"
    }
   ],
   "source": [
    "import numpy as np\n",
    "import pandas as pd\n",
    "pd.set_option('display.max_rows', 500)\n",
    "pd.set_option('display.max_columns', 100)\n",
    "\n",
    "from itertools import product\n",
    "from sklearn.preprocessing import LabelEncoder\n",
    "from sklearn.utils import shuffle\n",
    "\n",
    "import seaborn as sns\n",
    "import matplotlib.pyplot as plt\n",
    "%matplotlib inline\n",
    "\n",
    "from xgboost import XGBRegressor\n",
    "from xgboost import plot_importance\n",
    "\n",
    "def plot_features(booster, figsize):    \n",
    "    fig, ax = plt.subplots(1,1,figsize=figsize)\n",
    "    return plot_importance(booster=booster, ax=ax)\n",
    "\n",
    "import time\n",
    "import sys\n",
    "import gc\n",
    "import pickle\n",
    "sys.version_info"
   ]
  },
  {
   "cell_type": "code",
   "execution_count": 3,
   "metadata": {
    "_uuid": "f0a1c729d4fb3d6609f9dfb163ebe92fa9dc654c"
   },
   "outputs": [],
   "source": [
    "items = pd.read_csv('items.csv')\n",
    "shops = pd.read_csv('shops.csv')\n",
    "cats = pd.read_csv('item_categories.csv')\n",
    "train = pd.read_csv('sales_train.csv')\n",
    "# set index to ID to avoid droping it later\n",
    "test  = pd.read_csv('test.csv').set_index('ID')"
   ]
  },
  {
   "cell_type": "markdown",
   "metadata": {
    "_uuid": "ed7a190645750a818e29a6291ba2553a91764c7c"
   },
   "source": [
    "## Outliers"
   ]
  },
  {
   "cell_type": "markdown",
   "metadata": {
    "_uuid": "425d8f2dc08378977b393bf80c5fdcf0fba2c992"
   },
   "source": [
    "There are items with strange prices and sales. After detailed exploration I decided to remove items with price > 100000 and sales > 1001 (1000 is ok)."
   ]
  },
  {
   "cell_type": "code",
   "execution_count": 4,
   "metadata": {
    "_uuid": "5a864412fafc3129a3e9bd5bb1f18a7cf0c62935"
   },
   "outputs": [
    {
     "data": {
      "text/plain": [
       "<matplotlib.axes._subplots.AxesSubplot at 0x7fcf82f7a9e8>"
      ]
     },
     "execution_count": 4,
     "metadata": {},
     "output_type": "execute_result"
    },
    {
     "data": {
      "image/png": "[encoded data removed]",
      "text/plain": [
       "<Figure size 720x288 with 1 Axes>"
      ]
     },
     "metadata": {
      "needs_background": "light"
     },
     "output_type": "display_data"
    },
    {
     "data": {
      "image/png": "[encoded data removed]",
      "text/plain": [
       "<Figure size 720x288 with 1 Axes>"
      ]
     },
     "metadata": {
      "needs_background": "light"
     },
     "output_type": "display_data"
    }
   ],
   "source": [
    "plt.figure(figsize=(10,4))\n",
    "plt.xlim(-100, 3000)\n",
    "sns.boxplot(x=train.item_cnt_day)\n",
    "\n",
    "plt.figure(figsize=(10,4))\n",
    "plt.xlim(train.item_price.min(), train.item_price.max()*1.1)\n",
    "sns.boxplot(x=train.item_price)"
   ]
  },
  {
   "cell_type": "code",
   "execution_count": 5,
   "metadata": {
    "_uuid": "7e621535d112603c60aeb2c2f83dbbf96d36b732"
   },
   "outputs": [],
   "source": [
    "train = train[train.item_price<100000]\n",
    "train = train[train.item_cnt_day<1001]"
   ]
  },
  {
   "cell_type": "markdown",
   "metadata": {
    "_uuid": "d2f99368478e3063b1c379537944e954d7186928"
   },
   "source": [
    "There is one item with price below zero. Fill it with median."
   ]
  },
  {
   "cell_type": "code",
   "execution_count": 6,
   "metadata": {
    "_uuid": "0fc6b90b22fe232f4240ac8f965cc52b3db5526a"
   },
   "outputs": [],
   "source": [
    "median = train[(train.shop_id==32)&(train.item_id==2973)&(train.date_block_num==4)&(train.item_price>0)].item_price.median()\n",
    "train.loc[train.item_price<0, 'item_price'] = median"
   ]
  },
  {
   "cell_type": "markdown",
   "metadata": {
    "_uuid": "7da194c285d696b5c6978148bf0143b9b2a7b0c5"
   },
   "source": [
    "Several shops are duplicates of each other (according to its name). Fix train and test set."
   ]
  },
  {
   "cell_type": "code",
   "execution_count": 7,
   "metadata": {
    "_uuid": "00fe91e9c482ea413abd774ff903fe3d152785dd"
   },
   "outputs": [],
   "source": [
    "# Якутск Орджоникидзе, 56\n",
    "train.loc[train.shop_id == 0, 'shop_id'] = 57\n",
    "test.loc[test.shop_id == 0, 'shop_id'] = 57\n",
    "# Якутск ТЦ \"Центральный\"\n",
    "train.loc[train.shop_id == 1, 'shop_id'] = 58\n",
    "test.loc[test.shop_id == 1, 'shop_id'] = 58\n",
    "# Жуковский ул. Чкалова 39м²\n",
    "train.loc[train.shop_id == 10, 'shop_id'] = 11\n",
    "test.loc[test.shop_id == 10, 'shop_id'] = 11"
   ]
  },
  {
   "cell_type": "markdown",
   "metadata": {
    "_uuid": "a30f0521464e1fa20444e66d24bbdcb76b93f6de"
   },
   "source": [
    "## Shops/Cats/Items preprocessing\n",
    "Observations:\n",
    "* Each shop_name starts with the city name.\n",
    "* Each category contains type and subtype \n",
    "in its name."
   ]
  },
  {
   "cell_type": "code",
   "execution_count": 8,
   "metadata": {
    "_uuid": "12fae4c8d0c8f3e817307d1e0ffc6831e9a8d696"
   },
   "outputs": [],
   "source": [
    "shops.loc[shops.shop_name == 'Сергиев Посад ТЦ \"7Я\"', 'shop_name'] = 'СергиевПосад ТЦ \"7Я\"'\n",
    "shops['city'] = shops['shop_name'].str.split(' ').map(lambda x: x[0])\n",
    "shops.loc[shops.city == '!Якутск', 'city'] = 'Якутск'\n",
    "shops['city_code'] = LabelEncoder().fit_transform(shops['city'])\n",
    "shops = shops[['shop_id','city_code']]\n",
    "\n",
    "cats['split'] = cats['item_category_name'].str.split('-')\n",
    "cats['type'] = cats['split'].map(lambda x: x[0].strip())\n",
    "cats['type_code'] = LabelEncoder().fit_transform(cats['type'])\n",
    "# if subtype is nan then type\n",
    "cats['subtype'] = cats['split'].map(lambda x: x[1].strip() if len(x) > 1 else x[0].strip())\n",
    "cats['subtype_code'] = LabelEncoder().fit_transform(cats['subtype'])\n",
    "cats = cats[['item_category_id','type_code', 'subtype_code']]\n",
    "\n",
    "items.drop(['item_name'], axis=1, inplace=True)"
   ]
  },
  {
   "cell_type": "markdown",
   "metadata": {
    "_uuid": "62c5f83fa222595da99294f465ab28e80ce415e9"
   },
   "source": [
    "## Monthly sales\n",
    "Test set is a product of some shops and some items within 34 month. There are 5100 items * 42 shops = 214200 pairs. 363 items are new compared to the train. Hence, for the most of the items in the test set target value should be zero. \n",
    "In the other hand train set contains only pairs which were sold or returned in the past. Tha main idea is to calculate monthly sales and <b>extend it with zero sales</b> for each unique pair within the month. This way train data will be similar to test data."
   ]
  },
  {
   "cell_type": "code",
   "execution_count": 9,
   "metadata": {
    "_uuid": "fb69350aef2c28cdb619e2532de1e24ab3c43899"
   },
   "outputs": [
    {
     "data": {
      "text/plain": [
       "(363, 5100, 214200)"
      ]
     },
     "execution_count": 9,
     "metadata": {},
     "output_type": "execute_result"
    }
   ],
   "source": [
    "len(list(set(test.item_id) - set(test.item_id).intersection(set(train.item_id)))), len(list(set(test.item_id))), len(test)"
   ]
  },
  {
   "cell_type": "code",
   "execution_count": 10,
   "metadata": {
    "_uuid": "7626c7455ea71b65894c6c866519df15080fa2ac"
   },
   "outputs": [
    {
     "data": {
      "text/plain": [
       "21.306561708450317"
      ]
     },
     "execution_count": 10,
     "metadata": {},
     "output_type": "execute_result"
    }
   ],
   "source": [
    "ts = time.time()\n",
    "matrix = []\n",
    "cols = ['date_block_num','shop_id','item_id']\n",
    "for i in range(34):\n",
    "    sales = train[train.date_block_num==i]\n",
    "    matrix.append(np.array(list(product([i], sales.shop_id.unique(), sales.item_id.unique())), dtype='int16'))\n",
    "    \n",
    "matrix = pd.DataFrame(np.vstack(matrix), columns=cols)\n",
    "matrix['date_block_num'] = matrix['date_block_num'].astype(np.int8)\n",
    "matrix['shop_id'] = matrix['shop_id'].astype(np.int8)\n",
    "matrix['item_id'] = matrix['item_id'].astype(np.int16)\n",
    "matrix.sort_values(cols,inplace=True)\n",
    "time.time() - ts"
   ]
  },
  {
   "cell_type": "markdown",
   "metadata": {
    "_uuid": "867e91a7570dd78b4834f4f1a166e58f80b63f93"
   },
   "source": [
    "Aggregate train set by shop/item pairs to calculate target aggreagates, then <b>clip(0,20)</b> target value. This way train target will be similar to the test predictions.\n",
    "\n",
    "<i>I use floats instead of ints for item_cnt_month to avoid downcasting it after concatination with the test set later. If it would be int16, after concatination with NaN values it becomes int64, but foat16 becomes float16 even with NaNs.</i>"
   ]
  },
  {
   "cell_type": "code",
   "execution_count": 11,
   "metadata": {
    "_uuid": "9fef5477060be7d2e6c85dcb79d8e18e6253f7dd"
   },
   "outputs": [],
   "source": [
    "train['revenue'] = train['item_price'] *  train['item_cnt_day']"
   ]
  },
  {
   "cell_type": "code",
   "execution_count": 12,
   "metadata": {
    "_uuid": "7dd27181918fc7df89676e24d72130d183929d2d"
   },
   "outputs": [
    {
     "data": {
      "text/plain": [
       "11.450082540512085"
      ]
     },
     "execution_count": 12,
     "metadata": {},
     "output_type": "execute_result"
    }
   ],
   "source": [
    "ts = time.time()\n",
    "group = train.groupby(['date_block_num','shop_id','item_id']).agg({'item_cnt_day': ['sum']})\n",
    "group.columns = ['item_cnt_month']\n",
    "group.reset_index(inplace=True)\n",
    "\n",
    "matrix = pd.merge(matrix, group, on=cols, how='left')\n",
    "matrix['item_cnt_month'] = (matrix['item_cnt_month']\n",
    "                                .fillna(0)\n",
    "                                .clip(0,20) # NB clip target here\n",
    "                                .astype(np.float16))\n",
    "time.time() - ts"
   ]
  },
  {
   "cell_type": "markdown",
   "metadata": {
    "_uuid": "315bc6107a93f3926a64fd09ea9244e9281ee41f"
   },
   "source": [
    "## Test set\n",
    "To use time tricks append test pairs to the matrix."
   ]
  },
  {
   "cell_type": "code",
   "execution_count": 13,
   "metadata": {
    "_uuid": "29d02bdb4fa768577607bf735b918ca81da85d41"
   },
   "outputs": [],
   "source": [
    "test['date_block_num'] = 34\n",
    "test['date_block_num'] = test['date_block_num'].astype(np.int8)\n",
    "test['shop_id'] = test['shop_id'].astype(np.int8)\n",
    "test['item_id'] = test['item_id'].astype(np.int16)"
   ]
  },
  {
   "cell_type": "code",
   "execution_count": 14,
   "metadata": {
    "_uuid": "177fbbab94c8057d67d61357d29581248468a74d"
   },
   "outputs": [
    {
     "data": {
      "text/plain": [
       "0.1727290153503418"
      ]
     },
     "execution_count": 14,
     "metadata": {},
     "output_type": "execute_result"
    }
   ],
   "source": [
    "ts = time.time()\n",
    "matrix = pd.concat([matrix, test], ignore_index=True, sort=False, keys=cols)\n",
    "matrix.fillna(0, inplace=True) # 34 month\n",
    "time.time() - ts"
   ]
  },
  {
   "cell_type": "markdown",
   "metadata": {
    "_uuid": "233e394a6cebf36ef002dc76fef8d430026a52b3"
   },
   "source": [
    "## Shops/Items/Cats features"
   ]
  },
  {
   "cell_type": "code",
   "execution_count": 15,
   "metadata": {
    "_uuid": "7dfd5df3e2bcaee4c312f3979736f52c40f2560f"
   },
   "outputs": [
    {
     "data": {
      "text/plain": [
       "10.038388729095459"
      ]
     },
     "execution_count": 15,
     "metadata": {},
     "output_type": "execute_result"
    }
   ],
   "source": [
    "ts = time.time()\n",
    "matrix = pd.merge(matrix, shops, on=['shop_id'], how='left')\n",
    "matrix = pd.merge(matrix, items, on=['item_id'], how='left')\n",
    "matrix = pd.merge(matrix, cats, on=['item_category_id'], how='left')\n",
    "matrix['city_code'] = matrix['city_code'].astype(np.int8)\n",
    "matrix['item_category_id'] = matrix['item_category_id'].astype(np.int8)\n",
    "matrix['type_code'] = matrix['type_code'].astype(np.int8)\n",
    "matrix['subtype_code'] = matrix['subtype_code'].astype(np.int8)\n",
    "time.time() - ts"
   ]
  },
  {
   "cell_type": "markdown",
   "metadata": {
    "_uuid": "8358b291fdc8e0e7d1b5700974803b3f104715f7"
   },
   "source": [
    "## Traget lags"
   ]
  },
  {
   "cell_type": "code",
   "execution_count": 16,
   "metadata": {
    "_uuid": "9cd7bcc7643ce4545475e8e6f80d09a979aac42d"
   },
   "outputs": [],
   "source": [
    "def lag_feature(df, lags, col):\n",
    "    tmp = df[['date_block_num','shop_id','item_id',col]]\n",
    "    for i in lags:\n",
    "        shifted = tmp.copy()\n",
    "        shifted.columns = ['date_block_num','shop_id','item_id', col+'_lag_'+str(i)]\n",
    "        shifted['date_block_num'] += i\n",
    "        df = pd.merge(df, shifted, on=['date_block_num','shop_id','item_id'], how='left')\n",
    "    return df"
   ]
  },
  {
   "cell_type": "code",
   "execution_count": 17,
   "metadata": {
    "_uuid": "78bf7ece93ebc4629ad0e48cd6a9927788d8706d"
   },
   "outputs": [
    {
     "data": {
      "text/plain": [
       "173.63204526901245"
      ]
     },
     "execution_count": 17,
     "metadata": {},
     "output_type": "execute_result"
    }
   ],
   "source": [
    "ts = time.time()\n",
    "matrix = lag_feature(matrix, [1,2,3,4,5,6,7,8,9,10,11,12], 'item_cnt_month')\n",
    "time.time() - ts"
   ]
  },
  {
   "cell_type": "markdown",
   "metadata": {
    "_uuid": "c67bf4dbcef884ffe9d19c65d37bc4de1f287ef6"
   },
   "source": [
    "## Mean encoded features"
   ]
  },
  {
   "cell_type": "code",
   "execution_count": 18,
   "metadata": {
    "_uuid": "763aca242154ea10fa0a62fffadb4ef90e9532d6"
   },
   "outputs": [
    {
     "data": {
      "text/plain": [
       "22.619672536849976"
      ]
     },
     "execution_count": 18,
     "metadata": {},
     "output_type": "execute_result"
    }
   ],
   "source": [
    "ts = time.time()\n",
    "group = matrix.groupby(['date_block_num']).agg({'item_cnt_month': ['mean']})\n",
    "group.columns = [ 'date_avg_item_cnt' ]\n",
    "group.reset_index(inplace=True)\n",
    "\n",
    "matrix = pd.merge(matrix, group, on=['date_block_num'], how='left')\n",
    "matrix['date_avg_item_cnt'] = matrix['date_avg_item_cnt'].astype(np.float16)\n",
    "matrix = lag_feature(matrix, [1], 'date_avg_item_cnt')\n",
    "matrix.drop(['date_avg_item_cnt'], axis=1, inplace=True)\n",
    "time.time() - ts"
   ]
  },
  {
   "cell_type": "code",
   "execution_count": 19,
   "metadata": {
    "_uuid": "fc9166c4e678ebb99d03566f1751b7d4b5c690d2"
   },
   "outputs": [
    {
     "data": {
      "text/plain": [
       "202.63017678260803"
      ]
     },
     "execution_count": 19,
     "metadata": {},
     "output_type": "execute_result"
    }
   ],
   "source": [
    "ts = time.time()\n",
    "group = matrix.groupby(['date_block_num', 'item_id']).agg({'item_cnt_month': ['mean']})\n",
    "group.columns = [ 'date_item_avg_item_cnt' ]\n",
    "group.reset_index(inplace=True)\n",
    "\n",
    "matrix = pd.merge(matrix, group, on=['date_block_num','item_id'], how='left')\n",
    "matrix['date_item_avg_item_cnt'] = matrix['date_item_avg_item_cnt'].astype(np.float16)\n",
    "matrix = lag_feature(matrix, [1,2,3,4,5,6,7,8,9,10,11,12], 'date_item_avg_item_cnt')\n",
    "matrix.drop(['date_item_avg_item_cnt'], axis=1, inplace=True)\n",
    "time.time() - ts"
   ]
  },
  {
   "cell_type": "code",
   "execution_count": 20,
   "metadata": {
    "_uuid": "73f2552c403c5f67bbf07f28d69efcc015d00f32"
   },
   "outputs": [
    {
     "data": {
      "text/plain": [
       "207.1258201599121"
      ]
     },
     "execution_count": 20,
     "metadata": {},
     "output_type": "execute_result"
    }
   ],
   "source": [
    "ts = time.time()\n",
    "group = matrix.groupby(['date_block_num', 'shop_id']).agg({'item_cnt_month': ['mean']})\n",
    "group.columns = [ 'date_shop_avg_item_cnt' ]\n",
    "group.reset_index(inplace=True)\n",
    "\n",
    "matrix = pd.merge(matrix, group, on=['date_block_num','shop_id'], how='left')\n",
    "matrix['date_shop_avg_item_cnt'] = matrix['date_shop_avg_item_cnt'].astype(np.float16)\n",
    "matrix = lag_feature(matrix, [1,2,3,4,5,6,7,8,9,10,11,12], 'date_shop_avg_item_cnt')\n",
    "matrix.drop(['date_shop_avg_item_cnt'], axis=1, inplace=True)\n",
    "time.time() - ts"
   ]
  },
  {
   "cell_type": "code",
   "execution_count": 21,
   "metadata": {
    "_uuid": "c3948a9b206bc480b31385c29a713aa49747de19"
   },
   "outputs": [
    {
     "data": {
      "text/plain": [
       "34.881725549697876"
      ]
     },
     "execution_count": 21,
     "metadata": {},
     "output_type": "execute_result"
    }
   ],
   "source": [
    "ts = time.time()\n",
    "group = matrix.groupby(['date_block_num', 'item_category_id']).agg({'item_cnt_month': ['mean']})\n",
    "group.columns = [ 'date_cat_avg_item_cnt' ]\n",
    "group.reset_index(inplace=True)\n",
    "\n",
    "matrix = pd.merge(matrix, group, on=['date_block_num','item_category_id'], how='left')\n",
    "matrix['date_cat_avg_item_cnt'] = matrix['date_cat_avg_item_cnt'].astype(np.float16)\n",
    "matrix = lag_feature(matrix, [1], 'date_cat_avg_item_cnt')\n",
    "matrix.drop(['date_cat_avg_item_cnt'], axis=1, inplace=True)\n",
    "time.time() - ts"
   ]
  },
  {
   "cell_type": "code",
   "execution_count": 22,
   "metadata": {
    "_uuid": "bf98335755692f0d7666eeac2db1961692f09a16"
   },
   "outputs": [
    {
     "data": {
      "text/plain": [
       "34.28597378730774"
      ]
     },
     "execution_count": 22,
     "metadata": {},
     "output_type": "execute_result"
    }
   ],
   "source": [
    "ts = time.time()\n",
    "group = matrix.groupby(['date_block_num', 'shop_id', 'item_category_id']).agg({'item_cnt_month': ['mean']})\n",
    "group.columns = ['date_shop_cat_avg_item_cnt']\n",
    "group.reset_index(inplace=True)\n",
    "\n",
    "matrix = pd.merge(matrix, group, on=['date_block_num', 'shop_id', 'item_category_id'], how='left')\n",
    "matrix['date_shop_cat_avg_item_cnt'] = matrix['date_shop_cat_avg_item_cnt'].astype(np.float16)\n",
    "matrix = lag_feature(matrix, [1], 'date_shop_cat_avg_item_cnt')\n",
    "matrix.drop(['date_shop_cat_avg_item_cnt'], axis=1, inplace=True)\n",
    "time.time() - ts"
   ]
  },
  {
   "cell_type": "code",
   "execution_count": 23,
   "metadata": {
    "_uuid": "3959603ea684eb3cbfd17d557399caa6e9da88e4"
   },
   "outputs": [
    {
     "data": {
      "text/plain": [
       "35.641414165496826"
      ]
     },
     "execution_count": 23,
     "metadata": {},
     "output_type": "execute_result"
    }
   ],
   "source": [
    "ts = time.time()\n",
    "group = matrix.groupby(['date_block_num', 'shop_id', 'type_code']).agg({'item_cnt_month': ['mean']})\n",
    "group.columns = ['date_shop_type_avg_item_cnt']\n",
    "group.reset_index(inplace=True)\n",
    "\n",
    "matrix = pd.merge(matrix, group, on=['date_block_num', 'shop_id', 'type_code'], how='left')\n",
    "matrix['date_shop_type_avg_item_cnt'] = matrix['date_shop_type_avg_item_cnt'].astype(np.float16)\n",
    "matrix = lag_feature(matrix, [1], 'date_shop_type_avg_item_cnt')\n",
    "matrix.drop(['date_shop_type_avg_item_cnt'], axis=1, inplace=True)\n",
    "time.time() - ts"
   ]
  },
  {
   "cell_type": "code",
   "execution_count": 24,
   "metadata": {
    "_uuid": "39f66d2e30f691237aa5d41ff9fc3a0eb7e9a788"
   },
   "outputs": [
    {
     "data": {
      "text/plain": [
       "35.86189651489258"
      ]
     },
     "execution_count": 24,
     "metadata": {},
     "output_type": "execute_result"
    }
   ],
   "source": [
    "ts = time.time()\n",
    "group = matrix.groupby(['date_block_num', 'shop_id', 'subtype_code']).agg({'item_cnt_month': ['mean']})\n",
    "group.columns = ['date_shop_subtype_avg_item_cnt']\n",
    "group.reset_index(inplace=True)\n",
    "\n",
    "matrix = pd.merge(matrix, group, on=['date_block_num', 'shop_id', 'subtype_code'], how='left')\n",
    "matrix['date_shop_subtype_avg_item_cnt'] = matrix['date_shop_subtype_avg_item_cnt'].astype(np.float16)\n",
    "matrix = lag_feature(matrix, [1], 'date_shop_subtype_avg_item_cnt')\n",
    "matrix.drop(['date_shop_subtype_avg_item_cnt'], axis=1, inplace=True)\n",
    "time.time() - ts"
   ]
  },
  {
   "cell_type": "code",
   "execution_count": 25,
   "metadata": {
    "_uuid": "87d57d01beb0830138dabae79b4022d4c6a9cc12"
   },
   "outputs": [
    {
     "data": {
      "text/plain": [
       "35.004984855651855"
      ]
     },
     "execution_count": 25,
     "metadata": {},
     "output_type": "execute_result"
    }
   ],
   "source": [
    "ts = time.time()\n",
    "group = matrix.groupby(['date_block_num', 'city_code']).agg({'item_cnt_month': ['mean']})\n",
    "group.columns = [ 'date_city_avg_item_cnt' ]\n",
    "group.reset_index(inplace=True)\n",
    "\n",
    "matrix = pd.merge(matrix, group, on=['date_block_num', 'city_code'], how='left')\n",
    "matrix['date_city_avg_item_cnt'] = matrix['date_city_avg_item_cnt'].astype(np.float16)\n",
    "matrix = lag_feature(matrix, [1], 'date_city_avg_item_cnt')\n",
    "matrix.drop(['date_city_avg_item_cnt'], axis=1, inplace=True)\n",
    "time.time() - ts"
   ]
  },
  {
   "cell_type": "code",
   "execution_count": 26,
   "metadata": {
    "_uuid": "db1f0170ec4a6fd9894bc53b36f3166d4b26abcf"
   },
   "outputs": [
    {
     "data": {
      "text/plain": [
       "48.1858012676239"
      ]
     },
     "execution_count": 26,
     "metadata": {},
     "output_type": "execute_result"
    }
   ],
   "source": [
    "ts = time.time()\n",
    "group = matrix.groupby(['date_block_num', 'item_id', 'city_code']).agg({'item_cnt_month': ['mean']})\n",
    "group.columns = [ 'date_item_city_avg_item_cnt' ]\n",
    "group.reset_index(inplace=True)\n",
    "\n",
    "matrix = pd.merge(matrix, group, on=['date_block_num', 'item_id', 'city_code'], how='left')\n",
    "matrix['date_item_city_avg_item_cnt'] = matrix['date_item_city_avg_item_cnt'].astype(np.float16)\n",
    "matrix = lag_feature(matrix, [1], 'date_item_city_avg_item_cnt')\n",
    "matrix.drop(['date_item_city_avg_item_cnt'], axis=1, inplace=True)\n",
    "time.time() - ts"
   ]
  },
  {
   "cell_type": "code",
   "execution_count": 27,
   "metadata": {
    "_uuid": "3cd5232ad63357dacebe9d223cc93dd669132bb7"
   },
   "outputs": [
    {
     "data": {
      "text/plain": [
       "35.68622708320618"
      ]
     },
     "execution_count": 27,
     "metadata": {},
     "output_type": "execute_result"
    }
   ],
   "source": [
    "ts = time.time()\n",
    "group = matrix.groupby(['date_block_num', 'type_code']).agg({'item_cnt_month': ['mean']})\n",
    "group.columns = [ 'date_type_avg_item_cnt' ]\n",
    "group.reset_index(inplace=True)\n",
    "\n",
    "matrix = pd.merge(matrix, group, on=['date_block_num', 'type_code'], how='left')\n",
    "matrix['date_type_avg_item_cnt'] = matrix['date_type_avg_item_cnt'].astype(np.float16)\n",
    "matrix = lag_feature(matrix, [1], 'date_type_avg_item_cnt')\n",
    "matrix.drop(['date_type_avg_item_cnt'], axis=1, inplace=True)\n",
    "time.time() - ts"
   ]
  },
  {
   "cell_type": "code",
   "execution_count": 28,
   "metadata": {
    "_uuid": "00394f3694ae9c7093176eadac7abeaa79ff5467"
   },
   "outputs": [
    {
     "data": {
      "text/plain": [
       "36.3863570690155"
      ]
     },
     "execution_count": 28,
     "metadata": {},
     "output_type": "execute_result"
    }
   ],
   "source": [
    "ts = time.time()\n",
    "group = matrix.groupby(['date_block_num', 'subtype_code']).agg({'item_cnt_month': ['mean']})\n",
    "group.columns = [ 'date_subtype_avg_item_cnt' ]\n",
    "group.reset_index(inplace=True)\n",
    "\n",
    "matrix = pd.merge(matrix, group, on=['date_block_num', 'subtype_code'], how='left')\n",
    "matrix['date_subtype_avg_item_cnt'] = matrix['date_subtype_avg_item_cnt'].astype(np.float16)\n",
    "matrix = lag_feature(matrix, [1], 'date_subtype_avg_item_cnt')\n",
    "matrix.drop(['date_subtype_avg_item_cnt'], axis=1, inplace=True)\n",
    "time.time() - ts"
   ]
  },
  {
   "cell_type": "markdown",
   "metadata": {
    "_uuid": "6bcea31d93ab035ca3fa1ed7c0afddbf602c414a"
   },
   "source": [
    "## Trend features"
   ]
  },
  {
   "cell_type": "markdown",
   "metadata": {
    "_uuid": "0504e9613087237c255914d9ebd165fac4e88cd0"
   },
   "source": [
    "Price trend for the last six months."
   ]
  },
  {
   "cell_type": "code",
   "execution_count": 29,
   "metadata": {
    "_uuid": "0da2ded8502e273137991fd2bebbadaf19c19622"
   },
   "outputs": [
    {
     "data": {
      "text/plain": [
       "237.3567497730255"
      ]
     },
     "execution_count": 29,
     "metadata": {},
     "output_type": "execute_result"
    }
   ],
   "source": [
    "ts = time.time()\n",
    "group = train.groupby(['item_id']).agg({'item_price': ['mean']})\n",
    "group.columns = ['item_avg_item_price']\n",
    "group.reset_index(inplace=True)\n",
    "\n",
    "matrix = pd.merge(matrix, group, on=['item_id'], how='left')\n",
    "matrix['item_avg_item_price'] = matrix['item_avg_item_price'].astype(np.float16)\n",
    "\n",
    "group = train.groupby(['date_block_num','item_id']).agg({'item_price': ['mean']})\n",
    "group.columns = ['date_item_avg_item_price']\n",
    "group.reset_index(inplace=True)\n",
    "\n",
    "matrix = pd.merge(matrix, group, on=['date_block_num','item_id'], how='left')\n",
    "matrix['date_item_avg_item_price'] = matrix['date_item_avg_item_price'].astype(np.float16)\n",
    "\n",
    "lags = [1,2,3,4,5,6,7,8,9,10,11,12]\n",
    "matrix = lag_feature(matrix, lags, 'date_item_avg_item_price')\n",
    "\n",
    "for i in lags:\n",
    "    matrix['delta_price_lag_'+str(i)] = \\\n",
    "        (matrix['date_item_avg_item_price_lag_'+str(i)] - matrix['item_avg_item_price']) / matrix['item_avg_item_price']\n",
    "\n",
    "def select_trend(row):\n",
    "    for i in lags:\n",
    "        if row['delta_price_lag_'+str(i)]:\n",
    "            return row['delta_price_lag_'+str(i)]\n",
    "    return 0\n",
    "    \n",
    "#matrix['delta_price_lag'] = matrix.apply(select_trend, axis=1)\n",
    "for i in lags:\n",
    "    matrix['delta_price_lag_'+str(i)] = matrix['delta_price_lag_'+str(i)].astype(np.float16)\n",
    "    matrix['delta_price_lag_'+str(i)].fillna(0, inplace=True)\n",
    "\n",
    "# https://stackoverflow.com/questions/31828240/first-non-null-value-per-row-from-a-list-of-pandas-columns/31828559\n",
    "# matrix['price_trend'] = matrix[['delta_price_lag_1','delta_price_lag_2','delta_price_lag_3']].bfill(axis=1).iloc[:, 0]\n",
    "# Invalid dtype for backfill_2d [float16]\n",
    "\n",
    "fetures_to_drop = ['item_avg_item_price', 'date_item_avg_item_price']\n",
    "for i in lags:\n",
    "    fetures_to_drop += ['date_item_avg_item_price_lag_'+str(i)]\n",
    "    #fetures_to_drop += ['delta_price_lag_'+str(i)]\n",
    "\n",
    "matrix.drop(fetures_to_drop, axis=1, inplace=True)\n",
    "\n",
    "time.time() - ts"
   ]
  },
  {
   "cell_type": "markdown",
   "metadata": {
    "_uuid": "17765ddb48f52abd88847a42c0a3ffe974e5b121"
   },
   "source": [
    "Last month shop revenue trend"
   ]
  },
  {
   "cell_type": "code",
   "execution_count": 30,
   "metadata": {
    "_uuid": "e633be47f1a22b41487866ce67fb874bd296339e"
   },
   "outputs": [
    {
     "data": {
      "text/plain": [
       "48.85731077194214"
      ]
     },
     "execution_count": 30,
     "metadata": {},
     "output_type": "execute_result"
    }
   ],
   "source": [
    "ts = time.time()\n",
    "group = train.groupby(['date_block_num','shop_id']).agg({'revenue': ['sum']})\n",
    "group.columns = ['date_shop_revenue']\n",
    "group.reset_index(inplace=True)\n",
    "\n",
    "matrix = pd.merge(matrix, group, on=['date_block_num','shop_id'], how='left')\n",
    "matrix['date_shop_revenue'] = matrix['date_shop_revenue'].astype(np.float32)\n",
    "\n",
    "group = group.groupby(['shop_id']).agg({'date_shop_revenue': ['mean']})\n",
    "group.columns = ['shop_avg_revenue']\n",
    "group.reset_index(inplace=True)\n",
    "\n",
    "matrix = pd.merge(matrix, group, on=['shop_id'], how='left')\n",
    "matrix['shop_avg_revenue'] = matrix['shop_avg_revenue'].astype(np.float32)\n",
    "\n",
    "matrix['delta_revenue'] = (matrix['date_shop_revenue'] - matrix['shop_avg_revenue']) / matrix['shop_avg_revenue']\n",
    "matrix['delta_revenue'] = matrix['delta_revenue'].astype(np.float16)\n",
    "\n",
    "matrix = lag_feature(matrix, [1], 'delta_revenue')\n",
    "\n",
    "matrix.drop(['date_shop_revenue','shop_avg_revenue','delta_revenue'], axis=1, inplace=True)\n",
    "time.time() - ts"
   ]
  },
  {
   "cell_type": "markdown",
   "metadata": {
    "_uuid": "47e06af411b7d26cd93dad3d6735e48e5fbdee50"
   },
   "source": [
    "## Special features"
   ]
  },
  {
   "cell_type": "code",
   "execution_count": 31,
   "metadata": {
    "_uuid": "bb521e1f33d4124a3b90b47447bdb29150770b6e"
   },
   "outputs": [],
   "source": [
    "matrix['month'] = matrix['date_block_num'] % 12"
   ]
  },
  {
   "cell_type": "markdown",
   "metadata": {
    "_uuid": "b4dc4d2ff86483989c4b74fc02a0d01ca68a5c75"
   },
   "source": [
    "Number of days in a month. There are no leap years."
   ]
  },
  {
   "cell_type": "code",
   "execution_count": 32,
   "metadata": {
    "_uuid": "e23f0201056b73368e3b70d4c36c6bb9e4a55291"
   },
   "outputs": [],
   "source": [
    "days = pd.Series([31,28,31,30,31,30,31,31,30,31,30,31])\n",
    "matrix['days'] = matrix['month'].map(days).astype(np.int8)"
   ]
  },
  {
   "cell_type": "markdown",
   "metadata": {
    "_uuid": "7c096e86eb0043c0f6eeb899de24e28ca4c4e044"
   },
   "source": [
    "Months since the last sale for each shop/item pair and for item only. I use programing approach.\n",
    "\n",
    "<i>Create HashTable with key equals to {shop_id,item_id} and value equals to date_block_num. Iterate data from the top. For each row if {row.shop_id,row.item_id} is not present in the table, then add it to the table and set its value to row.date_block_num. if HashTable contains key, then calculate the difference beteween cached value and row.date_block_num.</i>"
   ]
  },
  {
   "cell_type": "code",
   "execution_count": 33,
   "metadata": {
    "_uuid": "3458a7056c963167760921417d1f863f074f2b39"
   },
   "outputs": [
    {
     "data": {
      "text/plain": [
       "2342.6452503204346"
      ]
     },
     "execution_count": 33,
     "metadata": {},
     "output_type": "execute_result"
    }
   ],
   "source": [
    "ts = time.time()\n",
    "cache = {}\n",
    "matrix['item_shop_last_sale'] = -1\n",
    "matrix['item_shop_last_sale'] = matrix['item_shop_last_sale'].astype(np.int8)\n",
    "for idx, row in matrix.iterrows():    \n",
    "    key = str(row.item_id)+' '+str(row.shop_id)\n",
    "    if key not in cache:\n",
    "        if row.item_cnt_month!=0:\n",
    "            cache[key] = row.date_block_num\n",
    "    else:\n",
    "        last_date_block_num = cache[key]\n",
    "        matrix.at[idx, 'item_shop_last_sale'] = row.date_block_num - last_date_block_num\n",
    "        cache[key] = row.date_block_num         \n",
    "time.time() - ts"
   ]
  },
  {
   "cell_type": "code",
   "execution_count": 34,
   "metadata": {
    "_uuid": "28b29fae3906d870b4dc3064a7f359b6d3abf623"
   },
   "outputs": [
    {
     "data": {
      "text/plain": [
       "1538.5925340652466"
      ]
     },
     "execution_count": 34,
     "metadata": {},
     "output_type": "execute_result"
    }
   ],
   "source": [
    "ts = time.time()\n",
    "cache = {}\n",
    "matrix['item_last_sale'] = -1\n",
    "matrix['item_last_sale'] = matrix['item_last_sale'].astype(np.int8)\n",
    "for idx, row in matrix.iterrows():    \n",
    "    key = row.item_id\n",
    "    if key not in cache:\n",
    "        if row.item_cnt_month!=0:\n",
    "            cache[key] = row.date_block_num\n",
    "    else:\n",
    "        last_date_block_num = cache[key]\n",
    "        if row.date_block_num>last_date_block_num:\n",
    "            matrix.at[idx, 'item_last_sale'] = row.date_block_num - last_date_block_num\n",
    "            cache[key] = row.date_block_num         \n",
    "time.time() - ts"
   ]
  },
  {
   "cell_type": "markdown",
   "metadata": {
    "_uuid": "61987e6adc1bec2ea897eec837c0253f7f73fdb5"
   },
   "source": [
    "Months since the first sale for each shop/item pair and for item only."
   ]
  },
  {
   "cell_type": "code",
   "execution_count": 35,
   "metadata": {
    "_uuid": "ad0869709bbada35726d5ca41dd913d817249f8e"
   },
   "outputs": [
    {
     "data": {
      "text/plain": [
       "3.4961798191070557"
      ]
     },
     "execution_count": 35,
     "metadata": {},
     "output_type": "execute_result"
    }
   ],
   "source": [
    "ts = time.time()\n",
    "matrix['item_shop_first_sale'] = matrix['date_block_num'] - matrix.groupby(['item_id','shop_id'])['date_block_num'].transform('min')\n",
    "matrix['item_first_sale'] = matrix['date_block_num'] - matrix.groupby('item_id')['date_block_num'].transform('min')\n",
    "time.time() - ts"
   ]
  },
  {
   "cell_type": "markdown",
   "metadata": {
    "_uuid": "966cb34ccfe849fbb3707d93270691cb8eef7a89"
   },
   "source": [
    "## Final preparations\n",
    "Because of the using 12 as lag value drop first 12 months. Also drop all the columns with this month calculated values (other words which can not be calcucated for the test set)."
   ]
  },
  {
   "cell_type": "code",
   "execution_count": 36,
   "metadata": {
    "_uuid": "04df1bc4240f409a5d4521c6f70c2ced44f7c3d4"
   },
   "outputs": [],
   "source": [
    "#matrix = matrix[matrix.date_block_num > 11]"
   ]
  },
  {
   "cell_type": "markdown",
   "metadata": {
    "_uuid": "48a14784050901f878b40f093e4bc34e07ecce05"
   },
   "source": [
    "Producing lags brings a lot of nulls."
   ]
  },
  {
   "cell_type": "code",
   "execution_count": 37,
   "metadata": {
    "_uuid": "8e5d8cb5cea9be28af4a0486cc1bf797e5b5c7ee"
   },
   "outputs": [
    {
     "data": {
      "text/plain": [
       "22.132708311080933"
      ]
     },
     "execution_count": 37,
     "metadata": {},
     "output_type": "execute_result"
    }
   ],
   "source": [
    "ts = time.time()\n",
    "def fill_na(df):\n",
    "    for col in df.columns:\n",
    "        if ('_lag_' in col) & (df[col].isnull().any()):\n",
    "            if ('item_cnt' in col):\n",
    "                df[col].fillna(0, inplace=True)         \n",
    "    return df\n",
    "\n",
    "matrix = fill_na(matrix)\n",
    "time.time() - ts"
   ]
  },
  {
   "cell_type": "code",
   "execution_count": 38,
   "metadata": {
    "_uuid": "00bf3fffc1b143d0555d03b9d79b5fd00d9d0dc9"
   },
   "outputs": [
    {
     "data": {
      "text/plain": [
       "Index(['date_block_num', 'shop_id', 'item_id', 'item_cnt_month', 'city_code',\n",
       "       'item_category_id', 'type_code', 'subtype_code', 'item_cnt_month_lag_1',\n",
       "       'item_cnt_month_lag_2', 'item_cnt_month_lag_3', 'item_cnt_month_lag_4',\n",
       "       'item_cnt_month_lag_5', 'item_cnt_month_lag_6', 'item_cnt_month_lag_7',\n",
       "       'item_cnt_month_lag_8', 'item_cnt_month_lag_9', 'item_cnt_month_lag_10',\n",
       "       'item_cnt_month_lag_11', 'item_cnt_month_lag_12',\n",
       "       'date_avg_item_cnt_lag_1', 'date_item_avg_item_cnt_lag_1',\n",
       "       'date_item_avg_item_cnt_lag_2', 'date_item_avg_item_cnt_lag_3',\n",
       "       'date_item_avg_item_cnt_lag_4', 'date_item_avg_item_cnt_lag_5',\n",
       "       'date_item_avg_item_cnt_lag_6', 'date_item_avg_item_cnt_lag_7',\n",
       "       'date_item_avg_item_cnt_lag_8', 'date_item_avg_item_cnt_lag_9',\n",
       "       'date_item_avg_item_cnt_lag_10', 'date_item_avg_item_cnt_lag_11',\n",
       "       'date_item_avg_item_cnt_lag_12', 'date_shop_avg_item_cnt_lag_1',\n",
       "       'date_shop_avg_item_cnt_lag_2', 'date_shop_avg_item_cnt_lag_3',\n",
       "       'date_shop_avg_item_cnt_lag_4', 'date_shop_avg_item_cnt_lag_5',\n",
       "       'date_shop_avg_item_cnt_lag_6', 'date_shop_avg_item_cnt_lag_7',\n",
       "       'date_shop_avg_item_cnt_lag_8', 'date_shop_avg_item_cnt_lag_9',\n",
       "       'date_shop_avg_item_cnt_lag_10', 'date_shop_avg_item_cnt_lag_11',\n",
       "       'date_shop_avg_item_cnt_lag_12', 'date_cat_avg_item_cnt_lag_1',\n",
       "       'date_shop_cat_avg_item_cnt_lag_1', 'date_shop_type_avg_item_cnt_lag_1',\n",
       "       'date_shop_subtype_avg_item_cnt_lag_1', 'date_city_avg_item_cnt_lag_1',\n",
       "       'date_item_city_avg_item_cnt_lag_1', 'date_type_avg_item_cnt_lag_1',\n",
       "       'date_subtype_avg_item_cnt_lag_1', 'delta_price_lag_1',\n",
       "       'delta_price_lag_2', 'delta_price_lag_3', 'delta_price_lag_4',\n",
       "       'delta_price_lag_5', 'delta_price_lag_6', 'delta_price_lag_7',\n",
       "       'delta_price_lag_8', 'delta_price_lag_9', 'delta_price_lag_10',\n",
       "       'delta_price_lag_11', 'delta_price_lag_12', 'delta_revenue_lag_1',\n",
       "       'month', 'days', 'item_shop_last_sale', 'item_last_sale',\n",
       "       'item_shop_first_sale', 'item_first_sale'],\n",
       "      dtype='object')"
      ]
     },
     "execution_count": 38,
     "metadata": {},
     "output_type": "execute_result"
    }
   ],
   "source": [
    "matrix.columns"
   ]
  },
  {
   "cell_type": "code",
   "execution_count": 39,
   "metadata": {
    "_uuid": "5f4e4c5c552daf8d4da6999ae4b63f13459b2887"
   },
   "outputs": [
    {
     "name": "stdout",
     "output_type": "stream",
     "text": [
      "<class 'pandas.core.frame.DataFrame'>\n",
      "Int64Index: 11128004 entries, 0 to 11128003\n",
      "Data columns (total 72 columns):\n",
      "date_block_num                          int8\n",
      "shop_id                                 int8\n",
      "item_id                                 int16\n",
      "item_cnt_month                          float16\n",
      "city_code                               int8\n",
      "item_category_id                        int8\n",
      "type_code                               int8\n",
      "subtype_code                            int8\n",
      "item_cnt_month_lag_1                    float16\n",
      "item_cnt_month_lag_2                    float16\n",
      "item_cnt_month_lag_3                    float16\n",
      "item_cnt_month_lag_4                    float16\n",
      "item_cnt_month_lag_5                    float16\n",
      "item_cnt_month_lag_6                    float16\n",
      "item_cnt_month_lag_7                    float16\n",
      "item_cnt_month_lag_8                    float16\n",
      "item_cnt_month_lag_9                    float16\n",
      "item_cnt_month_lag_10                   float16\n",
      "item_cnt_month_lag_11                   float16\n",
      "item_cnt_month_lag_12                   float16\n",
      "date_avg_item_cnt_lag_1                 float16\n",
      "date_item_avg_item_cnt_lag_1            float16\n",
      "date_item_avg_item_cnt_lag_2            float16\n",
      "date_item_avg_item_cnt_lag_3            float16\n",
      "date_item_avg_item_cnt_lag_4            float16\n",
      "date_item_avg_item_cnt_lag_5            float16\n",
      "date_item_avg_item_cnt_lag_6            float16\n",
      "date_item_avg_item_cnt_lag_7            float16\n",
      "date_item_avg_item_cnt_lag_8            float16\n",
      "date_item_avg_item_cnt_lag_9            float16\n",
      "date_item_avg_item_cnt_lag_10           float16\n",
      "date_item_avg_item_cnt_lag_11           float16\n",
      "date_item_avg_item_cnt_lag_12           float16\n",
      "date_shop_avg_item_cnt_lag_1            float16\n",
      "date_shop_avg_item_cnt_lag_2            float16\n",
      "date_shop_avg_item_cnt_lag_3            float16\n",
      "date_shop_avg_item_cnt_lag_4            float16\n",
      "date_shop_avg_item_cnt_lag_5            float16\n",
      "date_shop_avg_item_cnt_lag_6            float16\n",
      "date_shop_avg_item_cnt_lag_7            float16\n",
      "date_shop_avg_item_cnt_lag_8            float16\n",
      "date_shop_avg_item_cnt_lag_9            float16\n",
      "date_shop_avg_item_cnt_lag_10           float16\n",
      "date_shop_avg_item_cnt_lag_11           float16\n",
      "date_shop_avg_item_cnt_lag_12           float16\n",
      "date_cat_avg_item_cnt_lag_1             float16\n",
      "date_shop_cat_avg_item_cnt_lag_1        float16\n",
      "date_shop_type_avg_item_cnt_lag_1       float16\n",
      "date_shop_subtype_avg_item_cnt_lag_1    float16\n",
      "date_city_avg_item_cnt_lag_1            float16\n",
      "date_item_city_avg_item_cnt_lag_1       float16\n",
      "date_type_avg_item_cnt_lag_1            float16\n",
      "date_subtype_avg_item_cnt_lag_1         float16\n",
      "delta_price_lag_1                       float16\n",
      "delta_price_lag_2                       float16\n",
      "delta_price_lag_3                       float16\n",
      "delta_price_lag_4                       float16\n",
      "delta_price_lag_5                       float16\n",
      "delta_price_lag_6                       float16\n",
      "delta_price_lag_7                       float16\n",
      "delta_price_lag_8                       float16\n",
      "delta_price_lag_9                       float16\n",
      "delta_price_lag_10                      float16\n",
      "delta_price_lag_11                      float16\n",
      "delta_price_lag_12                      float16\n",
      "delta_revenue_lag_1                     float16\n",
      "month                                   int8\n",
      "days                                    int8\n",
      "item_shop_last_sale                     int8\n",
      "item_last_sale                          int8\n",
      "item_shop_first_sale                    int8\n",
      "item_first_sale                         int8\n",
      "dtypes: float16(59), int16(1), int8(12)\n",
      "memory usage: 1.5 GB\n"
     ]
    }
   ],
   "source": [
    "matrix.info()"
   ]
  },
  {
   "cell_type": "code",
   "execution_count": 40,
   "metadata": {
    "_uuid": "5d9988f8da8876f74092fbf827ceb6c61dd09d5e"
   },
   "outputs": [],
   "source": [
    "matrix.to_pickle('./submission/data_v2.pkl')\n",
    "#del matrix\n",
    "#del cache\n",
    "#del group\n",
    "#del items\n",
    "#del shops\n",
    "#del cats\n",
    "#del train\n",
    "# leave test for submission\n",
    "#gc.collect();"
   ]
  },
  {
   "cell_type": "markdown",
   "metadata": {
    "_uuid": "b69932efb440af8f6435f3cd802fbcd15682af71",
    "collapsed": true
   },
   "source": [
    "# Part 2, xgboost"
   ]
  },
  {
   "cell_type": "code",
   "execution_count": 3,
   "metadata": {
    "_uuid": "a54364495b1818e9f069efa0c53500bf9e21d5f9",
    "scrolled": true
   },
   "outputs": [],
   "source": [
    "data = pd.read_pickle('./submission/data_v2.pkl')"
   ]
  },
  {
   "cell_type": "markdown",
   "metadata": {
    "_uuid": "e5742775554b9e48e4d5c19784184069ad3eb9fb"
   },
   "source": [
    "Select perfect features"
   ]
  },
  {
   "cell_type": "code",
   "execution_count": 4,
   "metadata": {
    "_uuid": "bfc928a916bb8b285b2fe90fb1a311cf2fbbf2e3"
   },
   "outputs": [],
   "source": [
    "data = data[data.date_block_num > 7]\n",
    "data = data[['date_block_num', \n",
    "             'shop_id', \n",
    "             'item_id', \n",
    "             'item_cnt_month',\n",
    "             'city_code',\n",
    "             'item_category_id',\n",
    "             'type_code',\n",
    "             'subtype_code',\n",
    "             'item_cnt_month_lag_1',\n",
    "             'item_cnt_month_lag_2',\n",
    "             'item_cnt_month_lag_3',\n",
    "             'item_cnt_month_lag_4',\n",
    "             'item_cnt_month_lag_5', \n",
    "             'item_cnt_month_lag_6', \n",
    "             #'item_cnt_month_lag_7',\n",
    "             #'item_cnt_month_lag_8', \n",
    "             #'item_cnt_month_lag_9', \n",
    "             #'item_cnt_month_lag_10',\n",
    "             #'item_cnt_month_lag_11', \n",
    "             #'item_cnt_month_lag_12',\n",
    "             'date_avg_item_cnt_lag_1', \n",
    "             'date_item_avg_item_cnt_lag_1',\n",
    "             'date_item_avg_item_cnt_lag_2',\n",
    "             'date_item_avg_item_cnt_lag_3',\n",
    "             'date_item_avg_item_cnt_lag_4',\n",
    "             'date_item_avg_item_cnt_lag_5',\n",
    "             'date_item_avg_item_cnt_lag_6',\n",
    "             #'date_item_avg_item_cnt_lag_7',\n",
    "             #'date_item_avg_item_cnt_lag_8', \n",
    "             #'date_item_avg_item_cnt_lag_9',\n",
    "             #'date_item_avg_item_cnt_lag_10', \n",
    "             #'date_item_avg_item_cnt_lag_11',\n",
    "             #'date_item_avg_item_cnt_lag_12',\n",
    "             'date_shop_avg_item_cnt_lag_1',\n",
    "             'date_shop_avg_item_cnt_lag_2', \n",
    "             'date_shop_avg_item_cnt_lag_3',\n",
    "             'date_shop_avg_item_cnt_lag_4', \n",
    "             'date_shop_avg_item_cnt_lag_5',\n",
    "             'date_shop_avg_item_cnt_lag_6', \n",
    "             #'date_shop_avg_item_cnt_lag_7',\n",
    "             #'date_shop_avg_item_cnt_lag_8', \n",
    "             #'date_shop_avg_item_cnt_lag_9',\n",
    "             #'date_shop_avg_item_cnt_lag_10',\n",
    "             #'date_shop_avg_item_cnt_lag_11',\n",
    "             #'date_shop_avg_item_cnt_lag_12', \n",
    "             'date_cat_avg_item_cnt_lag_1',\n",
    "             'date_shop_cat_avg_item_cnt_lag_1', \n",
    "             'date_shop_type_avg_item_cnt_lag_1',\n",
    "             'date_shop_subtype_avg_item_cnt_lag_1', \n",
    "             'date_city_avg_item_cnt_lag_1',\n",
    "             'date_item_city_avg_item_cnt_lag_1',\n",
    "             'date_type_avg_item_cnt_lag_1',\n",
    "             'date_subtype_avg_item_cnt_lag_1', \n",
    "             'delta_price_lag_1',\n",
    "             'delta_price_lag_2', \n",
    "             'delta_price_lag_3',\n",
    "             'delta_price_lag_4',\n",
    "             'delta_price_lag_5', \n",
    "             'delta_price_lag_6', \n",
    "             #'delta_price_lag_7',\n",
    "             #'delta_price_lag_8',\n",
    "             #'delta_price_lag_9', \n",
    "             #'delta_price_lag_10',\n",
    "             #'delta_price_lag_11',\n",
    "             #'delta_price_lag_12',\n",
    "             'delta_revenue_lag_1',\n",
    "             'month', \n",
    "             'days', \n",
    "             'item_shop_last_sale',\n",
    "             'item_last_sale',\n",
    "             'item_shop_first_sale', \n",
    "             'item_first_sale']]"
   ]
  },
  {
   "cell_type": "markdown",
   "metadata": {
    "_uuid": "11eb4f2f5ada18aa8993ec55e8c63e80758fc19e"
   },
   "source": [
    "Validation strategy is 34 month for the test set, 33 month for the validation set and 13-33 months for the train."
   ]
  },
  {
   "cell_type": "code",
   "execution_count": 5,
   "metadata": {
    "_uuid": "9af76d7b80064573a453e5e10c35b76fc31c47a4",
    "scrolled": true
   },
   "outputs": [],
   "source": [
    "train = shuffle(data[data.date_block_num <= 33])\n",
    "s = np.ceil(len(train) * 0.8).astype(int)\n",
    "\n",
    "X_train = train[0:s].drop(['item_cnt_month'], axis=1)\n",
    "Y_train = train[0:s]['item_cnt_month']\n",
    "\n",
    "X_valid = train[s:len(train)].drop(['item_cnt_month'], axis=1)\n",
    "Y_valid = train[s:len(train)]['item_cnt_month']\n",
    "\n",
    "X_test = data[data.date_block_num == 34].drop(['item_cnt_month'], axis=1)"
   ]
  },
  {
   "cell_type": "code",
   "execution_count": 6,
   "metadata": {
    "_uuid": "6ea5437e8949db6d3e54e68b7b0c18cd0befe38c"
   },
   "outputs": [],
   "source": [
    "import gc\n",
    "del data\n",
    "gc.collect();"
   ]
  },
  {
   "cell_type": "code",
   "execution_count": 7,
   "metadata": {
    "_uuid": "acef75c36501f808d45f81fc69f9708fc3283bc3"
   },
   "outputs": [
    {
     "name": "stderr",
     "output_type": "stream",
     "text": [
      "/home/emvok13/datuiji/lib/python3.5/site-packages/xgboost/core.py:587: FutureWarning: Series.base is deprecated and will be removed in a future version\n",
      "  if getattr(data, 'base', None) is not None and \\\n",
      "/home/emvok13/datuiji/lib/python3.5/site-packages/xgboost/core.py:588: FutureWarning: Series.base is deprecated and will be removed in a future version\n",
      "  data.base is not None and isinstance(data, np.ndarray) \\\n"
     ]
    },
    {
     "name": "stdout",
     "output_type": "stream",
     "text": [
      "[0]\tvalidation_0-rmse:1.1912\tvalidation_1-rmse:1.19701\n",
      "Multiple eval metrics have been passed: 'validation_1-rmse' will be used for early stopping.\n",
      "\n",
      "Will train until validation_1-rmse hasn't improved in 10 rounds.\n",
      "[1]\tvalidation_0-rmse:1.14308\tvalidation_1-rmse:1.14885\n",
      "[2]\tvalidation_0-rmse:1.1021\tvalidation_1-rmse:1.10793\n",
      "[3]\tvalidation_0-rmse:1.06771\tvalidation_1-rmse:1.07357\n",
      "[4]\tvalidation_0-rmse:1.03804\tvalidation_1-rmse:1.04408\n",
      "[5]\tvalidation_0-rmse:1.01326\tvalidation_1-rmse:1.01947\n",
      "[6]\tvalidation_0-rmse:0.992485\tvalidation_1-rmse:0.998828\n",
      "[7]\tvalidation_0-rmse:0.974747\tvalidation_1-rmse:0.981179\n",
      "[8]\tvalidation_0-rmse:0.960462\tvalidation_1-rmse:0.967066\n",
      "[9]\tvalidation_0-rmse:0.947091\tvalidation_1-rmse:0.953716\n",
      "[10]\tvalidation_0-rmse:0.936647\tvalidation_1-rmse:0.94344\n",
      "[11]\tvalidation_0-rmse:0.926779\tvalidation_1-rmse:0.933597\n",
      "[12]\tvalidation_0-rmse:0.918206\tvalidation_1-rmse:0.925174\n",
      "[13]\tvalidation_0-rmse:0.910921\tvalidation_1-rmse:0.91796\n",
      "[14]\tvalidation_0-rmse:0.905212\tvalidation_1-rmse:0.912417\n",
      "[15]\tvalidation_0-rmse:0.900205\tvalidation_1-rmse:0.907568\n",
      "[16]\tvalidation_0-rmse:0.895589\tvalidation_1-rmse:0.903094\n",
      "[17]\tvalidation_0-rmse:0.89135\tvalidation_1-rmse:0.899038\n",
      "[18]\tvalidation_0-rmse:0.887661\tvalidation_1-rmse:0.895429\n",
      "[19]\tvalidation_0-rmse:0.884254\tvalidation_1-rmse:0.892197\n",
      "[20]\tvalidation_0-rmse:0.88179\tvalidation_1-rmse:0.889851\n",
      "[21]\tvalidation_0-rmse:0.879192\tvalidation_1-rmse:0.887341\n",
      "[22]\tvalidation_0-rmse:0.876907\tvalidation_1-rmse:0.885208\n",
      "[23]\tvalidation_0-rmse:0.875012\tvalidation_1-rmse:0.8834\n",
      "[24]\tvalidation_0-rmse:0.873252\tvalidation_1-rmse:0.881783\n",
      "[25]\tvalidation_0-rmse:0.87148\tvalidation_1-rmse:0.880051\n",
      "[26]\tvalidation_0-rmse:0.869679\tvalidation_1-rmse:0.878425\n",
      "[27]\tvalidation_0-rmse:0.868013\tvalidation_1-rmse:0.876869\n",
      "[28]\tvalidation_0-rmse:0.866424\tvalidation_1-rmse:0.875323\n",
      "[29]\tvalidation_0-rmse:0.864686\tvalidation_1-rmse:0.873773\n",
      "[30]\tvalidation_0-rmse:0.863444\tvalidation_1-rmse:0.872668\n",
      "[31]\tvalidation_0-rmse:0.862244\tvalidation_1-rmse:0.871631\n",
      "[32]\tvalidation_0-rmse:0.861093\tvalidation_1-rmse:0.870525\n",
      "[33]\tvalidation_0-rmse:0.860216\tvalidation_1-rmse:0.86971\n",
      "[34]\tvalidation_0-rmse:0.859462\tvalidation_1-rmse:0.869052\n",
      "[35]\tvalidation_0-rmse:0.858719\tvalidation_1-rmse:0.868467\n",
      "[36]\tvalidation_0-rmse:0.857542\tvalidation_1-rmse:0.867428\n",
      "[37]\tvalidation_0-rmse:0.856825\tvalidation_1-rmse:0.866844\n",
      "[38]\tvalidation_0-rmse:0.855864\tvalidation_1-rmse:0.865979\n",
      "[39]\tvalidation_0-rmse:0.855166\tvalidation_1-rmse:0.865406\n",
      "[40]\tvalidation_0-rmse:0.854544\tvalidation_1-rmse:0.864855\n",
      "[41]\tvalidation_0-rmse:0.853904\tvalidation_1-rmse:0.864287\n",
      "[42]\tvalidation_0-rmse:0.853078\tvalidation_1-rmse:0.863552\n",
      "[43]\tvalidation_0-rmse:0.852521\tvalidation_1-rmse:0.863039\n",
      "[44]\tvalidation_0-rmse:0.852076\tvalidation_1-rmse:0.862635\n",
      "[45]\tvalidation_0-rmse:0.851539\tvalidation_1-rmse:0.86217\n",
      "[46]\tvalidation_0-rmse:0.850837\tvalidation_1-rmse:0.861571\n",
      "[47]\tvalidation_0-rmse:0.850382\tvalidation_1-rmse:0.861175\n",
      "[48]\tvalidation_0-rmse:0.849676\tvalidation_1-rmse:0.860497\n",
      "[49]\tvalidation_0-rmse:0.849379\tvalidation_1-rmse:0.860263\n",
      "[50]\tvalidation_0-rmse:0.848875\tvalidation_1-rmse:0.859877\n",
      "[51]\tvalidation_0-rmse:0.848415\tvalidation_1-rmse:0.859448\n",
      "[52]\tvalidation_0-rmse:0.847865\tvalidation_1-rmse:0.859008\n",
      "[53]\tvalidation_0-rmse:0.847553\tvalidation_1-rmse:0.858749\n",
      "[54]\tvalidation_0-rmse:0.847223\tvalidation_1-rmse:0.858457\n",
      "[55]\tvalidation_0-rmse:0.846959\tvalidation_1-rmse:0.858264\n",
      "[56]\tvalidation_0-rmse:0.846694\tvalidation_1-rmse:0.858055\n",
      "[57]\tvalidation_0-rmse:0.846357\tvalidation_1-rmse:0.857793\n",
      "[58]\tvalidation_0-rmse:0.84592\tvalidation_1-rmse:0.857442\n",
      "[59]\tvalidation_0-rmse:0.845585\tvalidation_1-rmse:0.857167\n",
      "[60]\tvalidation_0-rmse:0.845306\tvalidation_1-rmse:0.856949\n",
      "[61]\tvalidation_0-rmse:0.845026\tvalidation_1-rmse:0.856721\n",
      "[62]\tvalidation_0-rmse:0.844651\tvalidation_1-rmse:0.856382\n",
      "[63]\tvalidation_0-rmse:0.844134\tvalidation_1-rmse:0.855863\n",
      "[64]\tvalidation_0-rmse:0.843783\tvalidation_1-rmse:0.855555\n",
      "[65]\tvalidation_0-rmse:0.843618\tvalidation_1-rmse:0.855416\n",
      "[66]\tvalidation_0-rmse:0.843328\tvalidation_1-rmse:0.855181\n",
      "[67]\tvalidation_0-rmse:0.84308\tvalidation_1-rmse:0.855017\n",
      "[68]\tvalidation_0-rmse:0.84274\tvalidation_1-rmse:0.854776\n",
      "[69]\tvalidation_0-rmse:0.842524\tvalidation_1-rmse:0.854596\n",
      "[70]\tvalidation_0-rmse:0.841952\tvalidation_1-rmse:0.854077\n",
      "[71]\tvalidation_0-rmse:0.84165\tvalidation_1-rmse:0.853849\n",
      "[72]\tvalidation_0-rmse:0.84128\tvalidation_1-rmse:0.853517\n",
      "[73]\tvalidation_0-rmse:0.840713\tvalidation_1-rmse:0.853083\n",
      "[74]\tvalidation_0-rmse:0.840503\tvalidation_1-rmse:0.852918\n",
      "[75]\tvalidation_0-rmse:0.840279\tvalidation_1-rmse:0.852716\n",
      "[76]\tvalidation_0-rmse:0.839816\tvalidation_1-rmse:0.852316\n",
      "[77]\tvalidation_0-rmse:0.839616\tvalidation_1-rmse:0.852189\n",
      "[78]\tvalidation_0-rmse:0.839389\tvalidation_1-rmse:0.851983\n",
      "[79]\tvalidation_0-rmse:0.839042\tvalidation_1-rmse:0.851708\n",
      "[80]\tvalidation_0-rmse:0.838757\tvalidation_1-rmse:0.851486\n",
      "[81]\tvalidation_0-rmse:0.838345\tvalidation_1-rmse:0.851099\n",
      "[82]\tvalidation_0-rmse:0.83788\tvalidation_1-rmse:0.850654\n",
      "[83]\tvalidation_0-rmse:0.837735\tvalidation_1-rmse:0.850543\n",
      "[84]\tvalidation_0-rmse:0.837474\tvalidation_1-rmse:0.850344\n",
      "[85]\tvalidation_0-rmse:0.837311\tvalidation_1-rmse:0.850229\n",
      "[86]\tvalidation_0-rmse:0.837084\tvalidation_1-rmse:0.850042\n",
      "[87]\tvalidation_0-rmse:0.83682\tvalidation_1-rmse:0.849841\n",
      "[88]\tvalidation_0-rmse:0.836487\tvalidation_1-rmse:0.849545\n",
      "[89]\tvalidation_0-rmse:0.836323\tvalidation_1-rmse:0.849424\n",
      "[90]\tvalidation_0-rmse:0.836176\tvalidation_1-rmse:0.84934\n",
      "[91]\tvalidation_0-rmse:0.835686\tvalidation_1-rmse:0.848944\n",
      "[92]\tvalidation_0-rmse:0.835504\tvalidation_1-rmse:0.848821\n",
      "[93]\tvalidation_0-rmse:0.835358\tvalidation_1-rmse:0.848708\n",
      "[94]\tvalidation_0-rmse:0.8352\tvalidation_1-rmse:0.848602\n",
      "[95]\tvalidation_0-rmse:0.834847\tvalidation_1-rmse:0.848311\n",
      "[96]\tvalidation_0-rmse:0.834581\tvalidation_1-rmse:0.848098\n",
      "[97]\tvalidation_0-rmse:0.834277\tvalidation_1-rmse:0.847826\n",
      "[98]\tvalidation_0-rmse:0.834037\tvalidation_1-rmse:0.847649\n",
      "[99]\tvalidation_0-rmse:0.833936\tvalidation_1-rmse:0.847578\n",
      "[100]\tvalidation_0-rmse:0.833724\tvalidation_1-rmse:0.84741\n",
      "[101]\tvalidation_0-rmse:0.833269\tvalidation_1-rmse:0.847031\n",
      "[102]\tvalidation_0-rmse:0.833084\tvalidation_1-rmse:0.846886\n",
      "[103]\tvalidation_0-rmse:0.832834\tvalidation_1-rmse:0.846695\n",
      "[104]\tvalidation_0-rmse:0.832664\tvalidation_1-rmse:0.846574\n",
      "[105]\tvalidation_0-rmse:0.832525\tvalidation_1-rmse:0.846469\n",
      "[106]\tvalidation_0-rmse:0.832303\tvalidation_1-rmse:0.846323\n",
      "[107]\tvalidation_0-rmse:0.831519\tvalidation_1-rmse:0.845589\n",
      "[108]\tvalidation_0-rmse:0.831211\tvalidation_1-rmse:0.845334\n",
      "[109]\tvalidation_0-rmse:0.831128\tvalidation_1-rmse:0.845273\n",
      "[110]\tvalidation_0-rmse:0.83107\tvalidation_1-rmse:0.845222\n",
      "[111]\tvalidation_0-rmse:0.830862\tvalidation_1-rmse:0.845029\n",
      "[112]\tvalidation_0-rmse:0.830493\tvalidation_1-rmse:0.844679\n",
      "[113]\tvalidation_0-rmse:0.830373\tvalidation_1-rmse:0.844613\n",
      "[114]\tvalidation_0-rmse:0.829874\tvalidation_1-rmse:0.844182\n",
      "[115]\tvalidation_0-rmse:0.829489\tvalidation_1-rmse:0.843839\n",
      "[116]\tvalidation_0-rmse:0.829308\tvalidation_1-rmse:0.8437\n",
      "[117]\tvalidation_0-rmse:0.828944\tvalidation_1-rmse:0.843424\n",
      "[118]\tvalidation_0-rmse:0.828667\tvalidation_1-rmse:0.843217\n",
      "[119]\tvalidation_0-rmse:0.828423\tvalidation_1-rmse:0.842981\n",
      "[120]\tvalidation_0-rmse:0.828241\tvalidation_1-rmse:0.842838\n",
      "[121]\tvalidation_0-rmse:0.828119\tvalidation_1-rmse:0.842749\n",
      "[122]\tvalidation_0-rmse:0.827698\tvalidation_1-rmse:0.842368\n",
      "[123]\tvalidation_0-rmse:0.827545\tvalidation_1-rmse:0.842277\n",
      "[124]\tvalidation_0-rmse:0.827132\tvalidation_1-rmse:0.841858\n",
      "[125]\tvalidation_0-rmse:0.826848\tvalidation_1-rmse:0.841633\n",
      "[126]\tvalidation_0-rmse:0.826684\tvalidation_1-rmse:0.841524\n",
      "[127]\tvalidation_0-rmse:0.826339\tvalidation_1-rmse:0.841248\n",
      "[128]\tvalidation_0-rmse:0.826112\tvalidation_1-rmse:0.841057\n",
      "[129]\tvalidation_0-rmse:0.825928\tvalidation_1-rmse:0.840944\n",
      "[130]\tvalidation_0-rmse:0.825813\tvalidation_1-rmse:0.840872\n",
      "[131]\tvalidation_0-rmse:0.825694\tvalidation_1-rmse:0.840801\n",
      "[132]\tvalidation_0-rmse:0.825633\tvalidation_1-rmse:0.840768\n",
      "[133]\tvalidation_0-rmse:0.825442\tvalidation_1-rmse:0.840615\n",
      "[134]\tvalidation_0-rmse:0.825311\tvalidation_1-rmse:0.840493\n",
      "[135]\tvalidation_0-rmse:0.825208\tvalidation_1-rmse:0.840409\n",
      "[136]\tvalidation_0-rmse:0.824947\tvalidation_1-rmse:0.840207\n"
     ]
    },
    {
     "name": "stdout",
     "output_type": "stream",
     "text": [
      "[137]\tvalidation_0-rmse:0.824866\tvalidation_1-rmse:0.840138\n",
      "[138]\tvalidation_0-rmse:0.824742\tvalidation_1-rmse:0.840049\n",
      "[139]\tvalidation_0-rmse:0.824157\tvalidation_1-rmse:0.839527\n",
      "[140]\tvalidation_0-rmse:0.823873\tvalidation_1-rmse:0.839296\n",
      "[141]\tvalidation_0-rmse:0.823101\tvalidation_1-rmse:0.83859\n",
      "[142]\tvalidation_0-rmse:0.822992\tvalidation_1-rmse:0.838521\n",
      "[143]\tvalidation_0-rmse:0.82288\tvalidation_1-rmse:0.838448\n",
      "[144]\tvalidation_0-rmse:0.822781\tvalidation_1-rmse:0.838391\n",
      "[145]\tvalidation_0-rmse:0.822624\tvalidation_1-rmse:0.838322\n",
      "[146]\tvalidation_0-rmse:0.821951\tvalidation_1-rmse:0.837742\n",
      "[147]\tvalidation_0-rmse:0.821788\tvalidation_1-rmse:0.837606\n",
      "[148]\tvalidation_0-rmse:0.821702\tvalidation_1-rmse:0.837557\n",
      "[149]\tvalidation_0-rmse:0.821598\tvalidation_1-rmse:0.837512\n",
      "[150]\tvalidation_0-rmse:0.821457\tvalidation_1-rmse:0.837407\n",
      "[151]\tvalidation_0-rmse:0.820755\tvalidation_1-rmse:0.836802\n",
      "[152]\tvalidation_0-rmse:0.820607\tvalidation_1-rmse:0.836698\n",
      "[153]\tvalidation_0-rmse:0.820387\tvalidation_1-rmse:0.836549\n",
      "[154]\tvalidation_0-rmse:0.820333\tvalidation_1-rmse:0.836535\n",
      "[155]\tvalidation_0-rmse:0.820147\tvalidation_1-rmse:0.836413\n",
      "[156]\tvalidation_0-rmse:0.820016\tvalidation_1-rmse:0.83631\n",
      "[157]\tvalidation_0-rmse:0.819802\tvalidation_1-rmse:0.83614\n",
      "[158]\tvalidation_0-rmse:0.819394\tvalidation_1-rmse:0.835791\n",
      "[159]\tvalidation_0-rmse:0.819137\tvalidation_1-rmse:0.835591\n",
      "[160]\tvalidation_0-rmse:0.81899\tvalidation_1-rmse:0.835478\n",
      "[161]\tvalidation_0-rmse:0.818892\tvalidation_1-rmse:0.835445\n",
      "[162]\tvalidation_0-rmse:0.818839\tvalidation_1-rmse:0.835415\n",
      "[163]\tvalidation_0-rmse:0.818762\tvalidation_1-rmse:0.835391\n",
      "[164]\tvalidation_0-rmse:0.818681\tvalidation_1-rmse:0.83536\n",
      "[165]\tvalidation_0-rmse:0.818147\tvalidation_1-rmse:0.834904\n",
      "[166]\tvalidation_0-rmse:0.81804\tvalidation_1-rmse:0.834846\n",
      "[167]\tvalidation_0-rmse:0.817974\tvalidation_1-rmse:0.834826\n",
      "[168]\tvalidation_0-rmse:0.81787\tvalidation_1-rmse:0.834759\n",
      "[169]\tvalidation_0-rmse:0.817788\tvalidation_1-rmse:0.83474\n",
      "[170]\tvalidation_0-rmse:0.817609\tvalidation_1-rmse:0.834598\n",
      "[171]\tvalidation_0-rmse:0.817448\tvalidation_1-rmse:0.834507\n",
      "[172]\tvalidation_0-rmse:0.817299\tvalidation_1-rmse:0.834423\n",
      "[173]\tvalidation_0-rmse:0.817078\tvalidation_1-rmse:0.834237\n",
      "[174]\tvalidation_0-rmse:0.817028\tvalidation_1-rmse:0.834219\n",
      "[175]\tvalidation_0-rmse:0.816956\tvalidation_1-rmse:0.834201\n",
      "[176]\tvalidation_0-rmse:0.816827\tvalidation_1-rmse:0.83411\n",
      "[177]\tvalidation_0-rmse:0.816592\tvalidation_1-rmse:0.833893\n",
      "[178]\tvalidation_0-rmse:0.816376\tvalidation_1-rmse:0.833719\n",
      "[179]\tvalidation_0-rmse:0.816325\tvalidation_1-rmse:0.833709\n",
      "[180]\tvalidation_0-rmse:0.816264\tvalidation_1-rmse:0.833659\n",
      "[181]\tvalidation_0-rmse:0.816152\tvalidation_1-rmse:0.833595\n",
      "[182]\tvalidation_0-rmse:0.816047\tvalidation_1-rmse:0.833511\n",
      "[183]\tvalidation_0-rmse:0.815804\tvalidation_1-rmse:0.833341\n",
      "[184]\tvalidation_0-rmse:0.81547\tvalidation_1-rmse:0.833048\n",
      "[185]\tvalidation_0-rmse:0.815209\tvalidation_1-rmse:0.832835\n",
      "[186]\tvalidation_0-rmse:0.815123\tvalidation_1-rmse:0.83279\n",
      "[187]\tvalidation_0-rmse:0.814941\tvalidation_1-rmse:0.832655\n",
      "[188]\tvalidation_0-rmse:0.814843\tvalidation_1-rmse:0.832592\n",
      "[189]\tvalidation_0-rmse:0.814755\tvalidation_1-rmse:0.83256\n",
      "[190]\tvalidation_0-rmse:0.814665\tvalidation_1-rmse:0.832482\n",
      "[191]\tvalidation_0-rmse:0.814214\tvalidation_1-rmse:0.832094\n",
      "[192]\tvalidation_0-rmse:0.814158\tvalidation_1-rmse:0.83208\n",
      "[193]\tvalidation_0-rmse:0.814114\tvalidation_1-rmse:0.832056\n",
      "[194]\tvalidation_0-rmse:0.81402\tvalidation_1-rmse:0.831989\n",
      "[195]\tvalidation_0-rmse:0.813841\tvalidation_1-rmse:0.831865\n",
      "[196]\tvalidation_0-rmse:0.813771\tvalidation_1-rmse:0.831827\n",
      "[197]\tvalidation_0-rmse:0.813712\tvalidation_1-rmse:0.831815\n",
      "[198]\tvalidation_0-rmse:0.813613\tvalidation_1-rmse:0.831781\n",
      "[199]\tvalidation_0-rmse:0.813436\tvalidation_1-rmse:0.831642\n",
      "[200]\tvalidation_0-rmse:0.813131\tvalidation_1-rmse:0.831347\n",
      "[201]\tvalidation_0-rmse:0.812955\tvalidation_1-rmse:0.831273\n",
      "[202]\tvalidation_0-rmse:0.812919\tvalidation_1-rmse:0.831276\n",
      "[203]\tvalidation_0-rmse:0.812744\tvalidation_1-rmse:0.831127\n",
      "[204]\tvalidation_0-rmse:0.812661\tvalidation_1-rmse:0.831094\n",
      "[205]\tvalidation_0-rmse:0.812597\tvalidation_1-rmse:0.831058\n",
      "[206]\tvalidation_0-rmse:0.812497\tvalidation_1-rmse:0.830983\n",
      "[207]\tvalidation_0-rmse:0.812313\tvalidation_1-rmse:0.830853\n",
      "[208]\tvalidation_0-rmse:0.812225\tvalidation_1-rmse:0.830809\n",
      "[209]\tvalidation_0-rmse:0.812126\tvalidation_1-rmse:0.830738\n",
      "[210]\tvalidation_0-rmse:0.812042\tvalidation_1-rmse:0.830685\n",
      "[211]\tvalidation_0-rmse:0.811754\tvalidation_1-rmse:0.830391\n",
      "[212]\tvalidation_0-rmse:0.811682\tvalidation_1-rmse:0.830348\n",
      "[213]\tvalidation_0-rmse:0.811614\tvalidation_1-rmse:0.830311\n",
      "[214]\tvalidation_0-rmse:0.811542\tvalidation_1-rmse:0.830279\n",
      "[215]\tvalidation_0-rmse:0.811473\tvalidation_1-rmse:0.830253\n",
      "[216]\tvalidation_0-rmse:0.811392\tvalidation_1-rmse:0.830222\n",
      "[217]\tvalidation_0-rmse:0.811325\tvalidation_1-rmse:0.830193\n",
      "[218]\tvalidation_0-rmse:0.811278\tvalidation_1-rmse:0.830168\n",
      "[219]\tvalidation_0-rmse:0.811205\tvalidation_1-rmse:0.830118\n",
      "[220]\tvalidation_0-rmse:0.8103\tvalidation_1-rmse:0.829301\n",
      "[221]\tvalidation_0-rmse:0.810191\tvalidation_1-rmse:0.829235\n",
      "[222]\tvalidation_0-rmse:0.810105\tvalidation_1-rmse:0.829181\n",
      "[223]\tvalidation_0-rmse:0.809991\tvalidation_1-rmse:0.829079\n",
      "[224]\tvalidation_0-rmse:0.809947\tvalidation_1-rmse:0.829058\n",
      "[225]\tvalidation_0-rmse:0.80989\tvalidation_1-rmse:0.829019\n",
      "[226]\tvalidation_0-rmse:0.80974\tvalidation_1-rmse:0.828916\n",
      "[227]\tvalidation_0-rmse:0.809671\tvalidation_1-rmse:0.828891\n",
      "[228]\tvalidation_0-rmse:0.809182\tvalidation_1-rmse:0.828351\n",
      "[229]\tvalidation_0-rmse:0.809012\tvalidation_1-rmse:0.828237\n",
      "[230]\tvalidation_0-rmse:0.808847\tvalidation_1-rmse:0.828065\n",
      "[231]\tvalidation_0-rmse:0.808661\tvalidation_1-rmse:0.827884\n",
      "[232]\tvalidation_0-rmse:0.808595\tvalidation_1-rmse:0.827872\n",
      "[233]\tvalidation_0-rmse:0.808544\tvalidation_1-rmse:0.827861\n",
      "[234]\tvalidation_0-rmse:0.808497\tvalidation_1-rmse:0.827827\n",
      "[235]\tvalidation_0-rmse:0.808442\tvalidation_1-rmse:0.82781\n",
      "[236]\tvalidation_0-rmse:0.808376\tvalidation_1-rmse:0.827794\n",
      "[237]\tvalidation_0-rmse:0.808271\tvalidation_1-rmse:0.827721\n",
      "[238]\tvalidation_0-rmse:0.80816\tvalidation_1-rmse:0.82764\n",
      "[239]\tvalidation_0-rmse:0.808069\tvalidation_1-rmse:0.827603\n",
      "[240]\tvalidation_0-rmse:0.807976\tvalidation_1-rmse:0.82756\n",
      "[241]\tvalidation_0-rmse:0.807835\tvalidation_1-rmse:0.827472\n",
      "[242]\tvalidation_0-rmse:0.807774\tvalidation_1-rmse:0.827434\n",
      "[243]\tvalidation_0-rmse:0.807686\tvalidation_1-rmse:0.827386\n",
      "[244]\tvalidation_0-rmse:0.807649\tvalidation_1-rmse:0.827364\n",
      "[245]\tvalidation_0-rmse:0.807602\tvalidation_1-rmse:0.827342\n",
      "[246]\tvalidation_0-rmse:0.807474\tvalidation_1-rmse:0.827266\n",
      "[247]\tvalidation_0-rmse:0.807396\tvalidation_1-rmse:0.827228\n",
      "[248]\tvalidation_0-rmse:0.807306\tvalidation_1-rmse:0.827161\n",
      "[249]\tvalidation_0-rmse:0.807252\tvalidation_1-rmse:0.827131\n",
      "[250]\tvalidation_0-rmse:0.80712\tvalidation_1-rmse:0.827066\n",
      "[251]\tvalidation_0-rmse:0.807043\tvalidation_1-rmse:0.827037\n",
      "[252]\tvalidation_0-rmse:0.806899\tvalidation_1-rmse:0.826918\n",
      "[253]\tvalidation_0-rmse:0.806847\tvalidation_1-rmse:0.826896\n",
      "[254]\tvalidation_0-rmse:0.806797\tvalidation_1-rmse:0.826868\n",
      "[255]\tvalidation_0-rmse:0.806733\tvalidation_1-rmse:0.826852\n",
      "[256]\tvalidation_0-rmse:0.806553\tvalidation_1-rmse:0.82673\n",
      "[257]\tvalidation_0-rmse:0.806489\tvalidation_1-rmse:0.826704\n",
      "[258]\tvalidation_0-rmse:0.806441\tvalidation_1-rmse:0.826686\n",
      "[259]\tvalidation_0-rmse:0.806392\tvalidation_1-rmse:0.826676\n",
      "[260]\tvalidation_0-rmse:0.80631\tvalidation_1-rmse:0.826635\n",
      "[261]\tvalidation_0-rmse:0.806104\tvalidation_1-rmse:0.826477\n",
      "[262]\tvalidation_0-rmse:0.806048\tvalidation_1-rmse:0.826451\n",
      "[263]\tvalidation_0-rmse:0.806004\tvalidation_1-rmse:0.826457\n",
      "[264]\tvalidation_0-rmse:0.805956\tvalidation_1-rmse:0.826434\n",
      "[265]\tvalidation_0-rmse:0.805937\tvalidation_1-rmse:0.826421\n",
      "[266]\tvalidation_0-rmse:0.805894\tvalidation_1-rmse:0.826433\n",
      "[267]\tvalidation_0-rmse:0.805867\tvalidation_1-rmse:0.826435\n",
      "[268]\tvalidation_0-rmse:0.805721\tvalidation_1-rmse:0.826372\n",
      "[269]\tvalidation_0-rmse:0.805673\tvalidation_1-rmse:0.826361\n",
      "[270]\tvalidation_0-rmse:0.805616\tvalidation_1-rmse:0.826334\n",
      "[271]\tvalidation_0-rmse:0.805519\tvalidation_1-rmse:0.826264\n",
      "[272]\tvalidation_0-rmse:0.805497\tvalidation_1-rmse:0.826257\n",
      "[273]\tvalidation_0-rmse:0.805375\tvalidation_1-rmse:0.826171\n"
     ]
    },
    {
     "name": "stdout",
     "output_type": "stream",
     "text": [
      "[274]\tvalidation_0-rmse:0.805338\tvalidation_1-rmse:0.826172\n",
      "[275]\tvalidation_0-rmse:0.805264\tvalidation_1-rmse:0.826124\n",
      "[276]\tvalidation_0-rmse:0.80517\tvalidation_1-rmse:0.826106\n",
      "[277]\tvalidation_0-rmse:0.805127\tvalidation_1-rmse:0.826093\n",
      "[278]\tvalidation_0-rmse:0.804974\tvalidation_1-rmse:0.825962\n",
      "[279]\tvalidation_0-rmse:0.804925\tvalidation_1-rmse:0.825925\n",
      "[280]\tvalidation_0-rmse:0.804658\tvalidation_1-rmse:0.82571\n",
      "[281]\tvalidation_0-rmse:0.804583\tvalidation_1-rmse:0.825683\n",
      "[282]\tvalidation_0-rmse:0.804529\tvalidation_1-rmse:0.825671\n",
      "[283]\tvalidation_0-rmse:0.803829\tvalidation_1-rmse:0.825034\n",
      "[284]\tvalidation_0-rmse:0.803789\tvalidation_1-rmse:0.825032\n",
      "[285]\tvalidation_0-rmse:0.8037\tvalidation_1-rmse:0.824968\n",
      "[286]\tvalidation_0-rmse:0.803656\tvalidation_1-rmse:0.824964\n",
      "[287]\tvalidation_0-rmse:0.803475\tvalidation_1-rmse:0.82482\n",
      "[288]\tvalidation_0-rmse:0.803392\tvalidation_1-rmse:0.82473\n",
      "[289]\tvalidation_0-rmse:0.803084\tvalidation_1-rmse:0.824478\n",
      "[290]\tvalidation_0-rmse:0.803005\tvalidation_1-rmse:0.824461\n",
      "[291]\tvalidation_0-rmse:0.802964\tvalidation_1-rmse:0.824445\n",
      "[292]\tvalidation_0-rmse:0.802919\tvalidation_1-rmse:0.824434\n",
      "[293]\tvalidation_0-rmse:0.802727\tvalidation_1-rmse:0.824248\n",
      "[294]\tvalidation_0-rmse:0.80267\tvalidation_1-rmse:0.82423\n",
      "[295]\tvalidation_0-rmse:0.80263\tvalidation_1-rmse:0.824244\n",
      "[296]\tvalidation_0-rmse:0.802569\tvalidation_1-rmse:0.824216\n",
      "[297]\tvalidation_0-rmse:0.802544\tvalidation_1-rmse:0.824204\n",
      "[298]\tvalidation_0-rmse:0.802478\tvalidation_1-rmse:0.824183\n",
      "[299]\tvalidation_0-rmse:0.802294\tvalidation_1-rmse:0.82404\n",
      "[300]\tvalidation_0-rmse:0.802199\tvalidation_1-rmse:0.823986\n",
      "[301]\tvalidation_0-rmse:0.802162\tvalidation_1-rmse:0.823992\n",
      "[302]\tvalidation_0-rmse:0.802137\tvalidation_1-rmse:0.823993\n",
      "[303]\tvalidation_0-rmse:0.802027\tvalidation_1-rmse:0.823927\n",
      "[304]\tvalidation_0-rmse:0.801984\tvalidation_1-rmse:0.823929\n",
      "[305]\tvalidation_0-rmse:0.801846\tvalidation_1-rmse:0.82387\n",
      "[306]\tvalidation_0-rmse:0.801762\tvalidation_1-rmse:0.823817\n",
      "[307]\tvalidation_0-rmse:0.801695\tvalidation_1-rmse:0.823793\n",
      "[308]\tvalidation_0-rmse:0.80163\tvalidation_1-rmse:0.823778\n",
      "[309]\tvalidation_0-rmse:0.801579\tvalidation_1-rmse:0.823755\n",
      "[310]\tvalidation_0-rmse:0.801556\tvalidation_1-rmse:0.823749\n",
      "[311]\tvalidation_0-rmse:0.801477\tvalidation_1-rmse:0.823698\n",
      "[312]\tvalidation_0-rmse:0.801422\tvalidation_1-rmse:0.823674\n",
      "[313]\tvalidation_0-rmse:0.801381\tvalidation_1-rmse:0.82365\n",
      "[314]\tvalidation_0-rmse:0.801313\tvalidation_1-rmse:0.82362\n",
      "[315]\tvalidation_0-rmse:0.801255\tvalidation_1-rmse:0.823604\n",
      "[316]\tvalidation_0-rmse:0.801228\tvalidation_1-rmse:0.823599\n",
      "[317]\tvalidation_0-rmse:0.801148\tvalidation_1-rmse:0.823548\n",
      "[318]\tvalidation_0-rmse:0.801036\tvalidation_1-rmse:0.823477\n",
      "[319]\tvalidation_0-rmse:0.800963\tvalidation_1-rmse:0.823437\n",
      "[320]\tvalidation_0-rmse:0.8009\tvalidation_1-rmse:0.823416\n",
      "[321]\tvalidation_0-rmse:0.800867\tvalidation_1-rmse:0.823399\n",
      "[322]\tvalidation_0-rmse:0.8008\tvalidation_1-rmse:0.823358\n",
      "[323]\tvalidation_0-rmse:0.800705\tvalidation_1-rmse:0.823286\n",
      "[324]\tvalidation_0-rmse:0.800662\tvalidation_1-rmse:0.823278\n",
      "[325]\tvalidation_0-rmse:0.80062\tvalidation_1-rmse:0.823252\n",
      "[326]\tvalidation_0-rmse:0.800572\tvalidation_1-rmse:0.823235\n",
      "[327]\tvalidation_0-rmse:0.800535\tvalidation_1-rmse:0.823228\n",
      "[328]\tvalidation_0-rmse:0.800443\tvalidation_1-rmse:0.823172\n",
      "[329]\tvalidation_0-rmse:0.800407\tvalidation_1-rmse:0.823155\n",
      "[330]\tvalidation_0-rmse:0.800361\tvalidation_1-rmse:0.823139\n",
      "[331]\tvalidation_0-rmse:0.800259\tvalidation_1-rmse:0.823102\n",
      "[332]\tvalidation_0-rmse:0.800176\tvalidation_1-rmse:0.823052\n",
      "[333]\tvalidation_0-rmse:0.800116\tvalidation_1-rmse:0.823035\n",
      "[334]\tvalidation_0-rmse:0.800061\tvalidation_1-rmse:0.823023\n",
      "[335]\tvalidation_0-rmse:0.799789\tvalidation_1-rmse:0.822797\n",
      "[336]\tvalidation_0-rmse:0.799767\tvalidation_1-rmse:0.822781\n",
      "[337]\tvalidation_0-rmse:0.799717\tvalidation_1-rmse:0.822762\n",
      "[338]\tvalidation_0-rmse:0.799668\tvalidation_1-rmse:0.822769\n",
      "[339]\tvalidation_0-rmse:0.799596\tvalidation_1-rmse:0.822736\n",
      "[340]\tvalidation_0-rmse:0.799515\tvalidation_1-rmse:0.822716\n",
      "[341]\tvalidation_0-rmse:0.799452\tvalidation_1-rmse:0.822698\n",
      "[342]\tvalidation_0-rmse:0.799396\tvalidation_1-rmse:0.822661\n",
      "[343]\tvalidation_0-rmse:0.799354\tvalidation_1-rmse:0.822636\n",
      "[344]\tvalidation_0-rmse:0.799241\tvalidation_1-rmse:0.822562\n",
      "[345]\tvalidation_0-rmse:0.799208\tvalidation_1-rmse:0.822555\n",
      "[346]\tvalidation_0-rmse:0.799127\tvalidation_1-rmse:0.822511\n",
      "[347]\tvalidation_0-rmse:0.799043\tvalidation_1-rmse:0.822462\n",
      "[348]\tvalidation_0-rmse:0.798842\tvalidation_1-rmse:0.822348\n",
      "[349]\tvalidation_0-rmse:0.79871\tvalidation_1-rmse:0.822291\n",
      "[350]\tvalidation_0-rmse:0.798654\tvalidation_1-rmse:0.822268\n",
      "[351]\tvalidation_0-rmse:0.798584\tvalidation_1-rmse:0.822237\n",
      "[352]\tvalidation_0-rmse:0.79855\tvalidation_1-rmse:0.822237\n",
      "[353]\tvalidation_0-rmse:0.79828\tvalidation_1-rmse:0.821988\n",
      "[354]\tvalidation_0-rmse:0.797981\tvalidation_1-rmse:0.821743\n",
      "[355]\tvalidation_0-rmse:0.797935\tvalidation_1-rmse:0.821742\n",
      "[356]\tvalidation_0-rmse:0.797898\tvalidation_1-rmse:0.821744\n",
      "[357]\tvalidation_0-rmse:0.797803\tvalidation_1-rmse:0.821698\n",
      "[358]\tvalidation_0-rmse:0.797613\tvalidation_1-rmse:0.821566\n",
      "[359]\tvalidation_0-rmse:0.797551\tvalidation_1-rmse:0.821514\n",
      "[360]\tvalidation_0-rmse:0.797507\tvalidation_1-rmse:0.821497\n",
      "[361]\tvalidation_0-rmse:0.797377\tvalidation_1-rmse:0.821419\n",
      "[362]\tvalidation_0-rmse:0.797348\tvalidation_1-rmse:0.821425\n",
      "[363]\tvalidation_0-rmse:0.79729\tvalidation_1-rmse:0.821405\n",
      "[364]\tvalidation_0-rmse:0.797248\tvalidation_1-rmse:0.821384\n",
      "[365]\tvalidation_0-rmse:0.797194\tvalidation_1-rmse:0.821382\n",
      "[366]\tvalidation_0-rmse:0.796944\tvalidation_1-rmse:0.821193\n",
      "[367]\tvalidation_0-rmse:0.796902\tvalidation_1-rmse:0.821182\n",
      "[368]\tvalidation_0-rmse:0.796864\tvalidation_1-rmse:0.821186\n",
      "[369]\tvalidation_0-rmse:0.796812\tvalidation_1-rmse:0.821175\n",
      "[370]\tvalidation_0-rmse:0.796687\tvalidation_1-rmse:0.821079\n",
      "[371]\tvalidation_0-rmse:0.796649\tvalidation_1-rmse:0.821067\n",
      "[372]\tvalidation_0-rmse:0.796541\tvalidation_1-rmse:0.820997\n",
      "[373]\tvalidation_0-rmse:0.796437\tvalidation_1-rmse:0.820947\n",
      "[374]\tvalidation_0-rmse:0.796345\tvalidation_1-rmse:0.820906\n",
      "[375]\tvalidation_0-rmse:0.796301\tvalidation_1-rmse:0.820885\n",
      "[376]\tvalidation_0-rmse:0.796268\tvalidation_1-rmse:0.820879\n",
      "[377]\tvalidation_0-rmse:0.796152\tvalidation_1-rmse:0.820792\n",
      "[378]\tvalidation_0-rmse:0.796092\tvalidation_1-rmse:0.820766\n",
      "[379]\tvalidation_0-rmse:0.796045\tvalidation_1-rmse:0.820741\n",
      "[380]\tvalidation_0-rmse:0.795851\tvalidation_1-rmse:0.820552\n",
      "[381]\tvalidation_0-rmse:0.795814\tvalidation_1-rmse:0.820558\n",
      "[382]\tvalidation_0-rmse:0.795726\tvalidation_1-rmse:0.820519\n",
      "[383]\tvalidation_0-rmse:0.795619\tvalidation_1-rmse:0.82046\n",
      "[384]\tvalidation_0-rmse:0.7955\tvalidation_1-rmse:0.820385\n",
      "[385]\tvalidation_0-rmse:0.795462\tvalidation_1-rmse:0.820385\n",
      "[386]\tvalidation_0-rmse:0.795406\tvalidation_1-rmse:0.820365\n",
      "[387]\tvalidation_0-rmse:0.795325\tvalidation_1-rmse:0.820312\n",
      "[388]\tvalidation_0-rmse:0.795269\tvalidation_1-rmse:0.820273\n",
      "[389]\tvalidation_0-rmse:0.795236\tvalidation_1-rmse:0.820252\n",
      "[390]\tvalidation_0-rmse:0.795179\tvalidation_1-rmse:0.820239\n",
      "[391]\tvalidation_0-rmse:0.795131\tvalidation_1-rmse:0.820226\n",
      "[392]\tvalidation_0-rmse:0.795089\tvalidation_1-rmse:0.820213\n",
      "[393]\tvalidation_0-rmse:0.795023\tvalidation_1-rmse:0.820176\n",
      "[394]\tvalidation_0-rmse:0.794705\tvalidation_1-rmse:0.819913\n",
      "[395]\tvalidation_0-rmse:0.79466\tvalidation_1-rmse:0.819887\n",
      "[396]\tvalidation_0-rmse:0.794566\tvalidation_1-rmse:0.8198\n",
      "[397]\tvalidation_0-rmse:0.794503\tvalidation_1-rmse:0.819769\n",
      "[398]\tvalidation_0-rmse:0.79444\tvalidation_1-rmse:0.819753\n",
      "[399]\tvalidation_0-rmse:0.794384\tvalidation_1-rmse:0.819727\n",
      "[400]\tvalidation_0-rmse:0.794253\tvalidation_1-rmse:0.819648\n",
      "[401]\tvalidation_0-rmse:0.794204\tvalidation_1-rmse:0.819625\n",
      "[402]\tvalidation_0-rmse:0.794169\tvalidation_1-rmse:0.819618\n",
      "[403]\tvalidation_0-rmse:0.794118\tvalidation_1-rmse:0.819607\n",
      "[404]\tvalidation_0-rmse:0.79409\tvalidation_1-rmse:0.819597\n",
      "[405]\tvalidation_0-rmse:0.794027\tvalidation_1-rmse:0.819548\n",
      "[406]\tvalidation_0-rmse:0.793957\tvalidation_1-rmse:0.819508\n",
      "[407]\tvalidation_0-rmse:0.793926\tvalidation_1-rmse:0.819507\n",
      "[408]\tvalidation_0-rmse:0.793697\tvalidation_1-rmse:0.819349\n",
      "[409]\tvalidation_0-rmse:0.793665\tvalidation_1-rmse:0.819343\n",
      "[410]\tvalidation_0-rmse:0.793628\tvalidation_1-rmse:0.819357\n",
      "[411]\tvalidation_0-rmse:0.793593\tvalidation_1-rmse:0.819344\n"
     ]
    },
    {
     "name": "stdout",
     "output_type": "stream",
     "text": [
      "[412]\tvalidation_0-rmse:0.793533\tvalidation_1-rmse:0.819306\n",
      "[413]\tvalidation_0-rmse:0.793476\tvalidation_1-rmse:0.819302\n",
      "[414]\tvalidation_0-rmse:0.793348\tvalidation_1-rmse:0.819202\n",
      "[415]\tvalidation_0-rmse:0.793314\tvalidation_1-rmse:0.819191\n",
      "[416]\tvalidation_0-rmse:0.793282\tvalidation_1-rmse:0.819189\n",
      "[417]\tvalidation_0-rmse:0.792896\tvalidation_1-rmse:0.818873\n",
      "[418]\tvalidation_0-rmse:0.792839\tvalidation_1-rmse:0.818846\n",
      "[419]\tvalidation_0-rmse:0.792704\tvalidation_1-rmse:0.818749\n",
      "[420]\tvalidation_0-rmse:0.792686\tvalidation_1-rmse:0.818758\n",
      "[421]\tvalidation_0-rmse:0.79265\tvalidation_1-rmse:0.81875\n",
      "[422]\tvalidation_0-rmse:0.79261\tvalidation_1-rmse:0.818745\n",
      "[423]\tvalidation_0-rmse:0.792496\tvalidation_1-rmse:0.818689\n",
      "[424]\tvalidation_0-rmse:0.792431\tvalidation_1-rmse:0.818661\n",
      "[425]\tvalidation_0-rmse:0.792374\tvalidation_1-rmse:0.818632\n",
      "[426]\tvalidation_0-rmse:0.792328\tvalidation_1-rmse:0.81861\n",
      "[427]\tvalidation_0-rmse:0.792164\tvalidation_1-rmse:0.818509\n",
      "[428]\tvalidation_0-rmse:0.792116\tvalidation_1-rmse:0.818502\n",
      "[429]\tvalidation_0-rmse:0.792079\tvalidation_1-rmse:0.81849\n",
      "[430]\tvalidation_0-rmse:0.792054\tvalidation_1-rmse:0.81848\n",
      "[431]\tvalidation_0-rmse:0.791991\tvalidation_1-rmse:0.818441\n",
      "[432]\tvalidation_0-rmse:0.791953\tvalidation_1-rmse:0.818426\n",
      "[433]\tvalidation_0-rmse:0.791925\tvalidation_1-rmse:0.818439\n",
      "[434]\tvalidation_0-rmse:0.791865\tvalidation_1-rmse:0.818407\n",
      "[435]\tvalidation_0-rmse:0.791796\tvalidation_1-rmse:0.818363\n",
      "[436]\tvalidation_0-rmse:0.791774\tvalidation_1-rmse:0.818356\n",
      "[437]\tvalidation_0-rmse:0.791661\tvalidation_1-rmse:0.818293\n",
      "[438]\tvalidation_0-rmse:0.791632\tvalidation_1-rmse:0.818283\n",
      "[439]\tvalidation_0-rmse:0.791558\tvalidation_1-rmse:0.81825\n",
      "[440]\tvalidation_0-rmse:0.791489\tvalidation_1-rmse:0.818211\n",
      "[441]\tvalidation_0-rmse:0.791451\tvalidation_1-rmse:0.818182\n",
      "[442]\tvalidation_0-rmse:0.791296\tvalidation_1-rmse:0.818052\n",
      "[443]\tvalidation_0-rmse:0.791256\tvalidation_1-rmse:0.818031\n",
      "[444]\tvalidation_0-rmse:0.791114\tvalidation_1-rmse:0.817937\n",
      "[445]\tvalidation_0-rmse:0.790882\tvalidation_1-rmse:0.817699\n",
      "[446]\tvalidation_0-rmse:0.790839\tvalidation_1-rmse:0.817683\n",
      "[447]\tvalidation_0-rmse:0.790788\tvalidation_1-rmse:0.817645\n",
      "[448]\tvalidation_0-rmse:0.790765\tvalidation_1-rmse:0.817641\n",
      "[449]\tvalidation_0-rmse:0.790713\tvalidation_1-rmse:0.817629\n",
      "[450]\tvalidation_0-rmse:0.790642\tvalidation_1-rmse:0.817588\n",
      "[451]\tvalidation_0-rmse:0.790552\tvalidation_1-rmse:0.81754\n",
      "[452]\tvalidation_0-rmse:0.790491\tvalidation_1-rmse:0.817514\n",
      "[453]\tvalidation_0-rmse:0.790363\tvalidation_1-rmse:0.817409\n",
      "[454]\tvalidation_0-rmse:0.790319\tvalidation_1-rmse:0.817387\n",
      "[455]\tvalidation_0-rmse:0.79019\tvalidation_1-rmse:0.817269\n",
      "[456]\tvalidation_0-rmse:0.790116\tvalidation_1-rmse:0.817223\n",
      "[457]\tvalidation_0-rmse:0.790078\tvalidation_1-rmse:0.817213\n",
      "[458]\tvalidation_0-rmse:0.790005\tvalidation_1-rmse:0.817171\n",
      "[459]\tvalidation_0-rmse:0.789917\tvalidation_1-rmse:0.817124\n",
      "[460]\tvalidation_0-rmse:0.789872\tvalidation_1-rmse:0.817115\n",
      "[461]\tvalidation_0-rmse:0.789836\tvalidation_1-rmse:0.817101\n",
      "[462]\tvalidation_0-rmse:0.789816\tvalidation_1-rmse:0.817109\n",
      "[463]\tvalidation_0-rmse:0.789778\tvalidation_1-rmse:0.817104\n",
      "[464]\tvalidation_0-rmse:0.789736\tvalidation_1-rmse:0.817078\n",
      "[465]\tvalidation_0-rmse:0.789697\tvalidation_1-rmse:0.817075\n",
      "[466]\tvalidation_0-rmse:0.789663\tvalidation_1-rmse:0.817077\n",
      "[467]\tvalidation_0-rmse:0.789641\tvalidation_1-rmse:0.817074\n",
      "[468]\tvalidation_0-rmse:0.789603\tvalidation_1-rmse:0.817069\n",
      "[469]\tvalidation_0-rmse:0.789556\tvalidation_1-rmse:0.817051\n",
      "[470]\tvalidation_0-rmse:0.789486\tvalidation_1-rmse:0.817023\n",
      "[471]\tvalidation_0-rmse:0.789435\tvalidation_1-rmse:0.816998\n",
      "[472]\tvalidation_0-rmse:0.789396\tvalidation_1-rmse:0.816988\n",
      "[473]\tvalidation_0-rmse:0.789368\tvalidation_1-rmse:0.816985\n",
      "[474]\tvalidation_0-rmse:0.78932\tvalidation_1-rmse:0.816984\n",
      "[475]\tvalidation_0-rmse:0.789282\tvalidation_1-rmse:0.816962\n",
      "[476]\tvalidation_0-rmse:0.789234\tvalidation_1-rmse:0.816931\n",
      "[477]\tvalidation_0-rmse:0.789189\tvalidation_1-rmse:0.816929\n",
      "[478]\tvalidation_0-rmse:0.789165\tvalidation_1-rmse:0.816922\n",
      "[479]\tvalidation_0-rmse:0.789136\tvalidation_1-rmse:0.816914\n",
      "[480]\tvalidation_0-rmse:0.789106\tvalidation_1-rmse:0.816906\n",
      "[481]\tvalidation_0-rmse:0.78908\tvalidation_1-rmse:0.816901\n",
      "[482]\tvalidation_0-rmse:0.789053\tvalidation_1-rmse:0.816894\n",
      "[483]\tvalidation_0-rmse:0.788867\tvalidation_1-rmse:0.816746\n",
      "[484]\tvalidation_0-rmse:0.788837\tvalidation_1-rmse:0.816738\n",
      "[485]\tvalidation_0-rmse:0.788782\tvalidation_1-rmse:0.816713\n",
      "[486]\tvalidation_0-rmse:0.788725\tvalidation_1-rmse:0.816688\n",
      "[487]\tvalidation_0-rmse:0.788709\tvalidation_1-rmse:0.816683\n",
      "[488]\tvalidation_0-rmse:0.788646\tvalidation_1-rmse:0.816676\n",
      "[489]\tvalidation_0-rmse:0.788422\tvalidation_1-rmse:0.816525\n",
      "[490]\tvalidation_0-rmse:0.788393\tvalidation_1-rmse:0.816517\n",
      "[491]\tvalidation_0-rmse:0.788276\tvalidation_1-rmse:0.816433\n",
      "[492]\tvalidation_0-rmse:0.788243\tvalidation_1-rmse:0.816427\n",
      "[493]\tvalidation_0-rmse:0.788189\tvalidation_1-rmse:0.816417\n",
      "[494]\tvalidation_0-rmse:0.78815\tvalidation_1-rmse:0.816399\n",
      "[495]\tvalidation_0-rmse:0.78811\tvalidation_1-rmse:0.816384\n",
      "[496]\tvalidation_0-rmse:0.787741\tvalidation_1-rmse:0.816077\n",
      "[497]\tvalidation_0-rmse:0.787682\tvalidation_1-rmse:0.81605\n",
      "[498]\tvalidation_0-rmse:0.787661\tvalidation_1-rmse:0.816055\n",
      "[499]\tvalidation_0-rmse:0.787615\tvalidation_1-rmse:0.816045\n",
      "[500]\tvalidation_0-rmse:0.787576\tvalidation_1-rmse:0.81603\n",
      "[501]\tvalidation_0-rmse:0.787547\tvalidation_1-rmse:0.816029\n",
      "[502]\tvalidation_0-rmse:0.787469\tvalidation_1-rmse:0.815978\n",
      "[503]\tvalidation_0-rmse:0.787424\tvalidation_1-rmse:0.815967\n",
      "[504]\tvalidation_0-rmse:0.787374\tvalidation_1-rmse:0.815952\n",
      "[505]\tvalidation_0-rmse:0.787147\tvalidation_1-rmse:0.815753\n",
      "[506]\tvalidation_0-rmse:0.78706\tvalidation_1-rmse:0.815697\n",
      "[507]\tvalidation_0-rmse:0.786957\tvalidation_1-rmse:0.815625\n",
      "[508]\tvalidation_0-rmse:0.786918\tvalidation_1-rmse:0.81562\n",
      "[509]\tvalidation_0-rmse:0.786879\tvalidation_1-rmse:0.815598\n",
      "[510]\tvalidation_0-rmse:0.786824\tvalidation_1-rmse:0.815582\n",
      "[511]\tvalidation_0-rmse:0.786735\tvalidation_1-rmse:0.815521\n",
      "[512]\tvalidation_0-rmse:0.786712\tvalidation_1-rmse:0.815509\n",
      "[513]\tvalidation_0-rmse:0.786686\tvalidation_1-rmse:0.815508\n",
      "[514]\tvalidation_0-rmse:0.786627\tvalidation_1-rmse:0.815488\n",
      "[515]\tvalidation_0-rmse:0.786596\tvalidation_1-rmse:0.815472\n",
      "[516]\tvalidation_0-rmse:0.78651\tvalidation_1-rmse:0.815435\n",
      "[517]\tvalidation_0-rmse:0.786488\tvalidation_1-rmse:0.815426\n",
      "[518]\tvalidation_0-rmse:0.786425\tvalidation_1-rmse:0.8154\n",
      "[519]\tvalidation_0-rmse:0.78639\tvalidation_1-rmse:0.815392\n",
      "[520]\tvalidation_0-rmse:0.7862\tvalidation_1-rmse:0.815256\n",
      "[521]\tvalidation_0-rmse:0.78614\tvalidation_1-rmse:0.815228\n",
      "[522]\tvalidation_0-rmse:0.785976\tvalidation_1-rmse:0.815083\n",
      "[523]\tvalidation_0-rmse:0.785932\tvalidation_1-rmse:0.815078\n",
      "[524]\tvalidation_0-rmse:0.785855\tvalidation_1-rmse:0.815051\n",
      "[525]\tvalidation_0-rmse:0.785625\tvalidation_1-rmse:0.814855\n",
      "[526]\tvalidation_0-rmse:0.785586\tvalidation_1-rmse:0.814849\n",
      "[527]\tvalidation_0-rmse:0.785541\tvalidation_1-rmse:0.814827\n",
      "[528]\tvalidation_0-rmse:0.785503\tvalidation_1-rmse:0.814798\n",
      "[529]\tvalidation_0-rmse:0.785051\tvalidation_1-rmse:0.81442\n",
      "[530]\tvalidation_0-rmse:0.785026\tvalidation_1-rmse:0.81442\n",
      "[531]\tvalidation_0-rmse:0.785\tvalidation_1-rmse:0.8144\n",
      "[532]\tvalidation_0-rmse:0.784938\tvalidation_1-rmse:0.814369\n",
      "[533]\tvalidation_0-rmse:0.784916\tvalidation_1-rmse:0.814363\n",
      "[534]\tvalidation_0-rmse:0.784822\tvalidation_1-rmse:0.814294\n",
      "[535]\tvalidation_0-rmse:0.784783\tvalidation_1-rmse:0.814292\n",
      "[536]\tvalidation_0-rmse:0.784763\tvalidation_1-rmse:0.814285\n",
      "[537]\tvalidation_0-rmse:0.784708\tvalidation_1-rmse:0.814268\n",
      "[538]\tvalidation_0-rmse:0.78467\tvalidation_1-rmse:0.814255\n",
      "[539]\tvalidation_0-rmse:0.784566\tvalidation_1-rmse:0.814181\n",
      "[540]\tvalidation_0-rmse:0.784509\tvalidation_1-rmse:0.814157\n",
      "[541]\tvalidation_0-rmse:0.784477\tvalidation_1-rmse:0.814147\n",
      "[542]\tvalidation_0-rmse:0.784455\tvalidation_1-rmse:0.814137\n",
      "[543]\tvalidation_0-rmse:0.784387\tvalidation_1-rmse:0.814099\n",
      "[544]\tvalidation_0-rmse:0.784299\tvalidation_1-rmse:0.814039\n",
      "[545]\tvalidation_0-rmse:0.784265\tvalidation_1-rmse:0.814049\n",
      "[546]\tvalidation_0-rmse:0.784236\tvalidation_1-rmse:0.814042\n",
      "[547]\tvalidation_0-rmse:0.784169\tvalidation_1-rmse:0.813997\n",
      "[548]\tvalidation_0-rmse:0.784093\tvalidation_1-rmse:0.81395\n",
      "[549]\tvalidation_0-rmse:0.784062\tvalidation_1-rmse:0.813942\n"
     ]
    },
    {
     "name": "stdout",
     "output_type": "stream",
     "text": [
      "[550]\tvalidation_0-rmse:0.784037\tvalidation_1-rmse:0.81395\n",
      "[551]\tvalidation_0-rmse:0.78402\tvalidation_1-rmse:0.813945\n",
      "[552]\tvalidation_0-rmse:0.783866\tvalidation_1-rmse:0.813819\n",
      "[553]\tvalidation_0-rmse:0.783741\tvalidation_1-rmse:0.81374\n",
      "[554]\tvalidation_0-rmse:0.783715\tvalidation_1-rmse:0.813731\n",
      "[555]\tvalidation_0-rmse:0.783689\tvalidation_1-rmse:0.81372\n",
      "[556]\tvalidation_0-rmse:0.783657\tvalidation_1-rmse:0.813715\n",
      "[557]\tvalidation_0-rmse:0.783631\tvalidation_1-rmse:0.813707\n",
      "[558]\tvalidation_0-rmse:0.783391\tvalidation_1-rmse:0.81349\n",
      "[559]\tvalidation_0-rmse:0.783353\tvalidation_1-rmse:0.813483\n",
      "[560]\tvalidation_0-rmse:0.783269\tvalidation_1-rmse:0.813451\n",
      "[561]\tvalidation_0-rmse:0.783201\tvalidation_1-rmse:0.813415\n",
      "[562]\tvalidation_0-rmse:0.783178\tvalidation_1-rmse:0.813422\n",
      "[563]\tvalidation_0-rmse:0.783158\tvalidation_1-rmse:0.813421\n",
      "[564]\tvalidation_0-rmse:0.78314\tvalidation_1-rmse:0.813421\n",
      "[565]\tvalidation_0-rmse:0.783119\tvalidation_1-rmse:0.813419\n",
      "[566]\tvalidation_0-rmse:0.78307\tvalidation_1-rmse:0.813414\n",
      "[567]\tvalidation_0-rmse:0.783009\tvalidation_1-rmse:0.813385\n",
      "[568]\tvalidation_0-rmse:0.782811\tvalidation_1-rmse:0.813254\n",
      "[569]\tvalidation_0-rmse:0.782762\tvalidation_1-rmse:0.813238\n",
      "[570]\tvalidation_0-rmse:0.782725\tvalidation_1-rmse:0.81323\n",
      "[571]\tvalidation_0-rmse:0.782678\tvalidation_1-rmse:0.813214\n",
      "[572]\tvalidation_0-rmse:0.782634\tvalidation_1-rmse:0.813218\n",
      "[573]\tvalidation_0-rmse:0.782556\tvalidation_1-rmse:0.813166\n",
      "[574]\tvalidation_0-rmse:0.782528\tvalidation_1-rmse:0.813153\n",
      "[575]\tvalidation_0-rmse:0.782504\tvalidation_1-rmse:0.813151\n",
      "[576]\tvalidation_0-rmse:0.782459\tvalidation_1-rmse:0.813138\n",
      "[577]\tvalidation_0-rmse:0.782113\tvalidation_1-rmse:0.812875\n",
      "[578]\tvalidation_0-rmse:0.782095\tvalidation_1-rmse:0.812877\n",
      "[579]\tvalidation_0-rmse:0.782053\tvalidation_1-rmse:0.812861\n",
      "[580]\tvalidation_0-rmse:0.781966\tvalidation_1-rmse:0.8128\n",
      "[581]\tvalidation_0-rmse:0.781906\tvalidation_1-rmse:0.81276\n",
      "[582]\tvalidation_0-rmse:0.781879\tvalidation_1-rmse:0.812767\n",
      "[583]\tvalidation_0-rmse:0.781837\tvalidation_1-rmse:0.812747\n",
      "[584]\tvalidation_0-rmse:0.781779\tvalidation_1-rmse:0.812715\n",
      "[585]\tvalidation_0-rmse:0.781736\tvalidation_1-rmse:0.81271\n",
      "[586]\tvalidation_0-rmse:0.781707\tvalidation_1-rmse:0.812703\n",
      "[587]\tvalidation_0-rmse:0.781641\tvalidation_1-rmse:0.812684\n",
      "[588]\tvalidation_0-rmse:0.781605\tvalidation_1-rmse:0.812673\n",
      "[589]\tvalidation_0-rmse:0.781569\tvalidation_1-rmse:0.812665\n",
      "[590]\tvalidation_0-rmse:0.78152\tvalidation_1-rmse:0.81264\n",
      "[591]\tvalidation_0-rmse:0.781479\tvalidation_1-rmse:0.812615\n",
      "[592]\tvalidation_0-rmse:0.78143\tvalidation_1-rmse:0.812598\n",
      "[593]\tvalidation_0-rmse:0.781099\tvalidation_1-rmse:0.812337\n",
      "[594]\tvalidation_0-rmse:0.781072\tvalidation_1-rmse:0.81234\n",
      "[595]\tvalidation_0-rmse:0.781012\tvalidation_1-rmse:0.812291\n",
      "[596]\tvalidation_0-rmse:0.780963\tvalidation_1-rmse:0.812297\n",
      "[597]\tvalidation_0-rmse:0.780942\tvalidation_1-rmse:0.812306\n",
      "[598]\tvalidation_0-rmse:0.780896\tvalidation_1-rmse:0.812292\n",
      "[599]\tvalidation_0-rmse:0.780199\tvalidation_1-rmse:0.811666\n",
      "[600]\tvalidation_0-rmse:0.780155\tvalidation_1-rmse:0.811662\n",
      "[601]\tvalidation_0-rmse:0.780089\tvalidation_1-rmse:0.811644\n",
      "[602]\tvalidation_0-rmse:0.780067\tvalidation_1-rmse:0.811645\n",
      "[603]\tvalidation_0-rmse:0.780018\tvalidation_1-rmse:0.811626\n",
      "[604]\tvalidation_0-rmse:0.779952\tvalidation_1-rmse:0.811584\n",
      "[605]\tvalidation_0-rmse:0.77992\tvalidation_1-rmse:0.811593\n",
      "[606]\tvalidation_0-rmse:0.779891\tvalidation_1-rmse:0.811593\n",
      "[607]\tvalidation_0-rmse:0.779764\tvalidation_1-rmse:0.811468\n",
      "[608]\tvalidation_0-rmse:0.77967\tvalidation_1-rmse:0.811402\n",
      "[609]\tvalidation_0-rmse:0.779641\tvalidation_1-rmse:0.811394\n",
      "[610]\tvalidation_0-rmse:0.779564\tvalidation_1-rmse:0.811324\n",
      "[611]\tvalidation_0-rmse:0.779526\tvalidation_1-rmse:0.811311\n",
      "[612]\tvalidation_0-rmse:0.779507\tvalidation_1-rmse:0.811312\n",
      "[613]\tvalidation_0-rmse:0.779478\tvalidation_1-rmse:0.811295\n",
      "[614]\tvalidation_0-rmse:0.779443\tvalidation_1-rmse:0.811279\n",
      "[615]\tvalidation_0-rmse:0.779376\tvalidation_1-rmse:0.811257\n",
      "[616]\tvalidation_0-rmse:0.779361\tvalidation_1-rmse:0.811244\n",
      "[617]\tvalidation_0-rmse:0.779337\tvalidation_1-rmse:0.81122\n",
      "[618]\tvalidation_0-rmse:0.779301\tvalidation_1-rmse:0.8112\n",
      "[619]\tvalidation_0-rmse:0.779273\tvalidation_1-rmse:0.811199\n",
      "[620]\tvalidation_0-rmse:0.779239\tvalidation_1-rmse:0.811187\n",
      "[621]\tvalidation_0-rmse:0.779204\tvalidation_1-rmse:0.811184\n",
      "[622]\tvalidation_0-rmse:0.779182\tvalidation_1-rmse:0.811186\n",
      "[623]\tvalidation_0-rmse:0.779102\tvalidation_1-rmse:0.811127\n",
      "[624]\tvalidation_0-rmse:0.779078\tvalidation_1-rmse:0.811121\n",
      "[625]\tvalidation_0-rmse:0.779018\tvalidation_1-rmse:0.811105\n",
      "[626]\tvalidation_0-rmse:0.778992\tvalidation_1-rmse:0.811103\n",
      "[627]\tvalidation_0-rmse:0.778959\tvalidation_1-rmse:0.811084\n",
      "[628]\tvalidation_0-rmse:0.778918\tvalidation_1-rmse:0.811067\n",
      "[629]\tvalidation_0-rmse:0.778894\tvalidation_1-rmse:0.811065\n",
      "[630]\tvalidation_0-rmse:0.778879\tvalidation_1-rmse:0.811076\n",
      "[631]\tvalidation_0-rmse:0.778838\tvalidation_1-rmse:0.811068\n",
      "[632]\tvalidation_0-rmse:0.778758\tvalidation_1-rmse:0.811009\n",
      "[633]\tvalidation_0-rmse:0.778722\tvalidation_1-rmse:0.811004\n",
      "[634]\tvalidation_0-rmse:0.778682\tvalidation_1-rmse:0.810989\n",
      "[635]\tvalidation_0-rmse:0.778654\tvalidation_1-rmse:0.810993\n",
      "[636]\tvalidation_0-rmse:0.778633\tvalidation_1-rmse:0.810993\n",
      "[637]\tvalidation_0-rmse:0.778614\tvalidation_1-rmse:0.810987\n",
      "[638]\tvalidation_0-rmse:0.778568\tvalidation_1-rmse:0.81096\n",
      "[639]\tvalidation_0-rmse:0.778498\tvalidation_1-rmse:0.810927\n",
      "[640]\tvalidation_0-rmse:0.778464\tvalidation_1-rmse:0.810934\n",
      "[641]\tvalidation_0-rmse:0.778451\tvalidation_1-rmse:0.810933\n",
      "[642]\tvalidation_0-rmse:0.778438\tvalidation_1-rmse:0.810945\n",
      "[643]\tvalidation_0-rmse:0.778416\tvalidation_1-rmse:0.810938\n",
      "[644]\tvalidation_0-rmse:0.778384\tvalidation_1-rmse:0.810931\n",
      "[645]\tvalidation_0-rmse:0.778183\tvalidation_1-rmse:0.810767\n",
      "[646]\tvalidation_0-rmse:0.778149\tvalidation_1-rmse:0.810766\n",
      "[647]\tvalidation_0-rmse:0.778128\tvalidation_1-rmse:0.810759\n",
      "[648]\tvalidation_0-rmse:0.778092\tvalidation_1-rmse:0.810764\n",
      "[649]\tvalidation_0-rmse:0.77805\tvalidation_1-rmse:0.810761\n",
      "[650]\tvalidation_0-rmse:0.778018\tvalidation_1-rmse:0.810756\n",
      "[651]\tvalidation_0-rmse:0.777984\tvalidation_1-rmse:0.810746\n",
      "[652]\tvalidation_0-rmse:0.777947\tvalidation_1-rmse:0.810746\n",
      "[653]\tvalidation_0-rmse:0.777927\tvalidation_1-rmse:0.810734\n",
      "[654]\tvalidation_0-rmse:0.777889\tvalidation_1-rmse:0.810722\n",
      "[655]\tvalidation_0-rmse:0.777842\tvalidation_1-rmse:0.810698\n",
      "[656]\tvalidation_0-rmse:0.777803\tvalidation_1-rmse:0.810691\n",
      "[657]\tvalidation_0-rmse:0.777774\tvalidation_1-rmse:0.810685\n",
      "[658]\tvalidation_0-rmse:0.777748\tvalidation_1-rmse:0.810683\n",
      "[659]\tvalidation_0-rmse:0.777726\tvalidation_1-rmse:0.810677\n",
      "[660]\tvalidation_0-rmse:0.777647\tvalidation_1-rmse:0.810665\n",
      "[661]\tvalidation_0-rmse:0.77761\tvalidation_1-rmse:0.810658\n",
      "[662]\tvalidation_0-rmse:0.777527\tvalidation_1-rmse:0.810608\n",
      "[663]\tvalidation_0-rmse:0.7775\tvalidation_1-rmse:0.810607\n",
      "[664]\tvalidation_0-rmse:0.777485\tvalidation_1-rmse:0.810609\n",
      "[665]\tvalidation_0-rmse:0.777466\tvalidation_1-rmse:0.81061\n",
      "[666]\tvalidation_0-rmse:0.777419\tvalidation_1-rmse:0.810588\n",
      "[667]\tvalidation_0-rmse:0.777392\tvalidation_1-rmse:0.81059\n",
      "[668]\tvalidation_0-rmse:0.777352\tvalidation_1-rmse:0.810576\n",
      "[669]\tvalidation_0-rmse:0.777303\tvalidation_1-rmse:0.81054\n",
      "[670]\tvalidation_0-rmse:0.777254\tvalidation_1-rmse:0.810506\n",
      "[671]\tvalidation_0-rmse:0.77722\tvalidation_1-rmse:0.810496\n",
      "[672]\tvalidation_0-rmse:0.7772\tvalidation_1-rmse:0.810494\n",
      "[673]\tvalidation_0-rmse:0.777182\tvalidation_1-rmse:0.810476\n",
      "[674]\tvalidation_0-rmse:0.777148\tvalidation_1-rmse:0.810475\n",
      "[675]\tvalidation_0-rmse:0.777015\tvalidation_1-rmse:0.810358\n",
      "[676]\tvalidation_0-rmse:0.776991\tvalidation_1-rmse:0.81035\n",
      "[677]\tvalidation_0-rmse:0.77695\tvalidation_1-rmse:0.81033\n",
      "[678]\tvalidation_0-rmse:0.776921\tvalidation_1-rmse:0.81033\n",
      "[679]\tvalidation_0-rmse:0.77689\tvalidation_1-rmse:0.810321\n",
      "[680]\tvalidation_0-rmse:0.776726\tvalidation_1-rmse:0.810182\n",
      "[681]\tvalidation_0-rmse:0.776709\tvalidation_1-rmse:0.810187\n",
      "[682]\tvalidation_0-rmse:0.776073\tvalidation_1-rmse:0.809546\n",
      "[683]\tvalidation_0-rmse:0.77602\tvalidation_1-rmse:0.809538\n",
      "[684]\tvalidation_0-rmse:0.775995\tvalidation_1-rmse:0.809528\n",
      "[685]\tvalidation_0-rmse:0.775951\tvalidation_1-rmse:0.809516\n",
      "[686]\tvalidation_0-rmse:0.77594\tvalidation_1-rmse:0.809526\n",
      "[687]\tvalidation_0-rmse:0.775843\tvalidation_1-rmse:0.80946\n"
     ]
    },
    {
     "name": "stdout",
     "output_type": "stream",
     "text": [
      "[688]\tvalidation_0-rmse:0.775799\tvalidation_1-rmse:0.809437\n",
      "[689]\tvalidation_0-rmse:0.775694\tvalidation_1-rmse:0.809335\n",
      "[690]\tvalidation_0-rmse:0.775676\tvalidation_1-rmse:0.809333\n",
      "[691]\tvalidation_0-rmse:0.77565\tvalidation_1-rmse:0.80933\n",
      "[692]\tvalidation_0-rmse:0.775616\tvalidation_1-rmse:0.809317\n",
      "[693]\tvalidation_0-rmse:0.775573\tvalidation_1-rmse:0.809298\n",
      "[694]\tvalidation_0-rmse:0.775539\tvalidation_1-rmse:0.809276\n",
      "[695]\tvalidation_0-rmse:0.775504\tvalidation_1-rmse:0.809263\n",
      "[696]\tvalidation_0-rmse:0.775419\tvalidation_1-rmse:0.809185\n",
      "[697]\tvalidation_0-rmse:0.775352\tvalidation_1-rmse:0.80916\n",
      "[698]\tvalidation_0-rmse:0.775328\tvalidation_1-rmse:0.809165\n",
      "[699]\tvalidation_0-rmse:0.775275\tvalidation_1-rmse:0.809146\n",
      "[700]\tvalidation_0-rmse:0.775239\tvalidation_1-rmse:0.809139\n",
      "[701]\tvalidation_0-rmse:0.775216\tvalidation_1-rmse:0.809138\n",
      "[702]\tvalidation_0-rmse:0.775186\tvalidation_1-rmse:0.809131\n",
      "[703]\tvalidation_0-rmse:0.775149\tvalidation_1-rmse:0.809105\n",
      "[704]\tvalidation_0-rmse:0.775132\tvalidation_1-rmse:0.809106\n",
      "[705]\tvalidation_0-rmse:0.77509\tvalidation_1-rmse:0.809118\n",
      "[706]\tvalidation_0-rmse:0.775012\tvalidation_1-rmse:0.809066\n",
      "[707]\tvalidation_0-rmse:0.774966\tvalidation_1-rmse:0.809052\n",
      "[708]\tvalidation_0-rmse:0.774938\tvalidation_1-rmse:0.809049\n",
      "[709]\tvalidation_0-rmse:0.774886\tvalidation_1-rmse:0.809038\n",
      "[710]\tvalidation_0-rmse:0.77478\tvalidation_1-rmse:0.808998\n",
      "[711]\tvalidation_0-rmse:0.774763\tvalidation_1-rmse:0.809007\n",
      "[712]\tvalidation_0-rmse:0.77475\tvalidation_1-rmse:0.809002\n",
      "[713]\tvalidation_0-rmse:0.774708\tvalidation_1-rmse:0.808995\n",
      "[714]\tvalidation_0-rmse:0.774664\tvalidation_1-rmse:0.808994\n",
      "[715]\tvalidation_0-rmse:0.774637\tvalidation_1-rmse:0.808993\n",
      "[716]\tvalidation_0-rmse:0.774608\tvalidation_1-rmse:0.808987\n",
      "[717]\tvalidation_0-rmse:0.774586\tvalidation_1-rmse:0.808995\n",
      "[718]\tvalidation_0-rmse:0.77455\tvalidation_1-rmse:0.80899\n",
      "[719]\tvalidation_0-rmse:0.774508\tvalidation_1-rmse:0.808983\n",
      "[720]\tvalidation_0-rmse:0.774493\tvalidation_1-rmse:0.80897\n",
      "[721]\tvalidation_0-rmse:0.774466\tvalidation_1-rmse:0.808968\n",
      "[722]\tvalidation_0-rmse:0.774406\tvalidation_1-rmse:0.808937\n",
      "[723]\tvalidation_0-rmse:0.774381\tvalidation_1-rmse:0.808924\n",
      "[724]\tvalidation_0-rmse:0.774347\tvalidation_1-rmse:0.808926\n",
      "[725]\tvalidation_0-rmse:0.774316\tvalidation_1-rmse:0.808937\n",
      "[726]\tvalidation_0-rmse:0.774283\tvalidation_1-rmse:0.808926\n",
      "[727]\tvalidation_0-rmse:0.774231\tvalidation_1-rmse:0.808909\n",
      "[728]\tvalidation_0-rmse:0.774205\tvalidation_1-rmse:0.808894\n",
      "[729]\tvalidation_0-rmse:0.774183\tvalidation_1-rmse:0.8089\n",
      "[730]\tvalidation_0-rmse:0.77416\tvalidation_1-rmse:0.808903\n",
      "[731]\tvalidation_0-rmse:0.774138\tvalidation_1-rmse:0.808885\n",
      "[732]\tvalidation_0-rmse:0.774104\tvalidation_1-rmse:0.808863\n",
      "[733]\tvalidation_0-rmse:0.774066\tvalidation_1-rmse:0.808847\n",
      "[734]\tvalidation_0-rmse:0.774037\tvalidation_1-rmse:0.808843\n",
      "[735]\tvalidation_0-rmse:0.773997\tvalidation_1-rmse:0.80882\n",
      "[736]\tvalidation_0-rmse:0.773928\tvalidation_1-rmse:0.808797\n",
      "[737]\tvalidation_0-rmse:0.773906\tvalidation_1-rmse:0.80879\n",
      "[738]\tvalidation_0-rmse:0.773796\tvalidation_1-rmse:0.808725\n",
      "[739]\tvalidation_0-rmse:0.773756\tvalidation_1-rmse:0.808718\n",
      "[740]\tvalidation_0-rmse:0.773724\tvalidation_1-rmse:0.808704\n",
      "[741]\tvalidation_0-rmse:0.773644\tvalidation_1-rmse:0.80865\n",
      "[742]\tvalidation_0-rmse:0.773609\tvalidation_1-rmse:0.808644\n",
      "[743]\tvalidation_0-rmse:0.773578\tvalidation_1-rmse:0.808631\n",
      "[744]\tvalidation_0-rmse:0.773552\tvalidation_1-rmse:0.808632\n",
      "[745]\tvalidation_0-rmse:0.773512\tvalidation_1-rmse:0.808608\n",
      "[746]\tvalidation_0-rmse:0.773492\tvalidation_1-rmse:0.808608\n",
      "[747]\tvalidation_0-rmse:0.773464\tvalidation_1-rmse:0.808594\n",
      "[748]\tvalidation_0-rmse:0.773421\tvalidation_1-rmse:0.80858\n",
      "[749]\tvalidation_0-rmse:0.773399\tvalidation_1-rmse:0.80857\n",
      "[750]\tvalidation_0-rmse:0.773163\tvalidation_1-rmse:0.808369\n",
      "[751]\tvalidation_0-rmse:0.77309\tvalidation_1-rmse:0.808321\n",
      "[752]\tvalidation_0-rmse:0.773045\tvalidation_1-rmse:0.808291\n",
      "[753]\tvalidation_0-rmse:0.77302\tvalidation_1-rmse:0.808289\n",
      "[754]\tvalidation_0-rmse:0.77298\tvalidation_1-rmse:0.808285\n",
      "[755]\tvalidation_0-rmse:0.772944\tvalidation_1-rmse:0.808267\n",
      "[756]\tvalidation_0-rmse:0.772903\tvalidation_1-rmse:0.808251\n",
      "[757]\tvalidation_0-rmse:0.772859\tvalidation_1-rmse:0.808258\n",
      "[758]\tvalidation_0-rmse:0.772798\tvalidation_1-rmse:0.808233\n",
      "[759]\tvalidation_0-rmse:0.772492\tvalidation_1-rmse:0.807966\n",
      "[760]\tvalidation_0-rmse:0.772473\tvalidation_1-rmse:0.807966\n",
      "[761]\tvalidation_0-rmse:0.772444\tvalidation_1-rmse:0.80797\n",
      "[762]\tvalidation_0-rmse:0.772418\tvalidation_1-rmse:0.807963\n",
      "[763]\tvalidation_0-rmse:0.772356\tvalidation_1-rmse:0.807931\n",
      "[764]\tvalidation_0-rmse:0.772329\tvalidation_1-rmse:0.807931\n",
      "[765]\tvalidation_0-rmse:0.772307\tvalidation_1-rmse:0.807924\n",
      "[766]\tvalidation_0-rmse:0.772291\tvalidation_1-rmse:0.807909\n",
      "[767]\tvalidation_0-rmse:0.772281\tvalidation_1-rmse:0.807912\n",
      "[768]\tvalidation_0-rmse:0.772235\tvalidation_1-rmse:0.807898\n",
      "[769]\tvalidation_0-rmse:0.772174\tvalidation_1-rmse:0.807868\n",
      "[770]\tvalidation_0-rmse:0.772148\tvalidation_1-rmse:0.807867\n",
      "[771]\tvalidation_0-rmse:0.772129\tvalidation_1-rmse:0.807864\n",
      "[772]\tvalidation_0-rmse:0.772069\tvalidation_1-rmse:0.807825\n",
      "[773]\tvalidation_0-rmse:0.772005\tvalidation_1-rmse:0.807794\n",
      "[774]\tvalidation_0-rmse:0.771959\tvalidation_1-rmse:0.807777\n",
      "[775]\tvalidation_0-rmse:0.771926\tvalidation_1-rmse:0.807765\n",
      "[776]\tvalidation_0-rmse:0.771894\tvalidation_1-rmse:0.807741\n",
      "[777]\tvalidation_0-rmse:0.771863\tvalidation_1-rmse:0.807729\n",
      "[778]\tvalidation_0-rmse:0.771842\tvalidation_1-rmse:0.807718\n",
      "[779]\tvalidation_0-rmse:0.771827\tvalidation_1-rmse:0.807723\n",
      "[780]\tvalidation_0-rmse:0.771776\tvalidation_1-rmse:0.807691\n",
      "[781]\tvalidation_0-rmse:0.771678\tvalidation_1-rmse:0.807602\n",
      "[782]\tvalidation_0-rmse:0.771629\tvalidation_1-rmse:0.807589\n",
      "[783]\tvalidation_0-rmse:0.771609\tvalidation_1-rmse:0.807595\n",
      "[784]\tvalidation_0-rmse:0.771568\tvalidation_1-rmse:0.807585\n",
      "[785]\tvalidation_0-rmse:0.771525\tvalidation_1-rmse:0.807572\n",
      "[786]\tvalidation_0-rmse:0.77149\tvalidation_1-rmse:0.807561\n",
      "[787]\tvalidation_0-rmse:0.771459\tvalidation_1-rmse:0.807557\n",
      "[788]\tvalidation_0-rmse:0.771445\tvalidation_1-rmse:0.807562\n",
      "[789]\tvalidation_0-rmse:0.771422\tvalidation_1-rmse:0.807562\n",
      "[790]\tvalidation_0-rmse:0.771372\tvalidation_1-rmse:0.807546\n",
      "[791]\tvalidation_0-rmse:0.771222\tvalidation_1-rmse:0.807418\n",
      "[792]\tvalidation_0-rmse:0.771138\tvalidation_1-rmse:0.807365\n",
      "[793]\tvalidation_0-rmse:0.771114\tvalidation_1-rmse:0.807363\n",
      "[794]\tvalidation_0-rmse:0.771079\tvalidation_1-rmse:0.807369\n",
      "[795]\tvalidation_0-rmse:0.770838\tvalidation_1-rmse:0.807141\n",
      "[796]\tvalidation_0-rmse:0.77082\tvalidation_1-rmse:0.807141\n",
      "[797]\tvalidation_0-rmse:0.7708\tvalidation_1-rmse:0.807145\n",
      "[798]\tvalidation_0-rmse:0.770765\tvalidation_1-rmse:0.807123\n",
      "[799]\tvalidation_0-rmse:0.770737\tvalidation_1-rmse:0.807124\n",
      "[800]\tvalidation_0-rmse:0.770705\tvalidation_1-rmse:0.807126\n",
      "[801]\tvalidation_0-rmse:0.770665\tvalidation_1-rmse:0.807111\n",
      "[802]\tvalidation_0-rmse:0.770641\tvalidation_1-rmse:0.807108\n",
      "[803]\tvalidation_0-rmse:0.77057\tvalidation_1-rmse:0.807047\n",
      "[804]\tvalidation_0-rmse:0.770435\tvalidation_1-rmse:0.806931\n",
      "[805]\tvalidation_0-rmse:0.770415\tvalidation_1-rmse:0.806938\n",
      "[806]\tvalidation_0-rmse:0.770371\tvalidation_1-rmse:0.806943\n",
      "[807]\tvalidation_0-rmse:0.770357\tvalidation_1-rmse:0.806951\n",
      "[808]\tvalidation_0-rmse:0.770333\tvalidation_1-rmse:0.806962\n",
      "[809]\tvalidation_0-rmse:0.770291\tvalidation_1-rmse:0.80694\n",
      "[810]\tvalidation_0-rmse:0.770258\tvalidation_1-rmse:0.806928\n",
      "[811]\tvalidation_0-rmse:0.770234\tvalidation_1-rmse:0.806932\n",
      "[812]\tvalidation_0-rmse:0.770218\tvalidation_1-rmse:0.806938\n",
      "[813]\tvalidation_0-rmse:0.770189\tvalidation_1-rmse:0.806937\n",
      "[814]\tvalidation_0-rmse:0.770135\tvalidation_1-rmse:0.806897\n",
      "[815]\tvalidation_0-rmse:0.770113\tvalidation_1-rmse:0.806898\n",
      "[816]\tvalidation_0-rmse:0.770069\tvalidation_1-rmse:0.806875\n",
      "[817]\tvalidation_0-rmse:0.77004\tvalidation_1-rmse:0.806872\n",
      "[818]\tvalidation_0-rmse:0.770015\tvalidation_1-rmse:0.806876\n",
      "[819]\tvalidation_0-rmse:0.769996\tvalidation_1-rmse:0.806878\n",
      "[820]\tvalidation_0-rmse:0.769968\tvalidation_1-rmse:0.806891\n",
      "[821]\tvalidation_0-rmse:0.769946\tvalidation_1-rmse:0.806884\n",
      "[822]\tvalidation_0-rmse:0.769923\tvalidation_1-rmse:0.806882\n",
      "[823]\tvalidation_0-rmse:0.769869\tvalidation_1-rmse:0.806863\n",
      "[824]\tvalidation_0-rmse:0.769646\tvalidation_1-rmse:0.806678\n",
      "[825]\tvalidation_0-rmse:0.769627\tvalidation_1-rmse:0.806672\n"
     ]
    },
    {
     "name": "stdout",
     "output_type": "stream",
     "text": [
      "[826]\tvalidation_0-rmse:0.769587\tvalidation_1-rmse:0.806673\n",
      "[827]\tvalidation_0-rmse:0.769562\tvalidation_1-rmse:0.806663\n",
      "[828]\tvalidation_0-rmse:0.769539\tvalidation_1-rmse:0.806663\n",
      "[829]\tvalidation_0-rmse:0.769503\tvalidation_1-rmse:0.806636\n",
      "[830]\tvalidation_0-rmse:0.769491\tvalidation_1-rmse:0.806645\n",
      "[831]\tvalidation_0-rmse:0.769462\tvalidation_1-rmse:0.806652\n",
      "[832]\tvalidation_0-rmse:0.769435\tvalidation_1-rmse:0.806642\n",
      "[833]\tvalidation_0-rmse:0.76941\tvalidation_1-rmse:0.80664\n",
      "[834]\tvalidation_0-rmse:0.76938\tvalidation_1-rmse:0.80663\n",
      "[835]\tvalidation_0-rmse:0.769327\tvalidation_1-rmse:0.806593\n",
      "[836]\tvalidation_0-rmse:0.769303\tvalidation_1-rmse:0.8066\n",
      "[837]\tvalidation_0-rmse:0.769289\tvalidation_1-rmse:0.806595\n",
      "[838]\tvalidation_0-rmse:0.769257\tvalidation_1-rmse:0.806597\n",
      "[839]\tvalidation_0-rmse:0.769234\tvalidation_1-rmse:0.806591\n",
      "[840]\tvalidation_0-rmse:0.769154\tvalidation_1-rmse:0.806515\n",
      "[841]\tvalidation_0-rmse:0.769108\tvalidation_1-rmse:0.806487\n",
      "[842]\tvalidation_0-rmse:0.769027\tvalidation_1-rmse:0.806445\n",
      "[843]\tvalidation_0-rmse:0.768956\tvalidation_1-rmse:0.806385\n",
      "[844]\tvalidation_0-rmse:0.768922\tvalidation_1-rmse:0.806385\n",
      "[845]\tvalidation_0-rmse:0.768876\tvalidation_1-rmse:0.806354\n",
      "[846]\tvalidation_0-rmse:0.768722\tvalidation_1-rmse:0.806229\n",
      "[847]\tvalidation_0-rmse:0.768667\tvalidation_1-rmse:0.806189\n",
      "[848]\tvalidation_0-rmse:0.768642\tvalidation_1-rmse:0.806185\n",
      "[849]\tvalidation_0-rmse:0.768619\tvalidation_1-rmse:0.806172\n",
      "[850]\tvalidation_0-rmse:0.7686\tvalidation_1-rmse:0.806174\n",
      "[851]\tvalidation_0-rmse:0.768574\tvalidation_1-rmse:0.806161\n",
      "[852]\tvalidation_0-rmse:0.768554\tvalidation_1-rmse:0.806157\n",
      "[853]\tvalidation_0-rmse:0.76852\tvalidation_1-rmse:0.806157\n",
      "[854]\tvalidation_0-rmse:0.768501\tvalidation_1-rmse:0.806155\n",
      "[855]\tvalidation_0-rmse:0.76844\tvalidation_1-rmse:0.806124\n",
      "[856]\tvalidation_0-rmse:0.768395\tvalidation_1-rmse:0.806112\n",
      "[857]\tvalidation_0-rmse:0.768275\tvalidation_1-rmse:0.806018\n",
      "[858]\tvalidation_0-rmse:0.768209\tvalidation_1-rmse:0.805978\n",
      "[859]\tvalidation_0-rmse:0.76819\tvalidation_1-rmse:0.805985\n",
      "[860]\tvalidation_0-rmse:0.768168\tvalidation_1-rmse:0.805976\n",
      "[861]\tvalidation_0-rmse:0.768139\tvalidation_1-rmse:0.805972\n",
      "[862]\tvalidation_0-rmse:0.768127\tvalidation_1-rmse:0.805971\n",
      "[863]\tvalidation_0-rmse:0.768112\tvalidation_1-rmse:0.805972\n",
      "[864]\tvalidation_0-rmse:0.768065\tvalidation_1-rmse:0.80595\n",
      "[865]\tvalidation_0-rmse:0.767843\tvalidation_1-rmse:0.805765\n",
      "[866]\tvalidation_0-rmse:0.767801\tvalidation_1-rmse:0.805733\n",
      "[867]\tvalidation_0-rmse:0.767771\tvalidation_1-rmse:0.805727\n",
      "[868]\tvalidation_0-rmse:0.767743\tvalidation_1-rmse:0.805716\n",
      "[869]\tvalidation_0-rmse:0.767703\tvalidation_1-rmse:0.805701\n",
      "[870]\tvalidation_0-rmse:0.767672\tvalidation_1-rmse:0.80569\n",
      "[871]\tvalidation_0-rmse:0.767616\tvalidation_1-rmse:0.805649\n",
      "[872]\tvalidation_0-rmse:0.767577\tvalidation_1-rmse:0.805653\n",
      "[873]\tvalidation_0-rmse:0.767546\tvalidation_1-rmse:0.805651\n",
      "[874]\tvalidation_0-rmse:0.767522\tvalidation_1-rmse:0.805652\n",
      "[875]\tvalidation_0-rmse:0.76745\tvalidation_1-rmse:0.805618\n",
      "[876]\tvalidation_0-rmse:0.767431\tvalidation_1-rmse:0.805621\n",
      "[877]\tvalidation_0-rmse:0.767206\tvalidation_1-rmse:0.805471\n",
      "[878]\tvalidation_0-rmse:0.767188\tvalidation_1-rmse:0.805475\n",
      "[879]\tvalidation_0-rmse:0.767108\tvalidation_1-rmse:0.805419\n",
      "[880]\tvalidation_0-rmse:0.76707\tvalidation_1-rmse:0.805407\n",
      "[881]\tvalidation_0-rmse:0.767039\tvalidation_1-rmse:0.805416\n",
      "[882]\tvalidation_0-rmse:0.766971\tvalidation_1-rmse:0.805352\n",
      "[883]\tvalidation_0-rmse:0.766958\tvalidation_1-rmse:0.805342\n",
      "[884]\tvalidation_0-rmse:0.76693\tvalidation_1-rmse:0.805348\n",
      "[885]\tvalidation_0-rmse:0.766898\tvalidation_1-rmse:0.805351\n",
      "[886]\tvalidation_0-rmse:0.766868\tvalidation_1-rmse:0.805356\n",
      "[887]\tvalidation_0-rmse:0.766842\tvalidation_1-rmse:0.805371\n",
      "[888]\tvalidation_0-rmse:0.766792\tvalidation_1-rmse:0.805345\n",
      "[889]\tvalidation_0-rmse:0.766725\tvalidation_1-rmse:0.805318\n",
      "[890]\tvalidation_0-rmse:0.766703\tvalidation_1-rmse:0.805318\n",
      "[891]\tvalidation_0-rmse:0.766653\tvalidation_1-rmse:0.805289\n",
      "[892]\tvalidation_0-rmse:0.766625\tvalidation_1-rmse:0.805276\n",
      "[893]\tvalidation_0-rmse:0.766593\tvalidation_1-rmse:0.80528\n",
      "[894]\tvalidation_0-rmse:0.766577\tvalidation_1-rmse:0.805279\n",
      "[895]\tvalidation_0-rmse:0.766554\tvalidation_1-rmse:0.805274\n",
      "[896]\tvalidation_0-rmse:0.766528\tvalidation_1-rmse:0.80526\n",
      "[897]\tvalidation_0-rmse:0.766506\tvalidation_1-rmse:0.805262\n",
      "[898]\tvalidation_0-rmse:0.766474\tvalidation_1-rmse:0.805252\n",
      "[899]\tvalidation_0-rmse:0.766441\tvalidation_1-rmse:0.805242\n",
      "[900]\tvalidation_0-rmse:0.766412\tvalidation_1-rmse:0.805249\n",
      "[901]\tvalidation_0-rmse:0.766397\tvalidation_1-rmse:0.805242\n",
      "[902]\tvalidation_0-rmse:0.766377\tvalidation_1-rmse:0.805238\n",
      "[903]\tvalidation_0-rmse:0.766348\tvalidation_1-rmse:0.805239\n",
      "[904]\tvalidation_0-rmse:0.766313\tvalidation_1-rmse:0.805225\n",
      "[905]\tvalidation_0-rmse:0.766289\tvalidation_1-rmse:0.805228\n",
      "[906]\tvalidation_0-rmse:0.766269\tvalidation_1-rmse:0.805223\n",
      "[907]\tvalidation_0-rmse:0.766232\tvalidation_1-rmse:0.805207\n",
      "[908]\tvalidation_0-rmse:0.766199\tvalidation_1-rmse:0.805213\n",
      "[909]\tvalidation_0-rmse:0.765861\tvalidation_1-rmse:0.804877\n",
      "[910]\tvalidation_0-rmse:0.765719\tvalidation_1-rmse:0.80476\n",
      "[911]\tvalidation_0-rmse:0.765707\tvalidation_1-rmse:0.804758\n",
      "[912]\tvalidation_0-rmse:0.765684\tvalidation_1-rmse:0.804753\n",
      "[913]\tvalidation_0-rmse:0.765665\tvalidation_1-rmse:0.804743\n",
      "[914]\tvalidation_0-rmse:0.765632\tvalidation_1-rmse:0.804738\n",
      "[915]\tvalidation_0-rmse:0.765592\tvalidation_1-rmse:0.804721\n",
      "[916]\tvalidation_0-rmse:0.765567\tvalidation_1-rmse:0.804706\n",
      "[917]\tvalidation_0-rmse:0.765555\tvalidation_1-rmse:0.804716\n",
      "[918]\tvalidation_0-rmse:0.765506\tvalidation_1-rmse:0.804685\n",
      "[919]\tvalidation_0-rmse:0.765444\tvalidation_1-rmse:0.804645\n",
      "[920]\tvalidation_0-rmse:0.765394\tvalidation_1-rmse:0.804631\n",
      "[921]\tvalidation_0-rmse:0.76537\tvalidation_1-rmse:0.804621\n",
      "[922]\tvalidation_0-rmse:0.765259\tvalidation_1-rmse:0.80454\n",
      "[923]\tvalidation_0-rmse:0.76523\tvalidation_1-rmse:0.804554\n",
      "[924]\tvalidation_0-rmse:0.765114\tvalidation_1-rmse:0.804482\n",
      "[925]\tvalidation_0-rmse:0.7651\tvalidation_1-rmse:0.804483\n",
      "[926]\tvalidation_0-rmse:0.765074\tvalidation_1-rmse:0.804483\n",
      "[927]\tvalidation_0-rmse:0.765007\tvalidation_1-rmse:0.80444\n",
      "[928]\tvalidation_0-rmse:0.764969\tvalidation_1-rmse:0.804441\n",
      "[929]\tvalidation_0-rmse:0.764928\tvalidation_1-rmse:0.804428\n",
      "[930]\tvalidation_0-rmse:0.764905\tvalidation_1-rmse:0.804418\n",
      "[931]\tvalidation_0-rmse:0.764892\tvalidation_1-rmse:0.804414\n",
      "[932]\tvalidation_0-rmse:0.764873\tvalidation_1-rmse:0.804408\n",
      "[933]\tvalidation_0-rmse:0.764858\tvalidation_1-rmse:0.804408\n",
      "[934]\tvalidation_0-rmse:0.764761\tvalidation_1-rmse:0.804367\n",
      "[935]\tvalidation_0-rmse:0.76472\tvalidation_1-rmse:0.804359\n",
      "[936]\tvalidation_0-rmse:0.764699\tvalidation_1-rmse:0.804367\n",
      "[937]\tvalidation_0-rmse:0.764677\tvalidation_1-rmse:0.804367\n",
      "[938]\tvalidation_0-rmse:0.764574\tvalidation_1-rmse:0.804276\n",
      "[939]\tvalidation_0-rmse:0.764532\tvalidation_1-rmse:0.804249\n",
      "[940]\tvalidation_0-rmse:0.764502\tvalidation_1-rmse:0.804234\n",
      "[941]\tvalidation_0-rmse:0.764468\tvalidation_1-rmse:0.804225\n",
      "[942]\tvalidation_0-rmse:0.76441\tvalidation_1-rmse:0.804201\n",
      "[943]\tvalidation_0-rmse:0.764396\tvalidation_1-rmse:0.804202\n",
      "[944]\tvalidation_0-rmse:0.764378\tvalidation_1-rmse:0.804204\n",
      "[945]\tvalidation_0-rmse:0.764355\tvalidation_1-rmse:0.804195\n",
      "[946]\tvalidation_0-rmse:0.764314\tvalidation_1-rmse:0.804181\n",
      "[947]\tvalidation_0-rmse:0.764294\tvalidation_1-rmse:0.804175\n",
      "[948]\tvalidation_0-rmse:0.764275\tvalidation_1-rmse:0.804171\n",
      "[949]\tvalidation_0-rmse:0.76425\tvalidation_1-rmse:0.804159\n",
      "[950]\tvalidation_0-rmse:0.764222\tvalidation_1-rmse:0.804154\n",
      "[951]\tvalidation_0-rmse:0.764162\tvalidation_1-rmse:0.804115\n",
      "[952]\tvalidation_0-rmse:0.764136\tvalidation_1-rmse:0.804122\n",
      "[953]\tvalidation_0-rmse:0.764104\tvalidation_1-rmse:0.804123\n",
      "[954]\tvalidation_0-rmse:0.764071\tvalidation_1-rmse:0.80413\n",
      "[955]\tvalidation_0-rmse:0.764013\tvalidation_1-rmse:0.804113\n",
      "[956]\tvalidation_0-rmse:0.763949\tvalidation_1-rmse:0.804099\n",
      "[957]\tvalidation_0-rmse:0.763893\tvalidation_1-rmse:0.80408\n",
      "[958]\tvalidation_0-rmse:0.763868\tvalidation_1-rmse:0.804077\n",
      "[959]\tvalidation_0-rmse:0.763851\tvalidation_1-rmse:0.804084\n",
      "[960]\tvalidation_0-rmse:0.763806\tvalidation_1-rmse:0.80409\n",
      "[961]\tvalidation_0-rmse:0.763764\tvalidation_1-rmse:0.804065\n",
      "[962]\tvalidation_0-rmse:0.763737\tvalidation_1-rmse:0.804071\n",
      "[963]\tvalidation_0-rmse:0.763721\tvalidation_1-rmse:0.804069\n"
     ]
    },
    {
     "name": "stdout",
     "output_type": "stream",
     "text": [
      "[964]\tvalidation_0-rmse:0.763678\tvalidation_1-rmse:0.804047\n",
      "[965]\tvalidation_0-rmse:0.763657\tvalidation_1-rmse:0.804041\n",
      "[966]\tvalidation_0-rmse:0.763638\tvalidation_1-rmse:0.804037\n",
      "[967]\tvalidation_0-rmse:0.763618\tvalidation_1-rmse:0.804032\n",
      "[968]\tvalidation_0-rmse:0.763568\tvalidation_1-rmse:0.804016\n",
      "[969]\tvalidation_0-rmse:0.763544\tvalidation_1-rmse:0.804018\n",
      "[970]\tvalidation_0-rmse:0.763518\tvalidation_1-rmse:0.804019\n",
      "[971]\tvalidation_0-rmse:0.763322\tvalidation_1-rmse:0.803834\n",
      "[972]\tvalidation_0-rmse:0.763309\tvalidation_1-rmse:0.80384\n",
      "[973]\tvalidation_0-rmse:0.76323\tvalidation_1-rmse:0.803795\n",
      "[974]\tvalidation_0-rmse:0.763208\tvalidation_1-rmse:0.803798\n",
      "[975]\tvalidation_0-rmse:0.763188\tvalidation_1-rmse:0.8038\n",
      "[976]\tvalidation_0-rmse:0.76315\tvalidation_1-rmse:0.803791\n",
      "[977]\tvalidation_0-rmse:0.763117\tvalidation_1-rmse:0.803786\n",
      "[978]\tvalidation_0-rmse:0.76309\tvalidation_1-rmse:0.803792\n",
      "[979]\tvalidation_0-rmse:0.763067\tvalidation_1-rmse:0.803781\n",
      "[980]\tvalidation_0-rmse:0.762738\tvalidation_1-rmse:0.803475\n",
      "[981]\tvalidation_0-rmse:0.762691\tvalidation_1-rmse:0.803465\n",
      "[982]\tvalidation_0-rmse:0.762668\tvalidation_1-rmse:0.803457\n",
      "[983]\tvalidation_0-rmse:0.762645\tvalidation_1-rmse:0.803442\n",
      "[984]\tvalidation_0-rmse:0.762624\tvalidation_1-rmse:0.803434\n",
      "[985]\tvalidation_0-rmse:0.762599\tvalidation_1-rmse:0.803424\n",
      "[986]\tvalidation_0-rmse:0.762575\tvalidation_1-rmse:0.803409\n",
      "[987]\tvalidation_0-rmse:0.762557\tvalidation_1-rmse:0.803413\n",
      "[988]\tvalidation_0-rmse:0.762507\tvalidation_1-rmse:0.803381\n",
      "[989]\tvalidation_0-rmse:0.76249\tvalidation_1-rmse:0.803375\n",
      "[990]\tvalidation_0-rmse:0.762477\tvalidation_1-rmse:0.803369\n",
      "[991]\tvalidation_0-rmse:0.762455\tvalidation_1-rmse:0.803375\n",
      "[992]\tvalidation_0-rmse:0.762426\tvalidation_1-rmse:0.803369\n",
      "[993]\tvalidation_0-rmse:0.762369\tvalidation_1-rmse:0.803336\n",
      "[994]\tvalidation_0-rmse:0.76234\tvalidation_1-rmse:0.803322\n",
      "[995]\tvalidation_0-rmse:0.762293\tvalidation_1-rmse:0.803277\n",
      "[996]\tvalidation_0-rmse:0.762255\tvalidation_1-rmse:0.803269\n",
      "[997]\tvalidation_0-rmse:0.762217\tvalidation_1-rmse:0.803251\n",
      "[998]\tvalidation_0-rmse:0.762136\tvalidation_1-rmse:0.803196\n",
      "[999]\tvalidation_0-rmse:0.762111\tvalidation_1-rmse:0.803196\n",
      "[1000]\tvalidation_0-rmse:0.762058\tvalidation_1-rmse:0.803167\n",
      "[1001]\tvalidation_0-rmse:0.762038\tvalidation_1-rmse:0.803165\n",
      "[1002]\tvalidation_0-rmse:0.762017\tvalidation_1-rmse:0.803146\n",
      "[1003]\tvalidation_0-rmse:0.761995\tvalidation_1-rmse:0.803139\n",
      "[1004]\tvalidation_0-rmse:0.761973\tvalidation_1-rmse:0.803136\n",
      "[1005]\tvalidation_0-rmse:0.761913\tvalidation_1-rmse:0.803101\n",
      "[1006]\tvalidation_0-rmse:0.7619\tvalidation_1-rmse:0.80312\n",
      "[1007]\tvalidation_0-rmse:0.761861\tvalidation_1-rmse:0.803094\n",
      "[1008]\tvalidation_0-rmse:0.761842\tvalidation_1-rmse:0.803092\n",
      "[1009]\tvalidation_0-rmse:0.761776\tvalidation_1-rmse:0.803064\n",
      "[1010]\tvalidation_0-rmse:0.761759\tvalidation_1-rmse:0.803066\n",
      "[1011]\tvalidation_0-rmse:0.761741\tvalidation_1-rmse:0.803074\n",
      "[1012]\tvalidation_0-rmse:0.761718\tvalidation_1-rmse:0.803067\n",
      "[1013]\tvalidation_0-rmse:0.761651\tvalidation_1-rmse:0.803047\n",
      "[1014]\tvalidation_0-rmse:0.76129\tvalidation_1-rmse:0.802746\n",
      "[1015]\tvalidation_0-rmse:0.761271\tvalidation_1-rmse:0.802743\n",
      "[1016]\tvalidation_0-rmse:0.761257\tvalidation_1-rmse:0.802737\n",
      "[1017]\tvalidation_0-rmse:0.761236\tvalidation_1-rmse:0.802736\n",
      "[1018]\tvalidation_0-rmse:0.7612\tvalidation_1-rmse:0.802736\n",
      "[1019]\tvalidation_0-rmse:0.76118\tvalidation_1-rmse:0.802734\n",
      "[1020]\tvalidation_0-rmse:0.761141\tvalidation_1-rmse:0.802711\n",
      "[1021]\tvalidation_0-rmse:0.76112\tvalidation_1-rmse:0.802706\n",
      "[1022]\tvalidation_0-rmse:0.761105\tvalidation_1-rmse:0.802704\n",
      "[1023]\tvalidation_0-rmse:0.760957\tvalidation_1-rmse:0.802619\n",
      "[1024]\tvalidation_0-rmse:0.76093\tvalidation_1-rmse:0.802609\n",
      "[1025]\tvalidation_0-rmse:0.760917\tvalidation_1-rmse:0.802604\n",
      "[1026]\tvalidation_0-rmse:0.760865\tvalidation_1-rmse:0.802581\n",
      "[1027]\tvalidation_0-rmse:0.760845\tvalidation_1-rmse:0.802585\n",
      "[1028]\tvalidation_0-rmse:0.760802\tvalidation_1-rmse:0.802577\n",
      "[1029]\tvalidation_0-rmse:0.76078\tvalidation_1-rmse:0.802569\n",
      "[1030]\tvalidation_0-rmse:0.760761\tvalidation_1-rmse:0.802563\n",
      "[1031]\tvalidation_0-rmse:0.760738\tvalidation_1-rmse:0.802551\n",
      "[1032]\tvalidation_0-rmse:0.760715\tvalidation_1-rmse:0.802543\n",
      "[1033]\tvalidation_0-rmse:0.760673\tvalidation_1-rmse:0.802531\n",
      "[1034]\tvalidation_0-rmse:0.760652\tvalidation_1-rmse:0.80253\n",
      "[1035]\tvalidation_0-rmse:0.760609\tvalidation_1-rmse:0.802516\n",
      "[1036]\tvalidation_0-rmse:0.760584\tvalidation_1-rmse:0.802519\n",
      "[1037]\tvalidation_0-rmse:0.76054\tvalidation_1-rmse:0.80251\n",
      "[1038]\tvalidation_0-rmse:0.760439\tvalidation_1-rmse:0.80243\n",
      "[1039]\tvalidation_0-rmse:0.76042\tvalidation_1-rmse:0.802424\n",
      "[1040]\tvalidation_0-rmse:0.760409\tvalidation_1-rmse:0.802434\n",
      "[1041]\tvalidation_0-rmse:0.760386\tvalidation_1-rmse:0.802425\n",
      "[1042]\tvalidation_0-rmse:0.760362\tvalidation_1-rmse:0.802422\n",
      "[1043]\tvalidation_0-rmse:0.760337\tvalidation_1-rmse:0.802406\n",
      "[1044]\tvalidation_0-rmse:0.760323\tvalidation_1-rmse:0.802402\n",
      "[1045]\tvalidation_0-rmse:0.760302\tvalidation_1-rmse:0.802402\n",
      "[1046]\tvalidation_0-rmse:0.760252\tvalidation_1-rmse:0.802373\n",
      "[1047]\tvalidation_0-rmse:0.760207\tvalidation_1-rmse:0.802342\n",
      "[1048]\tvalidation_0-rmse:0.760172\tvalidation_1-rmse:0.802341\n",
      "[1049]\tvalidation_0-rmse:0.760156\tvalidation_1-rmse:0.802334\n",
      "[1050]\tvalidation_0-rmse:0.76013\tvalidation_1-rmse:0.802332\n",
      "[1051]\tvalidation_0-rmse:0.760109\tvalidation_1-rmse:0.802325\n",
      "[1052]\tvalidation_0-rmse:0.76009\tvalidation_1-rmse:0.802325\n",
      "[1053]\tvalidation_0-rmse:0.760074\tvalidation_1-rmse:0.802325\n",
      "[1054]\tvalidation_0-rmse:0.760059\tvalidation_1-rmse:0.802323\n",
      "[1055]\tvalidation_0-rmse:0.760039\tvalidation_1-rmse:0.802304\n",
      "[1056]\tvalidation_0-rmse:0.760002\tvalidation_1-rmse:0.802299\n",
      "[1057]\tvalidation_0-rmse:0.759986\tvalidation_1-rmse:0.802294\n",
      "[1058]\tvalidation_0-rmse:0.759967\tvalidation_1-rmse:0.802299\n",
      "[1059]\tvalidation_0-rmse:0.759939\tvalidation_1-rmse:0.802297\n",
      "[1060]\tvalidation_0-rmse:0.759913\tvalidation_1-rmse:0.802292\n",
      "[1061]\tvalidation_0-rmse:0.759878\tvalidation_1-rmse:0.802275\n",
      "[1062]\tvalidation_0-rmse:0.759836\tvalidation_1-rmse:0.802249\n",
      "[1063]\tvalidation_0-rmse:0.759822\tvalidation_1-rmse:0.802252\n",
      "[1064]\tvalidation_0-rmse:0.759766\tvalidation_1-rmse:0.802224\n",
      "[1065]\tvalidation_0-rmse:0.759731\tvalidation_1-rmse:0.802225\n",
      "[1066]\tvalidation_0-rmse:0.759715\tvalidation_1-rmse:0.802219\n",
      "[1067]\tvalidation_0-rmse:0.759686\tvalidation_1-rmse:0.802211\n",
      "[1068]\tvalidation_0-rmse:0.759665\tvalidation_1-rmse:0.802204\n",
      "[1069]\tvalidation_0-rmse:0.759637\tvalidation_1-rmse:0.802189\n",
      "[1070]\tvalidation_0-rmse:0.759612\tvalidation_1-rmse:0.802187\n",
      "[1071]\tvalidation_0-rmse:0.759556\tvalidation_1-rmse:0.802157\n",
      "[1072]\tvalidation_0-rmse:0.759357\tvalidation_1-rmse:0.801973\n",
      "[1073]\tvalidation_0-rmse:0.75934\tvalidation_1-rmse:0.801977\n",
      "[1074]\tvalidation_0-rmse:0.75932\tvalidation_1-rmse:0.801974\n",
      "[1075]\tvalidation_0-rmse:0.759288\tvalidation_1-rmse:0.801963\n",
      "[1076]\tvalidation_0-rmse:0.759243\tvalidation_1-rmse:0.801942\n",
      "[1077]\tvalidation_0-rmse:0.759223\tvalidation_1-rmse:0.801939\n",
      "[1078]\tvalidation_0-rmse:0.759094\tvalidation_1-rmse:0.801829\n",
      "[1079]\tvalidation_0-rmse:0.759059\tvalidation_1-rmse:0.801834\n",
      "[1080]\tvalidation_0-rmse:0.759046\tvalidation_1-rmse:0.801839\n",
      "[1081]\tvalidation_0-rmse:0.759031\tvalidation_1-rmse:0.801841\n",
      "[1082]\tvalidation_0-rmse:0.758948\tvalidation_1-rmse:0.801785\n",
      "[1083]\tvalidation_0-rmse:0.758933\tvalidation_1-rmse:0.80179\n",
      "[1084]\tvalidation_0-rmse:0.758908\tvalidation_1-rmse:0.801785\n",
      "[1085]\tvalidation_0-rmse:0.758884\tvalidation_1-rmse:0.801786\n",
      "[1086]\tvalidation_0-rmse:0.758834\tvalidation_1-rmse:0.801761\n",
      "[1087]\tvalidation_0-rmse:0.758665\tvalidation_1-rmse:0.801647\n",
      "[1088]\tvalidation_0-rmse:0.758646\tvalidation_1-rmse:0.80164\n",
      "[1089]\tvalidation_0-rmse:0.758618\tvalidation_1-rmse:0.801658\n",
      "[1090]\tvalidation_0-rmse:0.758605\tvalidation_1-rmse:0.801657\n",
      "[1091]\tvalidation_0-rmse:0.758496\tvalidation_1-rmse:0.801585\n",
      "[1092]\tvalidation_0-rmse:0.758465\tvalidation_1-rmse:0.80158\n",
      "[1093]\tvalidation_0-rmse:0.758448\tvalidation_1-rmse:0.801574\n",
      "[1094]\tvalidation_0-rmse:0.758339\tvalidation_1-rmse:0.801502\n",
      "[1095]\tvalidation_0-rmse:0.758318\tvalidation_1-rmse:0.801496\n",
      "[1096]\tvalidation_0-rmse:0.758256\tvalidation_1-rmse:0.801444\n",
      "[1097]\tvalidation_0-rmse:0.758242\tvalidation_1-rmse:0.801443\n",
      "[1098]\tvalidation_0-rmse:0.758224\tvalidation_1-rmse:0.801446\n",
      "[1099]\tvalidation_0-rmse:0.75814\tvalidation_1-rmse:0.801404\n"
     ]
    },
    {
     "name": "stdout",
     "output_type": "stream",
     "text": [
      "[1100]\tvalidation_0-rmse:0.75811\tvalidation_1-rmse:0.801388\n",
      "[1101]\tvalidation_0-rmse:0.758068\tvalidation_1-rmse:0.801364\n",
      "[1102]\tvalidation_0-rmse:0.758041\tvalidation_1-rmse:0.801373\n",
      "[1103]\tvalidation_0-rmse:0.757984\tvalidation_1-rmse:0.801343\n",
      "[1104]\tvalidation_0-rmse:0.757953\tvalidation_1-rmse:0.801333\n",
      "[1105]\tvalidation_0-rmse:0.757938\tvalidation_1-rmse:0.801326\n",
      "[1106]\tvalidation_0-rmse:0.757903\tvalidation_1-rmse:0.801316\n",
      "[1107]\tvalidation_0-rmse:0.757851\tvalidation_1-rmse:0.801287\n",
      "[1108]\tvalidation_0-rmse:0.757831\tvalidation_1-rmse:0.801274\n",
      "[1109]\tvalidation_0-rmse:0.757794\tvalidation_1-rmse:0.801266\n",
      "[1110]\tvalidation_0-rmse:0.757766\tvalidation_1-rmse:0.801266\n",
      "[1111]\tvalidation_0-rmse:0.757747\tvalidation_1-rmse:0.801255\n",
      "[1112]\tvalidation_0-rmse:0.757701\tvalidation_1-rmse:0.80124\n",
      "[1113]\tvalidation_0-rmse:0.757634\tvalidation_1-rmse:0.801193\n",
      "[1114]\tvalidation_0-rmse:0.757606\tvalidation_1-rmse:0.801177\n",
      "[1115]\tvalidation_0-rmse:0.757544\tvalidation_1-rmse:0.801121\n",
      "[1116]\tvalidation_0-rmse:0.757523\tvalidation_1-rmse:0.801124\n",
      "[1117]\tvalidation_0-rmse:0.757508\tvalidation_1-rmse:0.801112\n",
      "[1118]\tvalidation_0-rmse:0.757474\tvalidation_1-rmse:0.801084\n",
      "[1119]\tvalidation_0-rmse:0.75741\tvalidation_1-rmse:0.801028\n",
      "[1120]\tvalidation_0-rmse:0.757379\tvalidation_1-rmse:0.80103\n",
      "[1121]\tvalidation_0-rmse:0.757355\tvalidation_1-rmse:0.801028\n",
      "[1122]\tvalidation_0-rmse:0.75734\tvalidation_1-rmse:0.801018\n",
      "[1123]\tvalidation_0-rmse:0.757324\tvalidation_1-rmse:0.801015\n",
      "[1124]\tvalidation_0-rmse:0.757292\tvalidation_1-rmse:0.800994\n",
      "[1125]\tvalidation_0-rmse:0.757274\tvalidation_1-rmse:0.800986\n",
      "[1126]\tvalidation_0-rmse:0.757264\tvalidation_1-rmse:0.800989\n",
      "[1127]\tvalidation_0-rmse:0.757247\tvalidation_1-rmse:0.800983\n",
      "[1128]\tvalidation_0-rmse:0.757196\tvalidation_1-rmse:0.800954\n",
      "[1129]\tvalidation_0-rmse:0.75716\tvalidation_1-rmse:0.800937\n",
      "[1130]\tvalidation_0-rmse:0.757135\tvalidation_1-rmse:0.800953\n",
      "[1131]\tvalidation_0-rmse:0.757091\tvalidation_1-rmse:0.80096\n",
      "[1132]\tvalidation_0-rmse:0.757025\tvalidation_1-rmse:0.800927\n",
      "[1133]\tvalidation_0-rmse:0.757003\tvalidation_1-rmse:0.800938\n",
      "[1134]\tvalidation_0-rmse:0.75691\tvalidation_1-rmse:0.800832\n",
      "[1135]\tvalidation_0-rmse:0.756889\tvalidation_1-rmse:0.800832\n",
      "[1136]\tvalidation_0-rmse:0.756843\tvalidation_1-rmse:0.80079\n",
      "[1137]\tvalidation_0-rmse:0.756827\tvalidation_1-rmse:0.800787\n",
      "[1138]\tvalidation_0-rmse:0.756803\tvalidation_1-rmse:0.800778\n",
      "[1139]\tvalidation_0-rmse:0.756767\tvalidation_1-rmse:0.800762\n",
      "[1140]\tvalidation_0-rmse:0.756742\tvalidation_1-rmse:0.800753\n",
      "[1141]\tvalidation_0-rmse:0.756713\tvalidation_1-rmse:0.800743\n",
      "[1142]\tvalidation_0-rmse:0.756688\tvalidation_1-rmse:0.800743\n",
      "[1143]\tvalidation_0-rmse:0.756672\tvalidation_1-rmse:0.800736\n",
      "[1144]\tvalidation_0-rmse:0.756642\tvalidation_1-rmse:0.800749\n",
      "[1145]\tvalidation_0-rmse:0.756625\tvalidation_1-rmse:0.800753\n",
      "[1146]\tvalidation_0-rmse:0.756572\tvalidation_1-rmse:0.800739\n",
      "[1147]\tvalidation_0-rmse:0.756552\tvalidation_1-rmse:0.800738\n",
      "[1148]\tvalidation_0-rmse:0.756508\tvalidation_1-rmse:0.800726\n",
      "[1149]\tvalidation_0-rmse:0.756494\tvalidation_1-rmse:0.80073\n",
      "[1150]\tvalidation_0-rmse:0.756458\tvalidation_1-rmse:0.800718\n",
      "[1151]\tvalidation_0-rmse:0.756384\tvalidation_1-rmse:0.800663\n",
      "[1152]\tvalidation_0-rmse:0.756358\tvalidation_1-rmse:0.800665\n",
      "[1153]\tvalidation_0-rmse:0.756332\tvalidation_1-rmse:0.800672\n",
      "[1154]\tvalidation_0-rmse:0.756206\tvalidation_1-rmse:0.80058\n",
      "[1155]\tvalidation_0-rmse:0.756172\tvalidation_1-rmse:0.80057\n",
      "[1156]\tvalidation_0-rmse:0.756157\tvalidation_1-rmse:0.80057\n",
      "[1157]\tvalidation_0-rmse:0.756132\tvalidation_1-rmse:0.800565\n",
      "[1158]\tvalidation_0-rmse:0.756083\tvalidation_1-rmse:0.800533\n",
      "[1159]\tvalidation_0-rmse:0.756021\tvalidation_1-rmse:0.800493\n",
      "[1160]\tvalidation_0-rmse:0.756008\tvalidation_1-rmse:0.800497\n",
      "[1161]\tvalidation_0-rmse:0.755993\tvalidation_1-rmse:0.80049\n",
      "[1162]\tvalidation_0-rmse:0.755962\tvalidation_1-rmse:0.800466\n",
      "[1163]\tvalidation_0-rmse:0.755955\tvalidation_1-rmse:0.800472\n",
      "[1164]\tvalidation_0-rmse:0.755909\tvalidation_1-rmse:0.800457\n",
      "[1165]\tvalidation_0-rmse:0.755884\tvalidation_1-rmse:0.800439\n",
      "[1166]\tvalidation_0-rmse:0.755857\tvalidation_1-rmse:0.800428\n",
      "[1167]\tvalidation_0-rmse:0.755817\tvalidation_1-rmse:0.800407\n",
      "[1168]\tvalidation_0-rmse:0.755784\tvalidation_1-rmse:0.800391\n",
      "[1169]\tvalidation_0-rmse:0.755743\tvalidation_1-rmse:0.800368\n",
      "[1170]\tvalidation_0-rmse:0.755716\tvalidation_1-rmse:0.800366\n",
      "[1171]\tvalidation_0-rmse:0.755702\tvalidation_1-rmse:0.800356\n",
      "[1172]\tvalidation_0-rmse:0.755694\tvalidation_1-rmse:0.800355\n",
      "[1173]\tvalidation_0-rmse:0.755678\tvalidation_1-rmse:0.800354\n",
      "[1174]\tvalidation_0-rmse:0.755649\tvalidation_1-rmse:0.800348\n",
      "[1175]\tvalidation_0-rmse:0.755625\tvalidation_1-rmse:0.800343\n",
      "[1176]\tvalidation_0-rmse:0.755571\tvalidation_1-rmse:0.800308\n",
      "[1177]\tvalidation_0-rmse:0.755549\tvalidation_1-rmse:0.800299\n",
      "[1178]\tvalidation_0-rmse:0.755534\tvalidation_1-rmse:0.800292\n",
      "[1179]\tvalidation_0-rmse:0.755517\tvalidation_1-rmse:0.800296\n",
      "[1180]\tvalidation_0-rmse:0.755501\tvalidation_1-rmse:0.800297\n",
      "[1181]\tvalidation_0-rmse:0.755277\tvalidation_1-rmse:0.800117\n",
      "[1182]\tvalidation_0-rmse:0.755255\tvalidation_1-rmse:0.800105\n",
      "[1183]\tvalidation_0-rmse:0.755233\tvalidation_1-rmse:0.800111\n",
      "[1184]\tvalidation_0-rmse:0.755203\tvalidation_1-rmse:0.800105\n",
      "[1185]\tvalidation_0-rmse:0.755156\tvalidation_1-rmse:0.800097\n",
      "[1186]\tvalidation_0-rmse:0.755137\tvalidation_1-rmse:0.800095\n",
      "[1187]\tvalidation_0-rmse:0.755111\tvalidation_1-rmse:0.800082\n",
      "[1188]\tvalidation_0-rmse:0.755085\tvalidation_1-rmse:0.800081\n",
      "[1189]\tvalidation_0-rmse:0.755047\tvalidation_1-rmse:0.80008\n",
      "[1190]\tvalidation_0-rmse:0.755015\tvalidation_1-rmse:0.800084\n",
      "[1191]\tvalidation_0-rmse:0.754993\tvalidation_1-rmse:0.800085\n",
      "[1192]\tvalidation_0-rmse:0.754786\tvalidation_1-rmse:0.799916\n",
      "[1193]\tvalidation_0-rmse:0.754773\tvalidation_1-rmse:0.799911\n",
      "[1194]\tvalidation_0-rmse:0.754673\tvalidation_1-rmse:0.799835\n",
      "[1195]\tvalidation_0-rmse:0.754647\tvalidation_1-rmse:0.799835\n",
      "[1196]\tvalidation_0-rmse:0.754637\tvalidation_1-rmse:0.79983\n",
      "[1197]\tvalidation_0-rmse:0.754617\tvalidation_1-rmse:0.799837\n",
      "[1198]\tvalidation_0-rmse:0.754601\tvalidation_1-rmse:0.799841\n",
      "[1199]\tvalidation_0-rmse:0.75458\tvalidation_1-rmse:0.799836\n",
      "[1200]\tvalidation_0-rmse:0.75454\tvalidation_1-rmse:0.799823\n",
      "[1201]\tvalidation_0-rmse:0.754519\tvalidation_1-rmse:0.799824\n",
      "[1202]\tvalidation_0-rmse:0.754491\tvalidation_1-rmse:0.79981\n",
      "[1203]\tvalidation_0-rmse:0.754476\tvalidation_1-rmse:0.799809\n",
      "[1204]\tvalidation_0-rmse:0.75443\tvalidation_1-rmse:0.799809\n",
      "[1205]\tvalidation_0-rmse:0.754167\tvalidation_1-rmse:0.799578\n",
      "[1206]\tvalidation_0-rmse:0.754153\tvalidation_1-rmse:0.799574\n",
      "[1207]\tvalidation_0-rmse:0.754141\tvalidation_1-rmse:0.799562\n",
      "[1208]\tvalidation_0-rmse:0.754106\tvalidation_1-rmse:0.799539\n",
      "[1209]\tvalidation_0-rmse:0.754075\tvalidation_1-rmse:0.799535\n",
      "[1210]\tvalidation_0-rmse:0.75404\tvalidation_1-rmse:0.799519\n",
      "[1211]\tvalidation_0-rmse:0.754017\tvalidation_1-rmse:0.799521\n",
      "[1212]\tvalidation_0-rmse:0.753992\tvalidation_1-rmse:0.799519\n",
      "[1213]\tvalidation_0-rmse:0.753943\tvalidation_1-rmse:0.799498\n",
      "[1214]\tvalidation_0-rmse:0.753914\tvalidation_1-rmse:0.799487\n",
      "[1215]\tvalidation_0-rmse:0.753543\tvalidation_1-rmse:0.799189\n",
      "[1216]\tvalidation_0-rmse:0.753523\tvalidation_1-rmse:0.799188\n",
      "[1217]\tvalidation_0-rmse:0.75351\tvalidation_1-rmse:0.79919\n",
      "[1218]\tvalidation_0-rmse:0.753491\tvalidation_1-rmse:0.799182\n",
      "[1219]\tvalidation_0-rmse:0.75343\tvalidation_1-rmse:0.799149\n",
      "[1220]\tvalidation_0-rmse:0.753415\tvalidation_1-rmse:0.799156\n",
      "[1221]\tvalidation_0-rmse:0.753386\tvalidation_1-rmse:0.799156\n",
      "[1222]\tvalidation_0-rmse:0.753373\tvalidation_1-rmse:0.799152\n",
      "[1223]\tvalidation_0-rmse:0.753349\tvalidation_1-rmse:0.79915\n",
      "[1224]\tvalidation_0-rmse:0.753323\tvalidation_1-rmse:0.799141\n",
      "[1225]\tvalidation_0-rmse:0.753291\tvalidation_1-rmse:0.799121\n",
      "[1226]\tvalidation_0-rmse:0.753269\tvalidation_1-rmse:0.799121\n",
      "[1227]\tvalidation_0-rmse:0.753232\tvalidation_1-rmse:0.799108\n",
      "[1228]\tvalidation_0-rmse:0.753096\tvalidation_1-rmse:0.798965\n",
      "[1229]\tvalidation_0-rmse:0.75308\tvalidation_1-rmse:0.798962\n",
      "[1230]\tvalidation_0-rmse:0.753051\tvalidation_1-rmse:0.798955\n",
      "[1231]\tvalidation_0-rmse:0.753033\tvalidation_1-rmse:0.798957\n",
      "[1232]\tvalidation_0-rmse:0.753014\tvalidation_1-rmse:0.798957\n",
      "[1233]\tvalidation_0-rmse:0.752971\tvalidation_1-rmse:0.798945\n",
      "[1234]\tvalidation_0-rmse:0.75293\tvalidation_1-rmse:0.798929\n"
     ]
    },
    {
     "name": "stdout",
     "output_type": "stream",
     "text": [
      "[1235]\tvalidation_0-rmse:0.752875\tvalidation_1-rmse:0.798913\n",
      "[1236]\tvalidation_0-rmse:0.752863\tvalidation_1-rmse:0.798916\n",
      "[1237]\tvalidation_0-rmse:0.75282\tvalidation_1-rmse:0.798907\n",
      "[1238]\tvalidation_0-rmse:0.752803\tvalidation_1-rmse:0.798914\n",
      "[1239]\tvalidation_0-rmse:0.752791\tvalidation_1-rmse:0.798911\n",
      "[1240]\tvalidation_0-rmse:0.752773\tvalidation_1-rmse:0.798908\n",
      "[1241]\tvalidation_0-rmse:0.75273\tvalidation_1-rmse:0.798884\n",
      "[1242]\tvalidation_0-rmse:0.752718\tvalidation_1-rmse:0.798883\n",
      "[1243]\tvalidation_0-rmse:0.752704\tvalidation_1-rmse:0.798879\n",
      "[1244]\tvalidation_0-rmse:0.75269\tvalidation_1-rmse:0.798883\n",
      "[1245]\tvalidation_0-rmse:0.752674\tvalidation_1-rmse:0.798882\n",
      "[1246]\tvalidation_0-rmse:0.752654\tvalidation_1-rmse:0.798879\n",
      "[1247]\tvalidation_0-rmse:0.752576\tvalidation_1-rmse:0.798817\n",
      "[1248]\tvalidation_0-rmse:0.752556\tvalidation_1-rmse:0.798808\n",
      "[1249]\tvalidation_0-rmse:0.752452\tvalidation_1-rmse:0.798737\n",
      "[1250]\tvalidation_0-rmse:0.752425\tvalidation_1-rmse:0.798718\n",
      "[1251]\tvalidation_0-rmse:0.752395\tvalidation_1-rmse:0.798695\n",
      "[1252]\tvalidation_0-rmse:0.752378\tvalidation_1-rmse:0.798691\n",
      "[1253]\tvalidation_0-rmse:0.752366\tvalidation_1-rmse:0.798696\n",
      "[1254]\tvalidation_0-rmse:0.752354\tvalidation_1-rmse:0.798704\n",
      "[1255]\tvalidation_0-rmse:0.752324\tvalidation_1-rmse:0.798702\n",
      "[1256]\tvalidation_0-rmse:0.75226\tvalidation_1-rmse:0.798652\n",
      "[1257]\tvalidation_0-rmse:0.752245\tvalidation_1-rmse:0.798655\n",
      "[1258]\tvalidation_0-rmse:0.752235\tvalidation_1-rmse:0.79865\n",
      "[1259]\tvalidation_0-rmse:0.752217\tvalidation_1-rmse:0.798649\n",
      "[1260]\tvalidation_0-rmse:0.752195\tvalidation_1-rmse:0.798648\n",
      "[1261]\tvalidation_0-rmse:0.752175\tvalidation_1-rmse:0.798652\n",
      "[1262]\tvalidation_0-rmse:0.752143\tvalidation_1-rmse:0.798632\n",
      "[1263]\tvalidation_0-rmse:0.752124\tvalidation_1-rmse:0.798622\n",
      "[1264]\tvalidation_0-rmse:0.752104\tvalidation_1-rmse:0.798618\n",
      "[1265]\tvalidation_0-rmse:0.752092\tvalidation_1-rmse:0.798615\n",
      "[1266]\tvalidation_0-rmse:0.752069\tvalidation_1-rmse:0.798614\n",
      "[1267]\tvalidation_0-rmse:0.752012\tvalidation_1-rmse:0.7986\n",
      "[1268]\tvalidation_0-rmse:0.751981\tvalidation_1-rmse:0.798581\n",
      "[1269]\tvalidation_0-rmse:0.751966\tvalidation_1-rmse:0.798586\n",
      "[1270]\tvalidation_0-rmse:0.751939\tvalidation_1-rmse:0.798578\n",
      "[1271]\tvalidation_0-rmse:0.751921\tvalidation_1-rmse:0.798575\n",
      "[1272]\tvalidation_0-rmse:0.751913\tvalidation_1-rmse:0.79857\n",
      "[1273]\tvalidation_0-rmse:0.751897\tvalidation_1-rmse:0.798563\n",
      "[1274]\tvalidation_0-rmse:0.751808\tvalidation_1-rmse:0.798504\n",
      "[1275]\tvalidation_0-rmse:0.751765\tvalidation_1-rmse:0.798479\n",
      "[1276]\tvalidation_0-rmse:0.751711\tvalidation_1-rmse:0.798445\n",
      "[1277]\tvalidation_0-rmse:0.751676\tvalidation_1-rmse:0.79842\n",
      "[1278]\tvalidation_0-rmse:0.751647\tvalidation_1-rmse:0.7984\n",
      "[1279]\tvalidation_0-rmse:0.751622\tvalidation_1-rmse:0.79838\n",
      "[1280]\tvalidation_0-rmse:0.751453\tvalidation_1-rmse:0.798239\n",
      "[1281]\tvalidation_0-rmse:0.751411\tvalidation_1-rmse:0.798221\n",
      "[1282]\tvalidation_0-rmse:0.751352\tvalidation_1-rmse:0.798175\n",
      "[1283]\tvalidation_0-rmse:0.751291\tvalidation_1-rmse:0.798161\n",
      "[1284]\tvalidation_0-rmse:0.751275\tvalidation_1-rmse:0.798164\n",
      "[1285]\tvalidation_0-rmse:0.751241\tvalidation_1-rmse:0.798159\n",
      "[1286]\tvalidation_0-rmse:0.751204\tvalidation_1-rmse:0.798159\n",
      "[1287]\tvalidation_0-rmse:0.75119\tvalidation_1-rmse:0.798158\n",
      "[1288]\tvalidation_0-rmse:0.751145\tvalidation_1-rmse:0.79814\n",
      "[1289]\tvalidation_0-rmse:0.751127\tvalidation_1-rmse:0.798131\n",
      "[1290]\tvalidation_0-rmse:0.751118\tvalidation_1-rmse:0.798129\n",
      "[1291]\tvalidation_0-rmse:0.751088\tvalidation_1-rmse:0.798131\n",
      "[1292]\tvalidation_0-rmse:0.751055\tvalidation_1-rmse:0.79812\n",
      "[1293]\tvalidation_0-rmse:0.751041\tvalidation_1-rmse:0.798122\n",
      "[1294]\tvalidation_0-rmse:0.750909\tvalidation_1-rmse:0.797985\n",
      "[1295]\tvalidation_0-rmse:0.750898\tvalidation_1-rmse:0.797978\n",
      "[1296]\tvalidation_0-rmse:0.750869\tvalidation_1-rmse:0.797971\n",
      "[1297]\tvalidation_0-rmse:0.750848\tvalidation_1-rmse:0.797974\n",
      "[1298]\tvalidation_0-rmse:0.750789\tvalidation_1-rmse:0.797941\n",
      "[1299]\tvalidation_0-rmse:0.750772\tvalidation_1-rmse:0.797945\n",
      "[1300]\tvalidation_0-rmse:0.750754\tvalidation_1-rmse:0.797944\n",
      "[1301]\tvalidation_0-rmse:0.750724\tvalidation_1-rmse:0.797927\n",
      "[1302]\tvalidation_0-rmse:0.750694\tvalidation_1-rmse:0.797919\n",
      "[1303]\tvalidation_0-rmse:0.750682\tvalidation_1-rmse:0.797913\n",
      "[1304]\tvalidation_0-rmse:0.750658\tvalidation_1-rmse:0.797907\n",
      "[1305]\tvalidation_0-rmse:0.750599\tvalidation_1-rmse:0.797882\n",
      "[1306]\tvalidation_0-rmse:0.750578\tvalidation_1-rmse:0.797884\n",
      "[1307]\tvalidation_0-rmse:0.750526\tvalidation_1-rmse:0.797862\n",
      "[1308]\tvalidation_0-rmse:0.750512\tvalidation_1-rmse:0.797857\n",
      "[1309]\tvalidation_0-rmse:0.750487\tvalidation_1-rmse:0.79785\n",
      "[1310]\tvalidation_0-rmse:0.750464\tvalidation_1-rmse:0.797858\n",
      "[1311]\tvalidation_0-rmse:0.750448\tvalidation_1-rmse:0.797856\n",
      "[1312]\tvalidation_0-rmse:0.750427\tvalidation_1-rmse:0.797859\n",
      "[1313]\tvalidation_0-rmse:0.75036\tvalidation_1-rmse:0.79783\n",
      "[1314]\tvalidation_0-rmse:0.750322\tvalidation_1-rmse:0.797819\n",
      "[1315]\tvalidation_0-rmse:0.750301\tvalidation_1-rmse:0.797822\n",
      "[1316]\tvalidation_0-rmse:0.750264\tvalidation_1-rmse:0.797815\n",
      "[1317]\tvalidation_0-rmse:0.749869\tvalidation_1-rmse:0.797478\n",
      "[1318]\tvalidation_0-rmse:0.749846\tvalidation_1-rmse:0.797477\n",
      "[1319]\tvalidation_0-rmse:0.749827\tvalidation_1-rmse:0.797474\n",
      "[1320]\tvalidation_0-rmse:0.749817\tvalidation_1-rmse:0.797472\n",
      "[1321]\tvalidation_0-rmse:0.749806\tvalidation_1-rmse:0.797466\n",
      "[1322]\tvalidation_0-rmse:0.749765\tvalidation_1-rmse:0.797474\n",
      "[1323]\tvalidation_0-rmse:0.749732\tvalidation_1-rmse:0.797449\n",
      "[1324]\tvalidation_0-rmse:0.749685\tvalidation_1-rmse:0.797433\n",
      "[1325]\tvalidation_0-rmse:0.749393\tvalidation_1-rmse:0.797212\n",
      "[1326]\tvalidation_0-rmse:0.749374\tvalidation_1-rmse:0.797199\n",
      "[1327]\tvalidation_0-rmse:0.749355\tvalidation_1-rmse:0.797199\n",
      "[1328]\tvalidation_0-rmse:0.749329\tvalidation_1-rmse:0.797191\n",
      "[1329]\tvalidation_0-rmse:0.749307\tvalidation_1-rmse:0.797188\n",
      "[1330]\tvalidation_0-rmse:0.749296\tvalidation_1-rmse:0.797182\n",
      "[1331]\tvalidation_0-rmse:0.749278\tvalidation_1-rmse:0.797181\n",
      "[1332]\tvalidation_0-rmse:0.749251\tvalidation_1-rmse:0.797178\n",
      "[1333]\tvalidation_0-rmse:0.749225\tvalidation_1-rmse:0.797168\n",
      "[1334]\tvalidation_0-rmse:0.749214\tvalidation_1-rmse:0.797168\n",
      "[1335]\tvalidation_0-rmse:0.749182\tvalidation_1-rmse:0.797168\n",
      "[1336]\tvalidation_0-rmse:0.749171\tvalidation_1-rmse:0.797168\n",
      "[1337]\tvalidation_0-rmse:0.749149\tvalidation_1-rmse:0.797161\n",
      "[1338]\tvalidation_0-rmse:0.749142\tvalidation_1-rmse:0.797165\n",
      "[1339]\tvalidation_0-rmse:0.748963\tvalidation_1-rmse:0.797035\n",
      "[1340]\tvalidation_0-rmse:0.748902\tvalidation_1-rmse:0.797004\n",
      "[1341]\tvalidation_0-rmse:0.748882\tvalidation_1-rmse:0.797009\n",
      "[1342]\tvalidation_0-rmse:0.748845\tvalidation_1-rmse:0.797012\n",
      "[1343]\tvalidation_0-rmse:0.748821\tvalidation_1-rmse:0.797007\n",
      "[1344]\tvalidation_0-rmse:0.748804\tvalidation_1-rmse:0.797004\n",
      "[1345]\tvalidation_0-rmse:0.748656\tvalidation_1-rmse:0.796864\n",
      "[1346]\tvalidation_0-rmse:0.748646\tvalidation_1-rmse:0.796863\n",
      "[1347]\tvalidation_0-rmse:0.748579\tvalidation_1-rmse:0.796818\n",
      "[1348]\tvalidation_0-rmse:0.748563\tvalidation_1-rmse:0.796808\n",
      "[1349]\tvalidation_0-rmse:0.74855\tvalidation_1-rmse:0.796811\n",
      "[1350]\tvalidation_0-rmse:0.748496\tvalidation_1-rmse:0.796769\n",
      "[1351]\tvalidation_0-rmse:0.748479\tvalidation_1-rmse:0.796769\n",
      "[1352]\tvalidation_0-rmse:0.748464\tvalidation_1-rmse:0.79676\n",
      "[1353]\tvalidation_0-rmse:0.748426\tvalidation_1-rmse:0.79675\n",
      "[1354]\tvalidation_0-rmse:0.748398\tvalidation_1-rmse:0.796742\n",
      "[1355]\tvalidation_0-rmse:0.748374\tvalidation_1-rmse:0.796738\n",
      "[1356]\tvalidation_0-rmse:0.748296\tvalidation_1-rmse:0.796694\n",
      "[1357]\tvalidation_0-rmse:0.748259\tvalidation_1-rmse:0.79668\n",
      "[1358]\tvalidation_0-rmse:0.748239\tvalidation_1-rmse:0.796689\n",
      "[1359]\tvalidation_0-rmse:0.748223\tvalidation_1-rmse:0.796686\n",
      "[1360]\tvalidation_0-rmse:0.748194\tvalidation_1-rmse:0.796669\n",
      "[1361]\tvalidation_0-rmse:0.748172\tvalidation_1-rmse:0.796657\n",
      "[1362]\tvalidation_0-rmse:0.748154\tvalidation_1-rmse:0.796656\n",
      "[1363]\tvalidation_0-rmse:0.748139\tvalidation_1-rmse:0.796644\n",
      "[1364]\tvalidation_0-rmse:0.74813\tvalidation_1-rmse:0.796643\n",
      "[1365]\tvalidation_0-rmse:0.748115\tvalidation_1-rmse:0.79664\n",
      "[1366]\tvalidation_0-rmse:0.747972\tvalidation_1-rmse:0.796524\n",
      "[1367]\tvalidation_0-rmse:0.747958\tvalidation_1-rmse:0.796524\n",
      "[1368]\tvalidation_0-rmse:0.747947\tvalidation_1-rmse:0.796516\n",
      "[1369]\tvalidation_0-rmse:0.747898\tvalidation_1-rmse:0.796488\n"
     ]
    },
    {
     "name": "stdout",
     "output_type": "stream",
     "text": [
      "[1370]\tvalidation_0-rmse:0.747889\tvalidation_1-rmse:0.79648\n",
      "[1371]\tvalidation_0-rmse:0.747877\tvalidation_1-rmse:0.796488\n",
      "[1372]\tvalidation_0-rmse:0.747863\tvalidation_1-rmse:0.796499\n",
      "[1373]\tvalidation_0-rmse:0.747846\tvalidation_1-rmse:0.796487\n",
      "[1374]\tvalidation_0-rmse:0.747807\tvalidation_1-rmse:0.796466\n",
      "[1375]\tvalidation_0-rmse:0.747797\tvalidation_1-rmse:0.796468\n",
      "[1376]\tvalidation_0-rmse:0.747776\tvalidation_1-rmse:0.796465\n",
      "[1377]\tvalidation_0-rmse:0.747727\tvalidation_1-rmse:0.796437\n",
      "[1378]\tvalidation_0-rmse:0.747657\tvalidation_1-rmse:0.7964\n",
      "[1379]\tvalidation_0-rmse:0.74765\tvalidation_1-rmse:0.796402\n",
      "[1380]\tvalidation_0-rmse:0.747607\tvalidation_1-rmse:0.796385\n",
      "[1381]\tvalidation_0-rmse:0.747585\tvalidation_1-rmse:0.796391\n",
      "[1382]\tvalidation_0-rmse:0.747567\tvalidation_1-rmse:0.796383\n",
      "[1383]\tvalidation_0-rmse:0.747453\tvalidation_1-rmse:0.796307\n",
      "[1384]\tvalidation_0-rmse:0.747443\tvalidation_1-rmse:0.796308\n",
      "[1385]\tvalidation_0-rmse:0.747428\tvalidation_1-rmse:0.796312\n",
      "[1386]\tvalidation_0-rmse:0.747395\tvalidation_1-rmse:0.796287\n",
      "[1387]\tvalidation_0-rmse:0.747377\tvalidation_1-rmse:0.796283\n",
      "[1388]\tvalidation_0-rmse:0.747319\tvalidation_1-rmse:0.796244\n",
      "[1389]\tvalidation_0-rmse:0.747299\tvalidation_1-rmse:0.796236\n",
      "[1390]\tvalidation_0-rmse:0.747275\tvalidation_1-rmse:0.796222\n",
      "[1391]\tvalidation_0-rmse:0.74726\tvalidation_1-rmse:0.796221\n",
      "[1392]\tvalidation_0-rmse:0.747216\tvalidation_1-rmse:0.796202\n",
      "[1393]\tvalidation_0-rmse:0.747196\tvalidation_1-rmse:0.796191\n",
      "[1394]\tvalidation_0-rmse:0.747174\tvalidation_1-rmse:0.79618\n",
      "[1395]\tvalidation_0-rmse:0.747156\tvalidation_1-rmse:0.796181\n",
      "[1396]\tvalidation_0-rmse:0.747141\tvalidation_1-rmse:0.796182\n",
      "[1397]\tvalidation_0-rmse:0.747108\tvalidation_1-rmse:0.79617\n",
      "[1398]\tvalidation_0-rmse:0.747072\tvalidation_1-rmse:0.796156\n",
      "[1399]\tvalidation_0-rmse:0.747013\tvalidation_1-rmse:0.796119\n",
      "[1400]\tvalidation_0-rmse:0.746989\tvalidation_1-rmse:0.79611\n",
      "[1401]\tvalidation_0-rmse:0.746946\tvalidation_1-rmse:0.796104\n",
      "[1402]\tvalidation_0-rmse:0.746933\tvalidation_1-rmse:0.796103\n",
      "[1403]\tvalidation_0-rmse:0.746914\tvalidation_1-rmse:0.796101\n",
      "[1404]\tvalidation_0-rmse:0.746899\tvalidation_1-rmse:0.796097\n",
      "[1405]\tvalidation_0-rmse:0.746873\tvalidation_1-rmse:0.796086\n",
      "[1406]\tvalidation_0-rmse:0.746848\tvalidation_1-rmse:0.796083\n",
      "[1407]\tvalidation_0-rmse:0.74684\tvalidation_1-rmse:0.79609\n",
      "[1408]\tvalidation_0-rmse:0.746747\tvalidation_1-rmse:0.796026\n",
      "[1409]\tvalidation_0-rmse:0.746721\tvalidation_1-rmse:0.796028\n",
      "[1410]\tvalidation_0-rmse:0.746702\tvalidation_1-rmse:0.796022\n",
      "[1411]\tvalidation_0-rmse:0.746691\tvalidation_1-rmse:0.796026\n",
      "[1412]\tvalidation_0-rmse:0.746671\tvalidation_1-rmse:0.796025\n",
      "[1413]\tvalidation_0-rmse:0.746649\tvalidation_1-rmse:0.796018\n",
      "[1414]\tvalidation_0-rmse:0.746636\tvalidation_1-rmse:0.796016\n",
      "[1415]\tvalidation_0-rmse:0.746627\tvalidation_1-rmse:0.796022\n",
      "[1416]\tvalidation_0-rmse:0.746606\tvalidation_1-rmse:0.796023\n",
      "[1417]\tvalidation_0-rmse:0.746586\tvalidation_1-rmse:0.796025\n",
      "[1418]\tvalidation_0-rmse:0.746553\tvalidation_1-rmse:0.796014\n",
      "[1419]\tvalidation_0-rmse:0.746532\tvalidation_1-rmse:0.796014\n",
      "[1420]\tvalidation_0-rmse:0.746517\tvalidation_1-rmse:0.796006\n",
      "[1421]\tvalidation_0-rmse:0.746497\tvalidation_1-rmse:0.796004\n",
      "[1422]\tvalidation_0-rmse:0.746453\tvalidation_1-rmse:0.796002\n",
      "[1423]\tvalidation_0-rmse:0.74637\tvalidation_1-rmse:0.795954\n",
      "[1424]\tvalidation_0-rmse:0.746351\tvalidation_1-rmse:0.795955\n",
      "[1425]\tvalidation_0-rmse:0.746312\tvalidation_1-rmse:0.795934\n",
      "[1426]\tvalidation_0-rmse:0.746296\tvalidation_1-rmse:0.795922\n",
      "[1427]\tvalidation_0-rmse:0.746114\tvalidation_1-rmse:0.795764\n",
      "[1428]\tvalidation_0-rmse:0.746103\tvalidation_1-rmse:0.795767\n",
      "[1429]\tvalidation_0-rmse:0.746084\tvalidation_1-rmse:0.795764\n",
      "[1430]\tvalidation_0-rmse:0.746063\tvalidation_1-rmse:0.795759\n",
      "[1431]\tvalidation_0-rmse:0.746044\tvalidation_1-rmse:0.795768\n",
      "[1432]\tvalidation_0-rmse:0.746003\tvalidation_1-rmse:0.795747\n",
      "[1433]\tvalidation_0-rmse:0.745975\tvalidation_1-rmse:0.795745\n",
      "[1434]\tvalidation_0-rmse:0.74595\tvalidation_1-rmse:0.795734\n",
      "[1435]\tvalidation_0-rmse:0.745883\tvalidation_1-rmse:0.795685\n",
      "[1436]\tvalidation_0-rmse:0.745853\tvalidation_1-rmse:0.795673\n",
      "[1437]\tvalidation_0-rmse:0.745835\tvalidation_1-rmse:0.795678\n",
      "[1438]\tvalidation_0-rmse:0.745829\tvalidation_1-rmse:0.795675\n",
      "[1439]\tvalidation_0-rmse:0.745781\tvalidation_1-rmse:0.795661\n",
      "[1440]\tvalidation_0-rmse:0.745761\tvalidation_1-rmse:0.795669\n",
      "[1441]\tvalidation_0-rmse:0.745739\tvalidation_1-rmse:0.795647\n",
      "[1442]\tvalidation_0-rmse:0.745722\tvalidation_1-rmse:0.795643\n",
      "[1443]\tvalidation_0-rmse:0.745708\tvalidation_1-rmse:0.795639\n",
      "[1444]\tvalidation_0-rmse:0.745691\tvalidation_1-rmse:0.79564\n",
      "[1445]\tvalidation_0-rmse:0.745674\tvalidation_1-rmse:0.795643\n",
      "[1446]\tvalidation_0-rmse:0.745632\tvalidation_1-rmse:0.79562\n",
      "[1447]\tvalidation_0-rmse:0.745611\tvalidation_1-rmse:0.795626\n",
      "[1448]\tvalidation_0-rmse:0.745559\tvalidation_1-rmse:0.795603\n",
      "[1449]\tvalidation_0-rmse:0.745546\tvalidation_1-rmse:0.795603\n",
      "[1450]\tvalidation_0-rmse:0.745523\tvalidation_1-rmse:0.795598\n",
      "[1451]\tvalidation_0-rmse:0.7455\tvalidation_1-rmse:0.795593\n",
      "[1452]\tvalidation_0-rmse:0.745468\tvalidation_1-rmse:0.795579\n",
      "[1453]\tvalidation_0-rmse:0.74546\tvalidation_1-rmse:0.795578\n",
      "[1454]\tvalidation_0-rmse:0.745405\tvalidation_1-rmse:0.795541\n",
      "[1455]\tvalidation_0-rmse:0.745383\tvalidation_1-rmse:0.795533\n",
      "[1456]\tvalidation_0-rmse:0.745365\tvalidation_1-rmse:0.795526\n",
      "[1457]\tvalidation_0-rmse:0.745328\tvalidation_1-rmse:0.795513\n",
      "[1458]\tvalidation_0-rmse:0.745314\tvalidation_1-rmse:0.795512\n",
      "[1459]\tvalidation_0-rmse:0.745301\tvalidation_1-rmse:0.795516\n",
      "[1460]\tvalidation_0-rmse:0.745289\tvalidation_1-rmse:0.795525\n",
      "[1461]\tvalidation_0-rmse:0.745237\tvalidation_1-rmse:0.795512\n",
      "[1462]\tvalidation_0-rmse:0.7452\tvalidation_1-rmse:0.795503\n",
      "[1463]\tvalidation_0-rmse:0.74518\tvalidation_1-rmse:0.795493\n",
      "[1464]\tvalidation_0-rmse:0.745163\tvalidation_1-rmse:0.795493\n",
      "[1465]\tvalidation_0-rmse:0.745142\tvalidation_1-rmse:0.795491\n",
      "[1466]\tvalidation_0-rmse:0.745101\tvalidation_1-rmse:0.795479\n",
      "[1467]\tvalidation_0-rmse:0.745061\tvalidation_1-rmse:0.795459\n",
      "[1468]\tvalidation_0-rmse:0.745029\tvalidation_1-rmse:0.795448\n",
      "[1469]\tvalidation_0-rmse:0.745014\tvalidation_1-rmse:0.795453\n",
      "[1470]\tvalidation_0-rmse:0.744993\tvalidation_1-rmse:0.795462\n",
      "[1471]\tvalidation_0-rmse:0.744972\tvalidation_1-rmse:0.795462\n",
      "[1472]\tvalidation_0-rmse:0.744952\tvalidation_1-rmse:0.79545\n",
      "[1473]\tvalidation_0-rmse:0.744935\tvalidation_1-rmse:0.795446\n",
      "[1474]\tvalidation_0-rmse:0.744847\tvalidation_1-rmse:0.795403\n",
      "[1475]\tvalidation_0-rmse:0.744815\tvalidation_1-rmse:0.79539\n",
      "[1476]\tvalidation_0-rmse:0.744805\tvalidation_1-rmse:0.795385\n",
      "[1477]\tvalidation_0-rmse:0.744787\tvalidation_1-rmse:0.795386\n",
      "[1478]\tvalidation_0-rmse:0.744767\tvalidation_1-rmse:0.795385\n",
      "[1479]\tvalidation_0-rmse:0.744748\tvalidation_1-rmse:0.795387\n",
      "[1480]\tvalidation_0-rmse:0.7447\tvalidation_1-rmse:0.795353\n",
      "[1481]\tvalidation_0-rmse:0.744683\tvalidation_1-rmse:0.795344\n",
      "[1482]\tvalidation_0-rmse:0.74467\tvalidation_1-rmse:0.795355\n",
      "[1483]\tvalidation_0-rmse:0.744658\tvalidation_1-rmse:0.795353\n",
      "[1484]\tvalidation_0-rmse:0.744635\tvalidation_1-rmse:0.795361\n",
      "[1485]\tvalidation_0-rmse:0.744625\tvalidation_1-rmse:0.795363\n",
      "[1486]\tvalidation_0-rmse:0.744611\tvalidation_1-rmse:0.795366\n",
      "[1487]\tvalidation_0-rmse:0.74458\tvalidation_1-rmse:0.795367\n",
      "[1488]\tvalidation_0-rmse:0.744556\tvalidation_1-rmse:0.795364\n",
      "[1489]\tvalidation_0-rmse:0.74449\tvalidation_1-rmse:0.795309\n",
      "[1490]\tvalidation_0-rmse:0.744478\tvalidation_1-rmse:0.795301\n",
      "[1491]\tvalidation_0-rmse:0.744465\tvalidation_1-rmse:0.795304\n",
      "[1492]\tvalidation_0-rmse:0.74444\tvalidation_1-rmse:0.795302\n",
      "[1493]\tvalidation_0-rmse:0.744398\tvalidation_1-rmse:0.795285\n",
      "[1494]\tvalidation_0-rmse:0.744365\tvalidation_1-rmse:0.795271\n",
      "[1495]\tvalidation_0-rmse:0.744355\tvalidation_1-rmse:0.795269\n",
      "[1496]\tvalidation_0-rmse:0.744336\tvalidation_1-rmse:0.795267\n",
      "[1497]\tvalidation_0-rmse:0.744324\tvalidation_1-rmse:0.795266\n",
      "[1498]\tvalidation_0-rmse:0.744297\tvalidation_1-rmse:0.79526\n",
      "[1499]\tvalidation_0-rmse:0.744283\tvalidation_1-rmse:0.79526\n",
      "[1500]\tvalidation_0-rmse:0.744247\tvalidation_1-rmse:0.795257\n",
      "[1501]\tvalidation_0-rmse:0.744231\tvalidation_1-rmse:0.79525\n",
      "[1502]\tvalidation_0-rmse:0.744194\tvalidation_1-rmse:0.795233\n",
      "[1503]\tvalidation_0-rmse:0.744133\tvalidation_1-rmse:0.795195\n",
      "[1504]\tvalidation_0-rmse:0.744104\tvalidation_1-rmse:0.795205\n"
     ]
    },
    {
     "name": "stdout",
     "output_type": "stream",
     "text": [
      "[1505]\tvalidation_0-rmse:0.744087\tvalidation_1-rmse:0.795197\n",
      "[1506]\tvalidation_0-rmse:0.744067\tvalidation_1-rmse:0.795193\n",
      "[1507]\tvalidation_0-rmse:0.743678\tvalidation_1-rmse:0.794844\n",
      "[1508]\tvalidation_0-rmse:0.743665\tvalidation_1-rmse:0.794843\n",
      "[1509]\tvalidation_0-rmse:0.743644\tvalidation_1-rmse:0.794849\n",
      "[1510]\tvalidation_0-rmse:0.743628\tvalidation_1-rmse:0.794849\n",
      "[1511]\tvalidation_0-rmse:0.743617\tvalidation_1-rmse:0.79484\n",
      "[1512]\tvalidation_0-rmse:0.743594\tvalidation_1-rmse:0.794831\n",
      "[1513]\tvalidation_0-rmse:0.743577\tvalidation_1-rmse:0.794835\n",
      "[1514]\tvalidation_0-rmse:0.743561\tvalidation_1-rmse:0.794838\n",
      "[1515]\tvalidation_0-rmse:0.743521\tvalidation_1-rmse:0.794851\n",
      "[1516]\tvalidation_0-rmse:0.74348\tvalidation_1-rmse:0.794822\n",
      "[1517]\tvalidation_0-rmse:0.743468\tvalidation_1-rmse:0.794816\n",
      "[1518]\tvalidation_0-rmse:0.743403\tvalidation_1-rmse:0.794785\n",
      "[1519]\tvalidation_0-rmse:0.743304\tvalidation_1-rmse:0.79471\n",
      "[1520]\tvalidation_0-rmse:0.743274\tvalidation_1-rmse:0.794701\n",
      "[1521]\tvalidation_0-rmse:0.743244\tvalidation_1-rmse:0.794698\n",
      "[1522]\tvalidation_0-rmse:0.743204\tvalidation_1-rmse:0.794683\n",
      "[1523]\tvalidation_0-rmse:0.743192\tvalidation_1-rmse:0.794685\n",
      "[1524]\tvalidation_0-rmse:0.743171\tvalidation_1-rmse:0.794679\n",
      "[1525]\tvalidation_0-rmse:0.743161\tvalidation_1-rmse:0.794676\n",
      "[1526]\tvalidation_0-rmse:0.743149\tvalidation_1-rmse:0.79468\n",
      "[1527]\tvalidation_0-rmse:0.743069\tvalidation_1-rmse:0.794622\n",
      "[1528]\tvalidation_0-rmse:0.743058\tvalidation_1-rmse:0.794624\n",
      "[1529]\tvalidation_0-rmse:0.743035\tvalidation_1-rmse:0.794614\n",
      "[1530]\tvalidation_0-rmse:0.743019\tvalidation_1-rmse:0.794613\n",
      "[1531]\tvalidation_0-rmse:0.742983\tvalidation_1-rmse:0.79459\n",
      "[1532]\tvalidation_0-rmse:0.742961\tvalidation_1-rmse:0.79458\n",
      "[1533]\tvalidation_0-rmse:0.742943\tvalidation_1-rmse:0.794585\n",
      "[1534]\tvalidation_0-rmse:0.742931\tvalidation_1-rmse:0.794583\n",
      "[1535]\tvalidation_0-rmse:0.742881\tvalidation_1-rmse:0.79456\n",
      "[1536]\tvalidation_0-rmse:0.742866\tvalidation_1-rmse:0.794555\n",
      "[1537]\tvalidation_0-rmse:0.74285\tvalidation_1-rmse:0.794547\n",
      "[1538]\tvalidation_0-rmse:0.742837\tvalidation_1-rmse:0.794541\n",
      "[1539]\tvalidation_0-rmse:0.742801\tvalidation_1-rmse:0.794529\n",
      "[1540]\tvalidation_0-rmse:0.742791\tvalidation_1-rmse:0.794532\n",
      "[1541]\tvalidation_0-rmse:0.742772\tvalidation_1-rmse:0.794526\n",
      "[1542]\tvalidation_0-rmse:0.742738\tvalidation_1-rmse:0.794522\n",
      "[1543]\tvalidation_0-rmse:0.742687\tvalidation_1-rmse:0.794491\n",
      "[1544]\tvalidation_0-rmse:0.742668\tvalidation_1-rmse:0.794491\n",
      "[1545]\tvalidation_0-rmse:0.742633\tvalidation_1-rmse:0.794497\n",
      "[1546]\tvalidation_0-rmse:0.742618\tvalidation_1-rmse:0.794497\n",
      "[1547]\tvalidation_0-rmse:0.742599\tvalidation_1-rmse:0.794507\n",
      "[1548]\tvalidation_0-rmse:0.742591\tvalidation_1-rmse:0.794511\n",
      "[1549]\tvalidation_0-rmse:0.742578\tvalidation_1-rmse:0.794509\n",
      "[1550]\tvalidation_0-rmse:0.742561\tvalidation_1-rmse:0.794513\n",
      "[1551]\tvalidation_0-rmse:0.742529\tvalidation_1-rmse:0.794504\n",
      "[1552]\tvalidation_0-rmse:0.742517\tvalidation_1-rmse:0.794514\n",
      "[1553]\tvalidation_0-rmse:0.742493\tvalidation_1-rmse:0.794494\n",
      "Stopping. Best iteration:\n",
      "[1543]\tvalidation_0-rmse:0.742687\tvalidation_1-rmse:0.794491\n",
      "\n"
     ]
    },
    {
     "data": {
      "text/plain": [
       "23965.067734003067"
      ]
     },
     "execution_count": 7,
     "metadata": {},
     "output_type": "execute_result"
    }
   ],
   "source": [
    "ts = time.time()\n",
    "\n",
    "model = XGBRegressor(\n",
    "    max_depth=8,\n",
    "    n_estimators=3000,\n",
    "    n_jobs=12,\n",
    "    min_child_weight=300, \n",
    "    colsample_bytree=0.8, \n",
    "    subsample=0.8, \n",
    "    eta=0.3,    \n",
    "    seed=42)\n",
    "\n",
    "model.fit(\n",
    "    X_train, \n",
    "    Y_train, \n",
    "    eval_metric=\"rmse\", \n",
    "    eval_set=[(X_train, Y_train), (X_valid, Y_valid)], \n",
    "    verbose=True, \n",
    "    early_stopping_rounds = 10)\n",
    "\n",
    "time.time() - ts"
   ]
  },
  {
   "cell_type": "code",
   "execution_count": 9,
   "metadata": {},
   "outputs": [],
   "source": [
    "test  = pd.read_csv('test.csv').set_index('ID')\n",
    "test.loc[test.shop_id == 0, 'shop_id'] = 57\n",
    "test.loc[test.shop_id == 1, 'shop_id'] = 58\n",
    "test.loc[test.shop_id == 10, 'shop_id'] = 11"
   ]
  },
  {
   "cell_type": "code",
   "execution_count": 10,
   "metadata": {
    "_uuid": "8ff5a80a22d046c5ca1cb27e938c757b607551d2"
   },
   "outputs": [],
   "source": [
    "Y_pred = model.predict(X_valid).clip(0, 20)\n",
    "Y_test = model.predict(X_test).clip(0, 20)\n",
    "\n",
    "submission = pd.DataFrame({\n",
    "    \"ID\": test.index, \n",
    "    \"item_cnt_month\": Y_test\n",
    "})\n",
    "submission.to_csv('./submission/xgb_submission_v9.csv', index=False)\n",
    "\n",
    "# save predictions for an ensemble\n",
    "pickle.dump(Y_pred, open('./submission/xgb_train_v9.pickle', 'wb'))\n",
    "pickle.dump(Y_test, open('./submission/xgb_test_v9.pickle', 'wb'))"
   ]
  },
  {
   "cell_type": "code",
   "execution_count": 11,
   "metadata": {
    "_uuid": "c8adc7c93323eb77baeceb2e8db17390b5c4deb3",
    "scrolled": true
   },
   "outputs": [
    {
     "data": {
      "text/plain": [
       "<matplotlib.axes._subplots.AxesSubplot at 0x7f48de3e0d68>"
      ]
     },
     "execution_count": 11,
     "metadata": {},
     "output_type": "execute_result"
    },
    {
     "data": {
      "image/png": "[encoded data removed]",
      "text/plain": [
       "<Figure size 720x1008 with 1 Axes>"
      ]
     },
     "metadata": {
      "needs_background": "light"
     },
     "output_type": "display_data"
    }
   ],
   "source": [
    "plot_features(model, (10,14))"
   ]
  }
 ],
 "metadata": {
  "kernelspec": {
   "display_name": "Python 3",
   "language": "python",
   "name": "python3"
  },
  "language_info": {
   "codemirror_mode": {
    "name": "ipython",
    "version": 3
   },
   "file_extension": ".py",
   "mimetype": "text/x-python",
   "name": "python",
   "nbconvert_exporter": "python",
   "pygments_lexer": "ipython3",
   "version": "3.5.2"
  }
 },
 "nbformat": 4,
 "nbformat_minor": 1
}
